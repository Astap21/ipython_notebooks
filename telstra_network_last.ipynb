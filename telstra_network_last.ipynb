{
 "cells": [
  {
   "cell_type": "code",
   "execution_count": 3,
   "metadata": {
    "collapsed": true
   },
   "outputs": [],
   "source": [
    "import pandas as pd\n",
    "import numpy as np\n",
    "import os"
   ]
  },
  {
   "cell_type": "markdown",
   "metadata": {},
   "source": [
    "# Первичный анализ."
   ]
  },
  {
   "cell_type": "markdown",
   "metadata": {},
   "source": [
    "Прочитаем csv файлы."
   ]
  },
  {
   "cell_type": "code",
   "execution_count": 4,
   "metadata": {
    "collapsed": true
   },
   "outputs": [],
   "source": [
    "train = pd.read_csv('train.csv')\n",
    "event_type = pd.read_csv('event_type.csv')\n",
    "log_feature = pd.read_csv('log_feature.csv')\n",
    "resource_type = pd.read_csv('resource_type.csv')\n",
    "sample_submission = pd.read_csv('sample_submission.csv')\n",
    "severity_type = pd.read_csv('severity_type.csv')\n",
    "test = pd.read_csv('test.csv')"
   ]
  },
  {
   "cell_type": "markdown",
   "metadata": {},
   "source": [
    "Проанализируем таблицы."
   ]
  },
  {
   "cell_type": "code",
   "execution_count": 4,
   "metadata": {
    "collapsed": false
   },
   "outputs": [
    {
     "data": {
      "text/html": [
       "<div>\n",
       "<table border=\"1\" class=\"dataframe\">\n",
       "  <thead>\n",
       "    <tr style=\"text-align: right;\">\n",
       "      <th></th>\n",
       "      <th>id</th>\n",
       "      <th>location</th>\n",
       "      <th>fault_severity</th>\n",
       "    </tr>\n",
       "  </thead>\n",
       "  <tbody>\n",
       "    <tr>\n",
       "      <th>0</th>\n",
       "      <td>14121</td>\n",
       "      <td>location 118</td>\n",
       "      <td>1</td>\n",
       "    </tr>\n",
       "    <tr>\n",
       "      <th>1</th>\n",
       "      <td>9320</td>\n",
       "      <td>location 91</td>\n",
       "      <td>0</td>\n",
       "    </tr>\n",
       "    <tr>\n",
       "      <th>2</th>\n",
       "      <td>14394</td>\n",
       "      <td>location 152</td>\n",
       "      <td>1</td>\n",
       "    </tr>\n",
       "    <tr>\n",
       "      <th>3</th>\n",
       "      <td>8218</td>\n",
       "      <td>location 931</td>\n",
       "      <td>1</td>\n",
       "    </tr>\n",
       "    <tr>\n",
       "      <th>4</th>\n",
       "      <td>14804</td>\n",
       "      <td>location 120</td>\n",
       "      <td>0</td>\n",
       "    </tr>\n",
       "  </tbody>\n",
       "</table>\n",
       "</div>"
      ],
      "text/plain": [
       "      id      location  fault_severity\n",
       "0  14121  location 118               1\n",
       "1   9320   location 91               0\n",
       "2  14394  location 152               1\n",
       "3   8218  location 931               1\n",
       "4  14804  location 120               0"
      ]
     },
     "execution_count": 4,
     "metadata": {},
     "output_type": "execute_result"
    }
   ],
   "source": [
    "train.head()"
   ]
  },
  {
   "cell_type": "code",
   "execution_count": 5,
   "metadata": {
    "collapsed": false
   },
   "outputs": [
    {
     "data": {
      "text/plain": [
       "True"
      ]
     },
     "execution_count": 5,
     "metadata": {},
     "output_type": "execute_result"
    }
   ],
   "source": [
    "len(train['id']) == len(train['id'].drop_duplicates())"
   ]
  },
  {
   "cell_type": "markdown",
   "metadata": {},
   "source": [
    "Дубликатов нету."
   ]
  },
  {
   "cell_type": "code",
   "execution_count": 6,
   "metadata": {
    "collapsed": false
   },
   "outputs": [
    {
     "data": {
      "text/html": [
       "<div>\n",
       "<table border=\"1\" class=\"dataframe\">\n",
       "  <thead>\n",
       "    <tr style=\"text-align: right;\">\n",
       "      <th></th>\n",
       "      <th>id</th>\n",
       "      <th>event_type</th>\n",
       "    </tr>\n",
       "  </thead>\n",
       "  <tbody>\n",
       "    <tr>\n",
       "      <th>0</th>\n",
       "      <td>6597</td>\n",
       "      <td>event_type 11</td>\n",
       "    </tr>\n",
       "    <tr>\n",
       "      <th>1</th>\n",
       "      <td>8011</td>\n",
       "      <td>event_type 15</td>\n",
       "    </tr>\n",
       "    <tr>\n",
       "      <th>2</th>\n",
       "      <td>2597</td>\n",
       "      <td>event_type 15</td>\n",
       "    </tr>\n",
       "    <tr>\n",
       "      <th>3</th>\n",
       "      <td>5022</td>\n",
       "      <td>event_type 15</td>\n",
       "    </tr>\n",
       "    <tr>\n",
       "      <th>4</th>\n",
       "      <td>5022</td>\n",
       "      <td>event_type 11</td>\n",
       "    </tr>\n",
       "  </tbody>\n",
       "</table>\n",
       "</div>"
      ],
      "text/plain": [
       "     id     event_type\n",
       "0  6597  event_type 11\n",
       "1  8011  event_type 15\n",
       "2  2597  event_type 15\n",
       "3  5022  event_type 15\n",
       "4  5022  event_type 11"
      ]
     },
     "execution_count": 6,
     "metadata": {},
     "output_type": "execute_result"
    }
   ],
   "source": [
    "event_type.head()"
   ]
  },
  {
   "cell_type": "code",
   "execution_count": 7,
   "metadata": {
    "collapsed": false
   },
   "outputs": [
    {
     "data": {
      "text/plain": [
       "1.6801423027166882"
      ]
     },
     "execution_count": 7,
     "metadata": {},
     "output_type": "execute_result"
    }
   ],
   "source": [
    "np.mean(event_type.groupby('id')['event_type'].count())"
   ]
  },
  {
   "cell_type": "markdown",
   "metadata": {},
   "source": [
    "На каждый id в среднем 1.7 ~ 2 типа события. Думаю надо делать dummy для каждого события и цеплять к основной таблице. Сколько всего событий итересно?"
   ]
  },
  {
   "cell_type": "code",
   "execution_count": 8,
   "metadata": {
    "collapsed": false
   },
   "outputs": [
    {
     "data": {
      "text/plain": [
       "53"
      ]
     },
     "execution_count": 8,
     "metadata": {},
     "output_type": "execute_result"
    }
   ],
   "source": [
    "len(event_type.groupby('event_type')['id'].count())"
   ]
  },
  {
   "cell_type": "markdown",
   "metadata": {},
   "source": [
    "53 типа события. Ладно, окей. Теперь log_feature."
   ]
  },
  {
   "cell_type": "code",
   "execution_count": 10,
   "metadata": {
    "collapsed": false
   },
   "outputs": [
    {
     "data": {
      "text/html": [
       "<div>\n",
       "<table border=\"1\" class=\"dataframe\">\n",
       "  <thead>\n",
       "    <tr style=\"text-align: right;\">\n",
       "      <th></th>\n",
       "      <th>id</th>\n",
       "      <th>log_feature</th>\n",
       "      <th>volume</th>\n",
       "    </tr>\n",
       "  </thead>\n",
       "  <tbody>\n",
       "    <tr>\n",
       "      <th>0</th>\n",
       "      <td>6597</td>\n",
       "      <td>feature 68</td>\n",
       "      <td>6</td>\n",
       "    </tr>\n",
       "    <tr>\n",
       "      <th>1</th>\n",
       "      <td>8011</td>\n",
       "      <td>feature 68</td>\n",
       "      <td>7</td>\n",
       "    </tr>\n",
       "    <tr>\n",
       "      <th>2</th>\n",
       "      <td>2597</td>\n",
       "      <td>feature 68</td>\n",
       "      <td>1</td>\n",
       "    </tr>\n",
       "    <tr>\n",
       "      <th>3</th>\n",
       "      <td>5022</td>\n",
       "      <td>feature 172</td>\n",
       "      <td>2</td>\n",
       "    </tr>\n",
       "    <tr>\n",
       "      <th>4</th>\n",
       "      <td>5022</td>\n",
       "      <td>feature 56</td>\n",
       "      <td>1</td>\n",
       "    </tr>\n",
       "  </tbody>\n",
       "</table>\n",
       "</div>"
      ],
      "text/plain": [
       "     id  log_feature  volume\n",
       "0  6597   feature 68       6\n",
       "1  8011   feature 68       7\n",
       "2  2597   feature 68       1\n",
       "3  5022  feature 172       2\n",
       "4  5022   feature 56       1"
      ]
     },
     "execution_count": 10,
     "metadata": {},
     "output_type": "execute_result"
    }
   ],
   "source": [
    "log_feature.head()"
   ]
  },
  {
   "cell_type": "code",
   "execution_count": 11,
   "metadata": {
    "collapsed": false
   },
   "outputs": [
    {
     "data": {
      "text/plain": [
       "386"
      ]
     },
     "execution_count": 11,
     "metadata": {},
     "output_type": "execute_result"
    }
   ],
   "source": [
    "len(log_feature.groupby('log_feature')['id'].count())"
   ]
  },
  {
   "cell_type": "markdown",
   "metadata": {},
   "source": [
    "Ого, столько фич! Наверное нужно будет делать PCA."
   ]
  },
  {
   "cell_type": "code",
   "execution_count": 12,
   "metadata": {
    "collapsed": false
   },
   "outputs": [
    {
     "data": {
      "text/html": [
       "<div>\n",
       "<table border=\"1\" class=\"dataframe\">\n",
       "  <thead>\n",
       "    <tr style=\"text-align: right;\">\n",
       "      <th></th>\n",
       "      <th>id</th>\n",
       "      <th>resource_type</th>\n",
       "    </tr>\n",
       "  </thead>\n",
       "  <tbody>\n",
       "    <tr>\n",
       "      <th>0</th>\n",
       "      <td>6597</td>\n",
       "      <td>resource_type 8</td>\n",
       "    </tr>\n",
       "    <tr>\n",
       "      <th>1</th>\n",
       "      <td>8011</td>\n",
       "      <td>resource_type 8</td>\n",
       "    </tr>\n",
       "    <tr>\n",
       "      <th>2</th>\n",
       "      <td>2597</td>\n",
       "      <td>resource_type 8</td>\n",
       "    </tr>\n",
       "    <tr>\n",
       "      <th>3</th>\n",
       "      <td>5022</td>\n",
       "      <td>resource_type 8</td>\n",
       "    </tr>\n",
       "    <tr>\n",
       "      <th>4</th>\n",
       "      <td>6852</td>\n",
       "      <td>resource_type 8</td>\n",
       "    </tr>\n",
       "  </tbody>\n",
       "</table>\n",
       "</div>"
      ],
      "text/plain": [
       "     id    resource_type\n",
       "0  6597  resource_type 8\n",
       "1  8011  resource_type 8\n",
       "2  2597  resource_type 8\n",
       "3  5022  resource_type 8\n",
       "4  6852  resource_type 8"
      ]
     },
     "execution_count": 12,
     "metadata": {},
     "output_type": "execute_result"
    }
   ],
   "source": [
    "resource_type.head()"
   ]
  },
  {
   "cell_type": "code",
   "execution_count": 13,
   "metadata": {
    "collapsed": false
   },
   "outputs": [
    {
     "data": {
      "text/html": [
       "<div>\n",
       "<table border=\"1\" class=\"dataframe\">\n",
       "  <thead>\n",
       "    <tr style=\"text-align: right;\">\n",
       "      <th></th>\n",
       "      <th>id</th>\n",
       "    </tr>\n",
       "    <tr>\n",
       "      <th>resource_type</th>\n",
       "      <th></th>\n",
       "    </tr>\n",
       "  </thead>\n",
       "  <tbody>\n",
       "    <tr>\n",
       "      <th>resource_type 1</th>\n",
       "      <td>58</td>\n",
       "    </tr>\n",
       "    <tr>\n",
       "      <th>resource_type 10</th>\n",
       "      <td>73</td>\n",
       "    </tr>\n",
       "    <tr>\n",
       "      <th>resource_type 2</th>\n",
       "      <td>8918</td>\n",
       "    </tr>\n",
       "    <tr>\n",
       "      <th>resource_type 3</th>\n",
       "      <td>145</td>\n",
       "    </tr>\n",
       "    <tr>\n",
       "      <th>resource_type 4</th>\n",
       "      <td>330</td>\n",
       "    </tr>\n",
       "    <tr>\n",
       "      <th>resource_type 5</th>\n",
       "      <td>14</td>\n",
       "    </tr>\n",
       "    <tr>\n",
       "      <th>resource_type 6</th>\n",
       "      <td>582</td>\n",
       "    </tr>\n",
       "    <tr>\n",
       "      <th>resource_type 7</th>\n",
       "      <td>498</td>\n",
       "    </tr>\n",
       "    <tr>\n",
       "      <th>resource_type 8</th>\n",
       "      <td>10268</td>\n",
       "    </tr>\n",
       "    <tr>\n",
       "      <th>resource_type 9</th>\n",
       "      <td>190</td>\n",
       "    </tr>\n",
       "  </tbody>\n",
       "</table>\n",
       "</div>"
      ],
      "text/plain": [
       "                     id\n",
       "resource_type          \n",
       "resource_type 1      58\n",
       "resource_type 10     73\n",
       "resource_type 2    8918\n",
       "resource_type 3     145\n",
       "resource_type 4     330\n",
       "resource_type 5      14\n",
       "resource_type 6     582\n",
       "resource_type 7     498\n",
       "resource_type 8   10268\n",
       "resource_type 9     190"
      ]
     },
     "execution_count": 13,
     "metadata": {},
     "output_type": "execute_result"
    }
   ],
   "source": [
    "resource_type.groupby('resource_type').count()"
   ]
  },
  {
   "cell_type": "code",
   "execution_count": 14,
   "metadata": {
    "collapsed": false
   },
   "outputs": [
    {
     "data": {
      "text/plain": [
       "False"
      ]
     },
     "execution_count": 14,
     "metadata": {},
     "output_type": "execute_result"
    }
   ],
   "source": [
    "len(resource_type['id']) == len(resource_type['id'].drop_duplicates())"
   ]
  },
  {
   "cell_type": "markdown",
   "metadata": {},
   "source": [
    "Типов источника всего 10. Теперь Severity_type."
   ]
  },
  {
   "cell_type": "code",
   "execution_count": 15,
   "metadata": {
    "collapsed": false
   },
   "outputs": [
    {
     "data": {
      "text/html": [
       "<div>\n",
       "<table border=\"1\" class=\"dataframe\">\n",
       "  <thead>\n",
       "    <tr style=\"text-align: right;\">\n",
       "      <th></th>\n",
       "      <th>id</th>\n",
       "      <th>severity_type</th>\n",
       "    </tr>\n",
       "  </thead>\n",
       "  <tbody>\n",
       "    <tr>\n",
       "      <th>0</th>\n",
       "      <td>6597</td>\n",
       "      <td>severity_type 2</td>\n",
       "    </tr>\n",
       "    <tr>\n",
       "      <th>1</th>\n",
       "      <td>8011</td>\n",
       "      <td>severity_type 2</td>\n",
       "    </tr>\n",
       "    <tr>\n",
       "      <th>2</th>\n",
       "      <td>2597</td>\n",
       "      <td>severity_type 2</td>\n",
       "    </tr>\n",
       "    <tr>\n",
       "      <th>3</th>\n",
       "      <td>5022</td>\n",
       "      <td>severity_type 1</td>\n",
       "    </tr>\n",
       "    <tr>\n",
       "      <th>4</th>\n",
       "      <td>6852</td>\n",
       "      <td>severity_type 1</td>\n",
       "    </tr>\n",
       "  </tbody>\n",
       "</table>\n",
       "</div>"
      ],
      "text/plain": [
       "     id    severity_type\n",
       "0  6597  severity_type 2\n",
       "1  8011  severity_type 2\n",
       "2  2597  severity_type 2\n",
       "3  5022  severity_type 1\n",
       "4  6852  severity_type 1"
      ]
     },
     "execution_count": 15,
     "metadata": {},
     "output_type": "execute_result"
    }
   ],
   "source": [
    "severity_type.head()"
   ]
  },
  {
   "cell_type": "code",
   "execution_count": 16,
   "metadata": {
    "collapsed": false
   },
   "outputs": [
    {
     "data": {
      "text/html": [
       "<div>\n",
       "<table border=\"1\" class=\"dataframe\">\n",
       "  <thead>\n",
       "    <tr style=\"text-align: right;\">\n",
       "      <th></th>\n",
       "      <th>id</th>\n",
       "    </tr>\n",
       "    <tr>\n",
       "      <th>severity_type</th>\n",
       "      <th></th>\n",
       "    </tr>\n",
       "  </thead>\n",
       "  <tbody>\n",
       "    <tr>\n",
       "      <th>severity_type 1</th>\n",
       "      <td>8728</td>\n",
       "    </tr>\n",
       "    <tr>\n",
       "      <th>severity_type 2</th>\n",
       "      <td>8737</td>\n",
       "    </tr>\n",
       "    <tr>\n",
       "      <th>severity_type 3</th>\n",
       "      <td>8</td>\n",
       "    </tr>\n",
       "    <tr>\n",
       "      <th>severity_type 4</th>\n",
       "      <td>1014</td>\n",
       "    </tr>\n",
       "    <tr>\n",
       "      <th>severity_type 5</th>\n",
       "      <td>65</td>\n",
       "    </tr>\n",
       "  </tbody>\n",
       "</table>\n",
       "</div>"
      ],
      "text/plain": [
       "                   id\n",
       "severity_type        \n",
       "severity_type 1  8728\n",
       "severity_type 2  8737\n",
       "severity_type 3     8\n",
       "severity_type 4  1014\n",
       "severity_type 5    65"
      ]
     },
     "execution_count": 16,
     "metadata": {},
     "output_type": "execute_result"
    }
   ],
   "source": [
    "severity_type.groupby('severity_type').count()"
   ]
  },
  {
   "cell_type": "markdown",
   "metadata": {},
   "source": [
    "И вот образец того, что должно получиться на выходе."
   ]
  },
  {
   "cell_type": "code",
   "execution_count": 17,
   "metadata": {
    "collapsed": false
   },
   "outputs": [
    {
     "data": {
      "text/plain": [
       "True"
      ]
     },
     "execution_count": 17,
     "metadata": {},
     "output_type": "execute_result"
    }
   ],
   "source": [
    "len(severity_type['id']) == len(severity_type['id'].drop_duplicates())"
   ]
  },
  {
   "cell_type": "code",
   "execution_count": 18,
   "metadata": {
    "collapsed": false
   },
   "outputs": [
    {
     "data": {
      "text/plain": [
       "18552"
      ]
     },
     "execution_count": 18,
     "metadata": {},
     "output_type": "execute_result"
    }
   ],
   "source": [
    "len(severity_type)"
   ]
  },
  {
   "cell_type": "code",
   "execution_count": 19,
   "metadata": {
    "collapsed": false
   },
   "outputs": [
    {
     "data": {
      "text/html": [
       "<div>\n",
       "<table border=\"1\" class=\"dataframe\">\n",
       "  <thead>\n",
       "    <tr style=\"text-align: right;\">\n",
       "      <th></th>\n",
       "      <th>id</th>\n",
       "      <th>predict_0</th>\n",
       "      <th>predict_1</th>\n",
       "      <th>predict_2</th>\n",
       "    </tr>\n",
       "  </thead>\n",
       "  <tbody>\n",
       "    <tr>\n",
       "      <th>0</th>\n",
       "      <td>11066</td>\n",
       "      <td>0</td>\n",
       "      <td>1</td>\n",
       "      <td>0</td>\n",
       "    </tr>\n",
       "    <tr>\n",
       "      <th>1</th>\n",
       "      <td>18000</td>\n",
       "      <td>0</td>\n",
       "      <td>1</td>\n",
       "      <td>0</td>\n",
       "    </tr>\n",
       "    <tr>\n",
       "      <th>2</th>\n",
       "      <td>16964</td>\n",
       "      <td>0</td>\n",
       "      <td>1</td>\n",
       "      <td>0</td>\n",
       "    </tr>\n",
       "    <tr>\n",
       "      <th>3</th>\n",
       "      <td>4795</td>\n",
       "      <td>0</td>\n",
       "      <td>1</td>\n",
       "      <td>0</td>\n",
       "    </tr>\n",
       "    <tr>\n",
       "      <th>4</th>\n",
       "      <td>3392</td>\n",
       "      <td>0</td>\n",
       "      <td>1</td>\n",
       "      <td>0</td>\n",
       "    </tr>\n",
       "  </tbody>\n",
       "</table>\n",
       "</div>"
      ],
      "text/plain": [
       "      id  predict_0  predict_1  predict_2\n",
       "0  11066          0          1          0\n",
       "1  18000          0          1          0\n",
       "2  16964          0          1          0\n",
       "3   4795          0          1          0\n",
       "4   3392          0          1          0"
      ]
     },
     "execution_count": 19,
     "metadata": {},
     "output_type": "execute_result"
    }
   ],
   "source": [
    "sample_submission.head()"
   ]
  },
  {
   "cell_type": "markdown",
   "metadata": {},
   "source": [
    "Резюмирую и намечу план действий. И так:\n",
    "\n",
    "1. В train храняться сведения о сбое - где он произошел и какова его тяжесть (0 - нет сбоя, 1 - средний сбой, 2 - сильный сбой). Задача заключается в том, чтобы предсказывать тяжесть сбоя по имеющимся данным. Каждая строка - это точка во временени, о которой нам известны некоторые данные и был ли там сбой и какова его тяжесть.\n",
    "2. В табличке event_type храниться информацию о том, какие события происходили в точку времени. Связывается с основной таблицей по id (как и все остальные).\n",
    "3. log_feature - это основноый массив переменных, значения которых так же связаны с точкой во времение (основной таблицей).\n",
    "4. В resource_type храниться сведения об источнике. Из описания не очень понятно что-то. Будем считать ее одной переменной.\n",
    "5. severity_type - тип сбоя. В описании так же написано, что здесь тут храняться и типы предупреждений.\n",
    "6. sample_submission - пример в каком формате загружать на Kaggle.\n",
    "\n",
    "И так что нужно сделать? Предсказать тяжесть ошибки. Значит это будет многоклассовый классификатор, буду пробывать логистическую регрессию, лес, бустинг, svm. Основной мерой качества будет roc_auc - никакой матрицы цен ошибок не предоставляется. План действий:\n",
    "\n",
    "1. Собрать данные в одну таблицу для тренировочной и тестовой выборки.\n",
    "2. Произвести отбор переменных: посмотреть на корреляции, коэффициенты в регрессии, важность признаков в лесе и в svm.\n",
    "3. Попробывать понизить размерность с помощью PCA.\n",
    "4. Обучить набор моделей с кросс-валидацией по kfold и посмотреть какой будет roc_auc\n",
    "5. Выбрать лучшую модель, загрузить на Kaggle и посмотреть какие у меня успехи; почитать форум - что делает народ.\n",
    "6. Оттюнить параметры модели с помощью grid_search.\n",
    "7. Еще раз загрузить на Kaggle."
   ]
  },
  {
   "cell_type": "markdown",
   "metadata": {},
   "source": [
    "# Обработка данных. "
   ]
  },
  {
   "cell_type": "markdown",
   "metadata": {},
   "source": [
    "Для катеториальных признаков будем создавать колонки на каждую категорию с 0 либо 1, а для числовых - колонку для каждой переменной со значением."
   ]
  },
  {
   "cell_type": "code",
   "execution_count": 496,
   "metadata": {
    "collapsed": true
   },
   "outputs": [],
   "source": [
    "df = train.copy() # создадим копию фрейма + потом можно функцию замутить."
   ]
  },
  {
   "cell_type": "markdown",
   "metadata": {},
   "source": [
    "Преобразуем локацию. (потом выяснилось, что в тестовом сете есть локации, которых нету в тренировочных. Следовательно я не использую эту переменную. Хотя наверное можно объединить два сета и сделать так, чтобы модель знала все возможные локации)."
   ]
  },
  {
   "cell_type": "code",
   "execution_count": 497,
   "metadata": {
    "collapsed": false
   },
   "outputs": [],
   "source": [
    "location = df[['id','location']]\n",
    "df.drop(['location'],axis=1,inplace=True)\n",
    "location_dummies = pd.get_dummies(location).groupby('id').sum()\n",
    "df = df.merge(location_dummies.reset_index(),\n",
    "            how='left',on='id')"
   ]
  },
  {
   "cell_type": "markdown",
   "metadata": {},
   "source": [
    "Добавляем события."
   ]
  },
  {
   "cell_type": "code",
   "execution_count": 22,
   "metadata": {
    "collapsed": false
   },
   "outputs": [],
   "source": [
    "event_dummies = pd.get_dummies(event_type).groupby('id').sum()\n",
    "df = df.merge(event_dummies.reset_index(),\n",
    "            how='left',on='id')"
   ]
  },
  {
   "cell_type": "markdown",
   "metadata": {},
   "source": [
    "Добавляем переменные."
   ]
  },
  {
   "cell_type": "code",
   "execution_count": 23,
   "metadata": {
    "collapsed": false
   },
   "outputs": [],
   "source": [
    "features = log_feature.pivot_table('volume','id','log_feature','sum')\n",
    "df = df.merge(features.reset_index(),\n",
    "            how='left',on='id')"
   ]
  },
  {
   "cell_type": "code",
   "execution_count": 24,
   "metadata": {
    "collapsed": false
   },
   "outputs": [
    {
     "data": {
      "text/plain": [
       "1370"
      ]
     },
     "execution_count": 24,
     "metadata": {},
     "output_type": "execute_result"
    }
   ],
   "source": [
    "len(df.columns)"
   ]
  },
  {
   "cell_type": "markdown",
   "metadata": {},
   "source": [
    "Уже какой-то трэш. Наверное лучше будет хранить все это в разреженных матрицах. Присоединит тип источника"
   ]
  },
  {
   "cell_type": "code",
   "execution_count": 25,
   "metadata": {
    "collapsed": false
   },
   "outputs": [],
   "source": [
    "resource_dummies = pd.get_dummies(resource_type).groupby('id').sum()\n",
    "df = df.merge(resource_dummies.reset_index(),\n",
    "            how='left',on='id')"
   ]
  },
  {
   "cell_type": "code",
   "execution_count": 26,
   "metadata": {
    "collapsed": false
   },
   "outputs": [
    {
     "data": {
      "text/plain": [
       "1380"
      ]
     },
     "execution_count": 26,
     "metadata": {},
     "output_type": "execute_result"
    }
   ],
   "source": [
    "len(df.columns)"
   ]
  },
  {
   "cell_type": "markdown",
   "metadata": {},
   "source": [
    "Ну и тип ошибки остался"
   ]
  },
  {
   "cell_type": "code",
   "execution_count": 27,
   "metadata": {
    "collapsed": true
   },
   "outputs": [],
   "source": [
    "severity_dummies = pd.get_dummies(severity_type).groupby('id').sum()\n",
    "df = df.merge(severity_dummies.reset_index(),\n",
    "            how='left',on='id')"
   ]
  },
  {
   "cell_type": "code",
   "execution_count": 28,
   "metadata": {
    "collapsed": false
   },
   "outputs": [
    {
     "data": {
      "text/plain": [
       "1385"
      ]
     },
     "execution_count": 28,
     "metadata": {},
     "output_type": "execute_result"
    }
   ],
   "source": [
    "len(df.columns)"
   ]
  },
  {
   "cell_type": "code",
   "execution_count": 79,
   "metadata": {
    "collapsed": false
   },
   "outputs": [
    {
     "data": {
      "text/plain": [
       "(7381, 1384)"
      ]
     },
     "execution_count": 79,
     "metadata": {},
     "output_type": "execute_result"
    }
   ],
   "source": [
    "df.shape"
   ]
  },
  {
   "cell_type": "markdown",
   "metadata": {},
   "source": [
    "Мощная получилась табличка!) Теперь, чтобы все это не делать для тестовой выборки - быстренько скопипастим все это в функцию."
   ]
  },
  {
   "cell_type": "code",
   "execution_count": 106,
   "metadata": {
    "collapsed": true
   },
   "outputs": [],
   "source": [
    "def join_data(data):\n",
    "    df = data.copy()\n",
    "    \n",
    "    #location = df[['id','location']]\n",
    "    #df.drop(['location'],axis=1,inplace=True)\n",
    "    #location_dummies = pd.get_dummies(location).groupby('id').sum()\n",
    "    #df = df.merge(location_dummies.reset_index(),\n",
    "     #       how='left',on='id')\n",
    "        \n",
    "    df.drop('location',axis=1,inplace=True)\n",
    "    \n",
    "    event_dummies = pd.get_dummies(event_type).groupby('id').sum()\n",
    "    df = df.merge(event_dummies.reset_index(),\n",
    "            how='left',on='id')\n",
    "    \n",
    "    features = log_feature.pivot_table('volume','id','log_feature','sum')\n",
    "    df = df.merge(features.reset_index(),\n",
    "            how='left',on='id')\n",
    "    \n",
    "    resource_dummies = pd.get_dummies(resource_type).groupby('id').sum()\n",
    "    df = df.merge(resource_dummies.reset_index(),\n",
    "            how='left',on='id')\n",
    "    \n",
    "    severity_dummies = pd.get_dummies(severity_type).groupby('id').sum()\n",
    "    df = df.merge(severity_dummies.reset_index(),\n",
    "            how='left',on='id')\n",
    "    \n",
    "    return df"
   ]
  },
  {
   "cell_type": "code",
   "execution_count": 107,
   "metadata": {
    "collapsed": false
   },
   "outputs": [
    {
     "data": {
      "text/plain": [
       "(11171, 455)"
      ]
     },
     "execution_count": 107,
     "metadata": {},
     "output_type": "execute_result"
    }
   ],
   "source": [
    "join_data(test).shape"
   ]
  },
  {
   "cell_type": "markdown",
   "metadata": {},
   "source": [
    "Все верно - в тестовых данных нету колонки со степенью тяжести ошибки. Ее надо предсказать). Этот дата сет мы отложим до самого финала. Ну тоже, давате уже что-нибудь обучим."
   ]
  },
  {
   "cell_type": "code",
   "execution_count": 108,
   "metadata": {
    "collapsed": true
   },
   "outputs": [],
   "source": [
    "df = join_data(train)\n",
    "df.drop('id',axis=1,inplace=True) # id нам больше не нужен"
   ]
  },
  {
   "cell_type": "markdown",
   "metadata": {},
   "source": [
    "Передвинем целевую переменную в начало фрейма."
   ]
  },
  {
   "cell_type": "code",
   "execution_count": 109,
   "metadata": {
    "collapsed": false
   },
   "outputs": [],
   "source": [
    "cols = list(df.columns)\n",
    "cols.insert(0,cols.pop(cols.index('fault_severity')))\n",
    "df = df.ix[:,cols]"
   ]
  },
  {
   "cell_type": "markdown",
   "metadata": {},
   "source": [
    "Удалим nan"
   ]
  },
  {
   "cell_type": "code",
   "execution_count": 110,
   "metadata": {
    "collapsed": true
   },
   "outputs": [],
   "source": [
    "df.fillna(0,inplace=True)"
   ]
  },
  {
   "cell_type": "code",
   "execution_count": 111,
   "metadata": {
    "collapsed": false
   },
   "outputs": [],
   "source": [
    "X, y = df.ix[:,1:], df.ix[:,0]"
   ]
  },
  {
   "cell_type": "code",
   "execution_count": 112,
   "metadata": {
    "collapsed": false
   },
   "outputs": [],
   "source": [
    "from sklearn.cross_validation import KFold, cross_val_score, train_test_split, cross_val_predict\n",
    "from sklearn.metrics import classification_report, confusion_matrix, roc_curve, accuracy_score\n",
    "from sklearn.ensemble import RandomForestClassifier, GradientBoostingClassifier\n",
    "from sklearn.linear_model import LogisticRegression"
   ]
  },
  {
   "cell_type": "code",
   "execution_count": 113,
   "metadata": {
    "collapsed": true
   },
   "outputs": [],
   "source": [
    "import matplotlib.pyplot as ptl\n",
    "%matplotlib inline"
   ]
  },
  {
   "cell_type": "code",
   "execution_count": 114,
   "metadata": {
    "collapsed": true
   },
   "outputs": [],
   "source": [
    "cv = KFold(len(y),5,shuffle=True,random_state=1)"
   ]
  },
  {
   "cell_type": "markdown",
   "metadata": {},
   "source": [
    "Проверим сначала лес."
   ]
  },
  {
   "cell_type": "code",
   "execution_count": 115,
   "metadata": {
    "collapsed": false
   },
   "outputs": [],
   "source": [
    "y_pred = cross_val_predict(RandomForestClassifier(n_estimators=250), X, y, cv=cv)"
   ]
  },
  {
   "cell_type": "code",
   "execution_count": 117,
   "metadata": {
    "collapsed": false
   },
   "outputs": [
    {
     "data": {
      "text/plain": [
       "0.7381113670234386"
      ]
     },
     "execution_count": 117,
     "metadata": {},
     "output_type": "execute_result"
    }
   ],
   "source": [
    "accuracy_score(y,y_pred)"
   ]
  },
  {
   "cell_type": "code",
   "execution_count": 119,
   "metadata": {
    "collapsed": false
   },
   "outputs": [
    {
     "name": "stdout",
     "output_type": "stream",
     "text": [
      "             precision    recall  f1-score   support\n",
      "\n",
      "          0       0.80      0.85      0.82      4784\n",
      "          1       0.58      0.51      0.54      1871\n",
      "          2       0.63      0.63      0.63       726\n",
      "\n",
      "avg / total       0.73      0.74      0.73      7381\n",
      "\n"
     ]
    }
   ],
   "source": [
    "print classification_report(y,y_pred)"
   ]
  },
  {
   "cell_type": "code",
   "execution_count": 46,
   "metadata": {
    "collapsed": true
   },
   "outputs": [],
   "source": [
    "y_pred2 = cross_val_predict(GradientBoostingClassifier(n_estimators=250), X, y, cv=cv)\n",
    "\n",
    "print classification_report(y,y_pred2)"
   ]
  },
  {
   "cell_type": "markdown",
   "metadata": {},
   "source": [
    "Короче -\n",
    "\n",
    "1. нужно построить roc_auc,\n",
    "2. Оттюнить модель (скорее всего лес) по гипер-параметрам.\n",
    "3. Попробывать PCA\n",
    "4. Найти способ менять порог в процессе кросс-валидации."
   ]
  },
  {
   "cell_type": "code",
   "execution_count": 54,
   "metadata": {
    "collapsed": true
   },
   "outputs": [],
   "source": [
    "from sklearn.decomposition import PCA"
   ]
  },
  {
   "cell_type": "code",
   "execution_count": 120,
   "metadata": {
    "collapsed": true
   },
   "outputs": [],
   "source": [
    "decomp = PCA(100)"
   ]
  },
  {
   "cell_type": "code",
   "execution_count": 121,
   "metadata": {
    "collapsed": false
   },
   "outputs": [],
   "source": [
    "x_dec = decomp.fit_transform(X)"
   ]
  },
  {
   "cell_type": "code",
   "execution_count": 122,
   "metadata": {
    "collapsed": false
   },
   "outputs": [
    {
     "data": {
      "text/plain": [
       "0.99972846897764656"
      ]
     },
     "execution_count": 122,
     "metadata": {},
     "output_type": "execute_result"
    }
   ],
   "source": [
    "sum(decomp.explained_variance_ratio_)"
   ]
  },
  {
   "cell_type": "code",
   "execution_count": 123,
   "metadata": {
    "collapsed": false
   },
   "outputs": [],
   "source": [
    "y_pred3_boost = cross_val_predict(GradientBoostingClassifier(n_estimators=250), x_dec, y, cv=cv)"
   ]
  },
  {
   "cell_type": "code",
   "execution_count": 124,
   "metadata": {
    "collapsed": false
   },
   "outputs": [
    {
     "name": "stdout",
     "output_type": "stream",
     "text": [
      "             precision    recall  f1-score   support\n",
      "\n",
      "          0       0.81      0.86      0.83      4784\n",
      "          1       0.61      0.50      0.55      1871\n",
      "          2       0.63      0.67      0.65       726\n",
      "\n",
      "avg / total       0.74      0.75      0.74      7381\n",
      "\n"
     ]
    }
   ],
   "source": [
    "print classification_report(y,y_pred3_boost)"
   ]
  },
  {
   "cell_type": "code",
   "execution_count": 59,
   "metadata": {
    "collapsed": true
   },
   "outputs": [],
   "source": [
    "y_pred3 = cross_val_predict(RandomForestClassifier(n_estimators=100, criterion='entropy'), x_dec, y, cv=cv)"
   ]
  },
  {
   "cell_type": "code",
   "execution_count": 60,
   "metadata": {
    "collapsed": false
   },
   "outputs": [
    {
     "name": "stdout",
     "output_type": "stream",
     "text": [
      "             precision    recall  f1-score   support\n",
      "\n",
      "          0       0.81      0.85      0.83      4784\n",
      "          1       0.61      0.53      0.57      1871\n",
      "          2       0.62      0.62      0.62       726\n",
      "\n",
      "avg / total       0.74      0.75      0.74      7381\n",
      "\n"
     ]
    }
   ],
   "source": [
    "print classification_report(y,y_pred3)"
   ]
  },
  {
   "cell_type": "code",
   "execution_count": 101,
   "metadata": {
    "collapsed": true
   },
   "outputs": [],
   "source": [
    "from sklearn.metrics import accuracy_score"
   ]
  },
  {
   "cell_type": "code",
   "execution_count": 62,
   "metadata": {
    "collapsed": false
   },
   "outputs": [
    {
     "data": {
      "text/plain": [
       "0.74759517680531096"
      ]
     },
     "execution_count": 62,
     "metadata": {},
     "output_type": "execute_result"
    }
   ],
   "source": [
    "accuracy_score(y,y_pred3)"
   ]
  },
  {
   "cell_type": "code",
   "execution_count": 125,
   "metadata": {
    "collapsed": true
   },
   "outputs": [],
   "source": [
    "clf = GradientBoostingClassifier(n_estimators=250)\n",
    "\n",
    "clf.fit(x_dec,y)"
   ]
  },
  {
   "cell_type": "code",
   "execution_count": 127,
   "metadata": {
    "collapsed": true
   },
   "outputs": [],
   "source": [
    "x_sub = join_data(test)\n",
    "x_sub.fillna(0, inplace=True)\n",
    "x_sub.drop('id',axis=1,inplace=True)\n",
    "\n",
    "x_sub = decomp.transform(x_sub)\n",
    "\n",
    "clf.predict(x_sub)\n",
    "\n",
    "submission = test.copy()\n",
    "submission['class'] = clf.predict(x_sub)\n",
    "\n",
    "submission.drop('location',axis=1,inplace=True)\n",
    "\n",
    "submission = pd.concat([submission['id'],pd.get_dummies(submission['class'],prefix='predict')],axis=1)"
   ]
  },
  {
   "cell_type": "code",
   "execution_count": 156,
   "metadata": {
    "collapsed": true
   },
   "outputs": [],
   "source": [
    "def convert(x):\n",
    "    try:\n",
    "        return x.astype(int)\n",
    "    except:\n",
    "        return x"
   ]
  },
  {
   "cell_type": "code",
   "execution_count": 158,
   "metadata": {
    "collapsed": false
   },
   "outputs": [],
   "source": [
    "submission = submission.apply(convert)\n",
    "\n",
    "submission.to_csv('submission1.csv',index=False)"
   ]
  },
  {
   "cell_type": "markdown",
   "metadata": {},
   "source": [
    "И так я сделал первый submission и оказался на 722 месте из 835). Теперь надо попробовать оттюнить бустинг, чтобы улучшить результат. Буду делать это с помощью Gridsearch. Ну и форум почитаю.)"
   ]
  },
  {
   "cell_type": "markdown",
   "metadata": {},
   "source": [
    "- The frequency each categorical feature class occurs, i.e., how many times a specific location or event_type occurs\n",
    "- Convert a categorical into an integer, e.g., severity_type -> [1,5] or location as its number.\n",
    "- Create products of existing features, e.g.,log_feature volume * severity as an integer.\n",
    "\n",
    "Вот материалы:\n",
    "\n",
    "http://www.slideshare.net/DataRobot/gradient-boosted-regression-trees-in-scikitlearn\n",
    "http://www.slideshare.net/OwenZhang2/tips-for-data-science-competitions (тут есть рекомендованные параметры для бустинга)\n",
    "https://www.youtube.com/watch?v=LgLcfZjNF44&feature=youtu.be\n"
   ]
  },
  {
   "cell_type": "markdown",
   "metadata": {},
   "source": [
    "Решил делать следующее:\n",
    "- перевести категорийные переменные в численные, путем подсчета частот каждой категории. Таким образом я смогу использовать локайшн. Если еще идея использовать вместо подсчета просто номер категории). Надо затестить.\n",
    "- обучить бустинг с грид-сёрчем."
   ]
  },
  {
   "cell_type": "code",
   "execution_count": 300,
   "metadata": {
    "collapsed": false
   },
   "outputs": [],
   "source": [
    "location_count = train.groupby('location')['id'].count().reset_index()\n",
    "\n",
    "location_count.rename(columns={'id':'loc_count'},inplace=True)\n",
    "\n",
    "df = train.copy()\n",
    "\n",
    "df = df.merge(location_count,how='left',on='location')\n",
    "\n",
    "df.drop('location',axis=1,inplace=True)\n",
    "df.head()"
   ]
  },
  {
   "cell_type": "markdown",
   "metadata": {},
   "source": [
    "Категорийные переменные, которые повторяются можно перевести таким же образом, только присваивая каждому объекту среднееарифметическое от частот каждой из категорий."
   ]
  },
  {
   "cell_type": "code",
   "execution_count": 305,
   "metadata": {
    "collapsed": false
   },
   "outputs": [],
   "source": [
    "event_count = event_type.groupby('event_type').count().reset_index()\n",
    "\n",
    "event_count.rename(columns={'id':'event_count'},inplace=True)\n",
    "\n",
    "event_count = event_type.merge(event_count,how='left',on='event_type')[['id','event_count']]\n",
    "\n",
    "event_count = event_count.groupby('id').mean()"
   ]
  },
  {
   "cell_type": "code",
   "execution_count": 309,
   "metadata": {
    "collapsed": false
   },
   "outputs": [
    {
     "data": {
      "text/html": [
       "<div>\n",
       "<table border=\"1\" class=\"dataframe\">\n",
       "  <thead>\n",
       "    <tr style=\"text-align: right;\">\n",
       "      <th></th>\n",
       "      <th>event_count</th>\n",
       "    </tr>\n",
       "    <tr>\n",
       "      <th>id</th>\n",
       "      <th></th>\n",
       "    </tr>\n",
       "  </thead>\n",
       "  <tbody>\n",
       "    <tr>\n",
       "      <th>1</th>\n",
       "      <td>4235</td>\n",
       "    </tr>\n",
       "    <tr>\n",
       "      <th>2</th>\n",
       "      <td>6271</td>\n",
       "    </tr>\n",
       "    <tr>\n",
       "      <th>3</th>\n",
       "      <td>7888</td>\n",
       "    </tr>\n",
       "    <tr>\n",
       "      <th>4</th>\n",
       "      <td>69</td>\n",
       "    </tr>\n",
       "    <tr>\n",
       "      <th>5</th>\n",
       "      <td>6271</td>\n",
       "    </tr>\n",
       "  </tbody>\n",
       "</table>\n",
       "</div>"
      ],
      "text/plain": [
       "    event_count\n",
       "id             \n",
       "1          4235\n",
       "2          6271\n",
       "3          7888\n",
       "4            69\n",
       "5          6271"
      ]
     },
     "execution_count": 309,
     "metadata": {},
     "output_type": "execute_result"
    }
   ],
   "source": [
    "event_count.head()"
   ]
  },
  {
   "cell_type": "markdown",
   "metadata": {},
   "source": [
    "Фичи трогать не буду. А вот тип ресурса и тип ошибки перекодирую в нумерик просто как номер типа, для повторяющихся возьму среднее."
   ]
  },
  {
   "cell_type": "code",
   "execution_count": 310,
   "metadata": {
    "collapsed": true
   },
   "outputs": [],
   "source": [
    "import re"
   ]
  },
  {
   "cell_type": "code",
   "execution_count": 311,
   "metadata": {
    "collapsed": true
   },
   "outputs": [],
   "source": [
    "f = lambda x: int(re.findall(r'\\d+',x)[0])\n",
    "\n",
    "resource_num = resource_type.copy()\n",
    "\n",
    "resource_num['res_num'] = resource_type['resource_type'].apply(f)\n",
    "\n",
    "resource_num.drop('resource_type',axis=1,inplace=True)\n",
    "\n",
    "resource_num = resource_num.groupby('id').mean()"
   ]
  },
  {
   "cell_type": "code",
   "execution_count": 316,
   "metadata": {
    "collapsed": false
   },
   "outputs": [
    {
     "data": {
      "text/html": [
       "<div>\n",
       "<table border=\"1\" class=\"dataframe\">\n",
       "  <thead>\n",
       "    <tr style=\"text-align: right;\">\n",
       "      <th></th>\n",
       "      <th>res_num</th>\n",
       "    </tr>\n",
       "    <tr>\n",
       "      <th>id</th>\n",
       "      <th></th>\n",
       "    </tr>\n",
       "  </thead>\n",
       "  <tbody>\n",
       "    <tr>\n",
       "      <th>1</th>\n",
       "      <td>7</td>\n",
       "    </tr>\n",
       "    <tr>\n",
       "      <th>2</th>\n",
       "      <td>2</td>\n",
       "    </tr>\n",
       "    <tr>\n",
       "      <th>3</th>\n",
       "      <td>8</td>\n",
       "    </tr>\n",
       "    <tr>\n",
       "      <th>4</th>\n",
       "      <td>2</td>\n",
       "    </tr>\n",
       "    <tr>\n",
       "      <th>5</th>\n",
       "      <td>2</td>\n",
       "    </tr>\n",
       "  </tbody>\n",
       "</table>\n",
       "</div>"
      ],
      "text/plain": [
       "    res_num\n",
       "id         \n",
       "1         7\n",
       "2         2\n",
       "3         8\n",
       "4         2\n",
       "5         2"
      ]
     },
     "execution_count": 316,
     "metadata": {},
     "output_type": "execute_result"
    }
   ],
   "source": [
    "resource_num.head()"
   ]
  },
  {
   "cell_type": "markdown",
   "metadata": {},
   "source": [
    "Теперь перекодируем тип ошибки"
   ]
  },
  {
   "cell_type": "code",
   "execution_count": 317,
   "metadata": {
    "collapsed": true
   },
   "outputs": [],
   "source": [
    "severity_num = severity_type.copy()\n",
    "\n",
    "severity_num['sev_num'] = severity_type['severity_type'].apply(f)\n",
    "\n",
    "severity_num = severity_num.groupby('id')['sev_num'].mean().to_frame()"
   ]
  },
  {
   "cell_type": "code",
   "execution_count": 320,
   "metadata": {
    "collapsed": false
   },
   "outputs": [
    {
     "data": {
      "text/html": [
       "<div>\n",
       "<table border=\"1\" class=\"dataframe\">\n",
       "  <thead>\n",
       "    <tr style=\"text-align: right;\">\n",
       "      <th></th>\n",
       "      <th>sev_num</th>\n",
       "    </tr>\n",
       "    <tr>\n",
       "      <th>id</th>\n",
       "      <th></th>\n",
       "    </tr>\n",
       "  </thead>\n",
       "  <tbody>\n",
       "    <tr>\n",
       "      <th>1</th>\n",
       "      <td>1</td>\n",
       "    </tr>\n",
       "    <tr>\n",
       "      <th>2</th>\n",
       "      <td>2</td>\n",
       "    </tr>\n",
       "    <tr>\n",
       "      <th>3</th>\n",
       "      <td>1</td>\n",
       "    </tr>\n",
       "    <tr>\n",
       "      <th>4</th>\n",
       "      <td>4</td>\n",
       "    </tr>\n",
       "    <tr>\n",
       "      <th>5</th>\n",
       "      <td>2</td>\n",
       "    </tr>\n",
       "  </tbody>\n",
       "</table>\n",
       "</div>"
      ],
      "text/plain": [
       "    sev_num\n",
       "id         \n",
       "1         1\n",
       "2         2\n",
       "3         1\n",
       "4         4\n",
       "5         2"
      ]
     },
     "execution_count": 320,
     "metadata": {},
     "output_type": "execute_result"
    }
   ],
   "source": [
    "severity_num.head()"
   ]
  },
  {
   "cell_type": "markdown",
   "metadata": {},
   "source": [
    "Ну а теперь нужно все это присоединить к главной таблице"
   ]
  },
  {
   "cell_type": "code",
   "execution_count": 321,
   "metadata": {
    "collapsed": true
   },
   "outputs": [],
   "source": [
    "df = df.merge(event_count.reset_index(),\n",
    "            how='left',on='id')\n",
    "\n",
    "\n",
    "df = df.merge(resource_num.reset_index(),\n",
    "            how='left',on='id')\n",
    "\n",
    "\n",
    "df = df.merge(severity_num.reset_index(),\n",
    "            how='left',on='id')\n",
    "\n",
    "features = log_feature.pivot_table('volume','id','log_feature','sum')\n",
    "df = df.merge(features.reset_index(),\n",
    "            how='left',on='id')"
   ]
  },
  {
   "cell_type": "code",
   "execution_count": 329,
   "metadata": {
    "collapsed": false
   },
   "outputs": [],
   "source": [
    "df.fillna(0,inplace=True)"
   ]
  },
  {
   "cell_type": "markdown",
   "metadata": {},
   "source": [
    "ну и теперь надо все это в функцию обернуть."
   ]
  },
  {
   "cell_type": "code",
   "execution_count": 362,
   "metadata": {
    "collapsed": true
   },
   "outputs": [],
   "source": [
    "def join_data2(x):\n",
    "    df = x.copy()\n",
    "    # location\n",
    "    location_count = train.groupby('location')['id'].count().reset_index()\n",
    "    location_count.rename(columns={'id':'loc_count'},inplace=True)\n",
    "    df = df.merge(location_count,how='left',on='location')\n",
    "    df.drop('location',axis=1,inplace=True)\n",
    "    \n",
    "    # events\n",
    "    event_count = event_type.groupby('event_type').count().reset_index()\n",
    "    event_count.rename(columns={'id':'event_count'},inplace=True)\n",
    "    event_count = event_type.merge(event_count,how='left',on='event_type')[['id','event_count']]\n",
    "    event_count = event_count.groupby('id').mean()\n",
    "    \n",
    "    # resource\n",
    "    f = lambda x: int(re.findall(r'\\d+',x)[0])\n",
    "    resource_num = resource_type.copy()\n",
    "    resource_num['res_num'] = resource_type['resource_type'].apply(f)\n",
    "    resource_num.drop('resource_type',axis=1,inplace=True)\n",
    "    resource_num = resource_num.groupby('id').mean()\n",
    "    \n",
    "    # severity\n",
    "    severity_num = severity_type.copy()\n",
    "    severity_num['sev_num'] = severity_type['severity_type'].apply(f)\n",
    "    severity_num = severity_num.groupby('id')['sev_num'].mean().to_frame()\n",
    "    \n",
    "    # features\n",
    "    features = log_feature.pivot_table('volume','id','log_feature','sum')\n",
    "    \n",
    "    # joins\n",
    "    df = df.merge(event_count.reset_index(),\n",
    "            how='left',on='id')\n",
    "    df = df.merge(resource_num.reset_index(),\n",
    "            how='left',on='id')\n",
    "    df = df.merge(severity_num.reset_index(),\n",
    "            how='left',on='id')\n",
    "    df = df.merge(features.reset_index(),\n",
    "            how='left',on='id')\n",
    "    \n",
    "    df.fillna(0,inplace=True)\n",
    "    \n",
    "    cols = list(df.columns)\n",
    "    try:\n",
    "        cols.insert(0,cols.pop(cols.index('fault_severity')))\n",
    "    except:\n",
    "        pass\n",
    "    df = df.ix[:,cols]\n",
    "    \n",
    "    return df"
   ]
  },
  {
   "cell_type": "code",
   "execution_count": 367,
   "metadata": {
    "collapsed": true
   },
   "outputs": [],
   "source": [
    "df = join_data2(train)\n",
    "\n",
    "df.drop('id',axis=1,inplace=True)\n",
    "\n",
    "X, y = df.ix[:,1:], df.ix[:,0]"
   ]
  },
  {
   "cell_type": "code",
   "execution_count": 371,
   "metadata": {
    "collapsed": false
   },
   "outputs": [],
   "source": [
    "y_pred = cross_val_predict(GradientBoostingClassifier(n_estimators=1000), X, y, cv=cv)"
   ]
  },
  {
   "cell_type": "code",
   "execution_count": 351,
   "metadata": {
    "collapsed": false
   },
   "outputs": [
    {
     "data": {
      "text/plain": [
       "array([-0.58561928, -0.59391373, -0.59449703, -0.57581145, -0.57435119])"
      ]
     },
     "execution_count": 351,
     "metadata": {},
     "output_type": "execute_result"
    }
   ],
   "source": [
    "cross_val_score(GradientBoostingClassifier(n_estimators=50), X, y, cv=cv,scoring='log_loss')"
   ]
  },
  {
   "cell_type": "code",
   "execution_count": 350,
   "metadata": {
    "collapsed": false
   },
   "outputs": [
    {
     "data": {
      "text/plain": [
       "{0, 1, 2}"
      ]
     },
     "execution_count": 350,
     "metadata": {},
     "output_type": "execute_result"
    }
   ],
   "source": [
    "set(y_pred)"
   ]
  },
  {
   "cell_type": "code",
   "execution_count": 372,
   "metadata": {
    "collapsed": false
   },
   "outputs": [
    {
     "name": "stdout",
     "output_type": "stream",
     "text": [
      "             precision    recall  f1-score   support\n",
      "\n",
      "          0       0.82      0.86      0.84      4784\n",
      "          1       0.65      0.54      0.59      1871\n",
      "          2       0.62      0.69      0.65       726\n",
      "\n",
      "avg / total       0.76      0.76      0.76      7381\n",
      "\n"
     ]
    }
   ],
   "source": [
    "print classification_report(y,y_pred)"
   ]
  },
  {
   "cell_type": "code",
   "execution_count": 373,
   "metadata": {
    "collapsed": false
   },
   "outputs": [
    {
     "data": {
      "text/plain": [
       "0.76371765343449394"
      ]
     },
     "execution_count": 373,
     "metadata": {},
     "output_type": "execute_result"
    }
   ],
   "source": [
    "accuracy_score(y,y_pred)"
   ]
  },
  {
   "cell_type": "markdown",
   "metadata": {},
   "source": [
    "Еще есть мысль создать k-means кластеры на основе категориальных переменных. Т.е. :\n",
    "1. создать dummies для events, resource и severity\n",
    "2. k-meansом побить их на кластеры\n",
    "3. в моделе использовать переменную кластера."
   ]
  },
  {
   "cell_type": "code",
   "execution_count": 374,
   "metadata": {
    "collapsed": true
   },
   "outputs": [],
   "source": [
    "decomp2 = PCA(100)"
   ]
  },
  {
   "cell_type": "code",
   "execution_count": 375,
   "metadata": {
    "collapsed": false
   },
   "outputs": [],
   "source": [
    "x_dec = decomp2.fit_transform(X)"
   ]
  },
  {
   "cell_type": "code",
   "execution_count": 376,
   "metadata": {
    "collapsed": false
   },
   "outputs": [
    {
     "data": {
      "text/plain": [
       "0.99999989403094747"
      ]
     },
     "execution_count": 376,
     "metadata": {},
     "output_type": "execute_result"
    }
   ],
   "source": [
    "sum(decomp2.explained_variance_ratio_)"
   ]
  },
  {
   "cell_type": "code",
   "execution_count": 377,
   "metadata": {
    "collapsed": false
   },
   "outputs": [],
   "source": [
    "y_pred = cross_val_predict(GradientBoostingClassifier(n_estimators=1000), x_dec, y, cv=cv,n_jobs=-1)"
   ]
  },
  {
   "cell_type": "code",
   "execution_count": 378,
   "metadata": {
    "collapsed": false
   },
   "outputs": [
    {
     "name": "stdout",
     "output_type": "stream",
     "text": [
      "             precision    recall  f1-score   support\n",
      "\n",
      "          0       0.81      0.86      0.83      4784\n",
      "          1       0.60      0.52      0.56      1871\n",
      "          2       0.64      0.61      0.62       726\n",
      "\n",
      "avg / total       0.74      0.75      0.74      7381\n",
      "\n"
     ]
    }
   ],
   "source": [
    "print classification_report(y,y_pred)"
   ]
  },
  {
   "cell_type": "code",
   "execution_count": 379,
   "metadata": {
    "collapsed": true
   },
   "outputs": [],
   "source": [
    "clf = GradientBoostingClassifier(n_estimators=1000)"
   ]
  },
  {
   "cell_type": "code",
   "execution_count": 380,
   "metadata": {
    "collapsed": false
   },
   "outputs": [
    {
     "data": {
      "text/plain": [
       "GradientBoostingClassifier(init=None, learning_rate=0.1, loss='deviance',\n",
       "              max_depth=3, max_features=None, max_leaf_nodes=None,\n",
       "              min_samples_leaf=1, min_samples_split=2,\n",
       "              min_weight_fraction_leaf=0.0, n_estimators=1000,\n",
       "              random_state=None, subsample=1.0, verbose=0,\n",
       "              warm_start=False)"
      ]
     },
     "execution_count": 380,
     "metadata": {},
     "output_type": "execute_result"
    }
   ],
   "source": [
    "clf.fit(X,y)"
   ]
  },
  {
   "cell_type": "code",
   "execution_count": 381,
   "metadata": {
    "collapsed": false
   },
   "outputs": [],
   "source": [
    "x_sub = join_data2(test)\n",
    "x_sub.drop('id',axis=1,inplace=True)"
   ]
  },
  {
   "cell_type": "code",
   "execution_count": 382,
   "metadata": {
    "collapsed": false
   },
   "outputs": [],
   "source": [
    "clf.predict(x_sub)\n",
    "\n",
    "submission = test.copy()\n",
    "submission['class'] = clf.predict(x_sub)\n",
    "\n",
    "submission.drop('location',axis=1,inplace=True)\n",
    "\n",
    "submission = pd.concat([submission['id'],pd.get_dummies(submission['class'],prefix='predict')],axis=1)\n",
    "submission = submission.apply(convert)\n",
    "\n",
    "submission.to_csv('submission1.csv',index=False)"
   ]
  },
  {
   "cell_type": "markdown",
   "metadata": {},
   "source": [
    "715 место. You improved on your best score by 0.87161."
   ]
  },
  {
   "cell_type": "code",
   "execution_count": 383,
   "metadata": {
    "collapsed": true
   },
   "outputs": [],
   "source": [
    "y_pred2 = cross_val_predict(RandomForestClassifier(n_estimators=200, criterion='entropy'), x_dec, y, cv=cv)"
   ]
  },
  {
   "cell_type": "markdown",
   "metadata": {},
   "source": [
    "Надо всетаки решить какое кол-во деревьев использовать."
   ]
  },
  {
   "cell_type": "code",
   "execution_count": 389,
   "metadata": {
    "collapsed": true
   },
   "outputs": [],
   "source": [
    "import matplotlib.pyplot as plt\n",
    "%matplotlib inline"
   ]
  },
  {
   "cell_type": "code",
   "execution_count": 403,
   "metadata": {
    "collapsed": false
   },
   "outputs": [
    {
     "data": {
      "text/plain": [
       "array([ 100,  200,  300,  400,  500,  600,  700,  800,  900, 1000])"
      ]
     },
     "execution_count": 403,
     "metadata": {},
     "output_type": "execute_result"
    }
   ],
   "source": [
    "np.arange(100,1100, 100)"
   ]
  },
  {
   "cell_type": "code",
   "execution_count": 405,
   "metadata": {
    "collapsed": false
   },
   "outputs": [],
   "source": [
    "n_vals = np.arange(100,1100, 100)\n",
    "quality_by_n = [\n",
    "    cross_val_score(GradientBoostingClassifier(n_estimators=n), X, y, cv=cv,scoring='f1_macro').mean()\n",
    "    for n in n_vals\n",
    "]"
   ]
  },
  {
   "cell_type": "code",
   "execution_count": 406,
   "metadata": {
    "collapsed": false
   },
   "outputs": [
    {
     "name": "stdout",
     "output_type": "stream",
     "text": [
      "min_qual=  0.669555806149\n",
      "best_n=  100\n"
     ]
    },
    {
     "data": {
      "image/png": "[encoded data removed]",
      "text/plain": [
       "<matplotlib.figure.Figure at 0x109470050>"
      ]
     },
     "metadata": {},
     "output_type": "display_data"
    }
   ],
   "source": [
    "plt.plot(n_vals, quality_by_n)\n",
    "print 'min_qual= ',min(quality_by_n)\n",
    "print 'best_n= ',n_vals[np.argmin(quality_by_n)]"
   ]
  },
  {
   "cell_type": "markdown",
   "metadata": {},
   "source": [
    "1. Надо уменьшить кол-во переменных - поставлю определенный порог на feature_importance\n",
    "2. И замучу грид-серч.\n",
    "3. Еще можно перекодироваь локацию просто как цифру, а не как каунт."
   ]
  },
  {
   "cell_type": "code",
   "execution_count": 407,
   "metadata": {
    "collapsed": false
   },
   "outputs": [
    {
     "data": {
      "text/plain": [
       "{'learning_rate': 0.1,\n",
       " 'max_depth': 6,\n",
       " 'max_features': 1.0,\n",
       " 'min_samples_leaf': 3}"
      ]
     },
     "execution_count": 407,
     "metadata": {},
     "output_type": "execute_result"
    }
   ],
   "source": [
    "from sklearn.grid_search import GridSearchCV\n",
    "from sklearn.metrics import log_loss, make_scorer \n",
    "scorer = make_scorer(log_loss, greater_is_better=0, needs_proba=1)\n",
    "\n",
    "param_grid = {'learning_rate': [0.1, 0.05, 0.02, 0.01],\n",
    "              'max_depth': [4, 6],\n",
    "              'min_samples_leaf': [3, 5, 9, 17],\n",
    "              'max_features': [1.0, 0.3, 0.1] \n",
    "              }\n",
    "\n",
    "est = GradientBoostingClassifier(n_estimators=800)\n",
    "# this may take some minutes\n",
    "gs_cv = GridSearchCV(est, param_grid, scoring=scorer, n_jobs=-1).fit(X, y)\n",
    "\n",
    "# best hyperparameter setting\n",
    "gs_cv.best_params_"
   ]
  },
  {
   "cell_type": "code",
   "execution_count": 421,
   "metadata": {
    "collapsed": false
   },
   "outputs": [
    {
     "data": {
      "text/plain": [
       "0.58907304344676181"
      ]
     },
     "execution_count": 421,
     "metadata": {},
     "output_type": "execute_result"
    }
   ],
   "source": [
    "gs_cv.grid_scores_[0][1]"
   ]
  },
  {
   "cell_type": "code",
   "execution_count": 424,
   "metadata": {
    "collapsed": false
   },
   "outputs": [],
   "source": [
    "m_list = [i[1] for i in gs_cv.grid_scores_]\n",
    "\n",
    "m_list[np.argmin(m_list)]\n",
    "\n",
    "np.argmin(m_list)"
   ]
  },
  {
   "cell_type": "code",
   "execution_count": 427,
   "metadata": {
    "collapsed": false
   },
   "outputs": [
    {
     "data": {
      "text/plain": [
       "mean: 0.54116, std: 0.01509, params: {'max_features': 0.3, 'learning_rate': 0.02, 'max_depth': 6, 'min_samples_leaf': 3}"
      ]
     },
     "execution_count": 427,
     "metadata": {},
     "output_type": "execute_result"
    }
   ],
   "source": [
    "gs_cv.grid_scores_[64]"
   ]
  },
  {
   "cell_type": "code",
   "execution_count": 429,
   "metadata": {
    "collapsed": true
   },
   "outputs": [],
   "source": [
    "clf = GradientBoostingClassifier(n_estimators=1000,max_features=0.3,learning_rate=0.02,max_depth=6,min_samples_leaf=3)"
   ]
  },
  {
   "cell_type": "code",
   "execution_count": 430,
   "metadata": {
    "collapsed": false
   },
   "outputs": [
    {
     "data": {
      "text/plain": [
       "GradientBoostingClassifier(init=None, learning_rate=0.02, loss='deviance',\n",
       "              max_depth=6, max_features=0.3, max_leaf_nodes=None,\n",
       "              min_samples_leaf=3, min_samples_split=2,\n",
       "              min_weight_fraction_leaf=0.0, n_estimators=1000,\n",
       "              random_state=None, subsample=1.0, verbose=0,\n",
       "              warm_start=False)"
      ]
     },
     "execution_count": 430,
     "metadata": {},
     "output_type": "execute_result"
    }
   ],
   "source": [
    "clf.fit(X,y)"
   ]
  },
  {
   "cell_type": "code",
   "execution_count": 431,
   "metadata": {
    "collapsed": true
   },
   "outputs": [],
   "source": [
    "submission = test.copy()\n",
    "submission['class'] = clf.predict(x_sub)\n",
    "\n",
    "submission.drop('location',axis=1,inplace=True)\n",
    "\n",
    "submission = pd.concat([submission['id'],pd.get_dummies(submission['class'],prefix='predict')],axis=1)\n",
    "submission = submission.apply(convert)\n",
    "\n",
    "submission.to_csv('submission3.csv',index=False)"
   ]
  },
  {
   "cell_type": "markdown",
   "metadata": {},
   "source": [
    "Совсем небольшое улучшение - похоже я делаю что-то нето((. Попробую перекодировать локатион просто в номер локации."
   ]
  },
  {
   "cell_type": "markdown",
   "metadata": {},
   "source": [
    "# Удачный submission!"
   ]
  },
  {
   "cell_type": "code",
   "execution_count": 433,
   "metadata": {
    "collapsed": true
   },
   "outputs": [],
   "source": [
    "def join_data3(x):\n",
    "    df = x.copy()\n",
    "    f = lambda x: int(re.findall(r'\\d+',x)[0])\n",
    "    \n",
    "    # location\n",
    "    df['loc_num'] = df['location'].apply(f)\n",
    "    df.drop('location',axis=1,inplace=True)\n",
    "    \n",
    "    # events\n",
    "    event_count = event_type.groupby('event_type').count().reset_index()\n",
    "    event_count.rename(columns={'id':'event_count'},inplace=True)\n",
    "    event_count = event_type.merge(event_count,how='left',on='event_type')[['id','event_count']]\n",
    "    event_count = event_count.groupby('id').mean()\n",
    "    \n",
    "    # resource\n",
    "    resource_num = resource_type.copy()\n",
    "    resource_num['res_num'] = resource_type['resource_type'].apply(f)\n",
    "    resource_num.drop('resource_type',axis=1,inplace=True)\n",
    "    resource_num = resource_num.groupby('id').mean()\n",
    "    \n",
    "    # severity\n",
    "    severity_num = severity_type.copy()\n",
    "    severity_num['sev_num'] = severity_type['severity_type'].apply(f)\n",
    "    severity_num = severity_num.groupby('id')['sev_num'].mean().to_frame()\n",
    "    \n",
    "    # features\n",
    "    features = log_feature.pivot_table('volume','id','log_feature','sum')\n",
    "    \n",
    "    # joins\n",
    "    df = df.merge(event_count.reset_index(),\n",
    "            how='left',on='id')\n",
    "    df = df.merge(resource_num.reset_index(),\n",
    "            how='left',on='id')\n",
    "    df = df.merge(severity_num.reset_index(),\n",
    "            how='left',on='id')\n",
    "    df = df.merge(features.reset_index(),\n",
    "            how='left',on='id')\n",
    "    \n",
    "    df.fillna(0,inplace=True)\n",
    "    \n",
    "    cols = list(df.columns)\n",
    "    try:\n",
    "        cols.insert(0,cols.pop(cols.index('fault_severity')))\n",
    "    except:\n",
    "        pass\n",
    "    df = df.ix[:,cols]\n",
    "    \n",
    "    return df"
   ]
  },
  {
   "cell_type": "code",
   "execution_count": 453,
   "metadata": {
    "collapsed": false
   },
   "outputs": [],
   "source": [
    "important_cols = [col for imp, col in zip(clf.feature_importances_,X.columns) if imp > 0.005]"
   ]
  },
  {
   "cell_type": "code",
   "execution_count": 455,
   "metadata": {
    "collapsed": false
   },
   "outputs": [],
   "source": [
    "important_cols = ['loc_num'] + important_cols[1:]"
   ]
  },
  {
   "cell_type": "code",
   "execution_count": 457,
   "metadata": {
    "collapsed": true
   },
   "outputs": [],
   "source": [
    "df = join_data3(train)\n",
    "df.drop('id',axis=1,inplace=True)\n",
    "X, y = df.ix[:,1:], df.ix[:,0]"
   ]
  },
  {
   "cell_type": "code",
   "execution_count": 460,
   "metadata": {
    "collapsed": false
   },
   "outputs": [],
   "source": [
    "X = X[important_cols]"
   ]
  },
  {
   "cell_type": "code",
   "execution_count": 462,
   "metadata": {
    "collapsed": false
   },
   "outputs": [
    {
     "data": {
      "text/plain": [
       "{'learning_rate': 0.01,\n",
       " 'max_depth': 6,\n",
       " 'max_features': 0.3,\n",
       " 'min_samples_leaf': 3}"
      ]
     },
     "execution_count": 462,
     "metadata": {},
     "output_type": "execute_result"
    }
   ],
   "source": [
    "scorer = make_scorer(log_loss, greater_is_better=0, needs_proba=1)\n",
    "\n",
    "param_grid = {'learning_rate': [0.1, 0.05, 0.02, 0.01],\n",
    "              'max_depth': [4, 6],\n",
    "              'min_samples_leaf': [3, 5, 9, 17],\n",
    "              'max_features': [1.0, 0.3, 0.1] \n",
    "              }\n",
    "\n",
    "est = GradientBoostingClassifier(n_estimators=1000)\n",
    "# this may take some minutes\n",
    "gs_cv = GridSearchCV(est, param_grid, scoring=scorer, n_jobs=-1).fit(X, y)\n",
    "\n",
    "# best hyperparameter setting\n",
    "gs_cv.best_params_"
   ]
  },
  {
   "cell_type": "code",
   "execution_count": 484,
   "metadata": {
    "collapsed": false
   },
   "outputs": [],
   "source": [
    "clf = GradientBoostingClassifier(n_estimators=1000,learning_rate=0.01,max_depth=6,max_features=0.3,min_samples_leaf=3)"
   ]
  },
  {
   "cell_type": "code",
   "execution_count": 485,
   "metadata": {
    "collapsed": false
   },
   "outputs": [
    {
     "data": {
      "text/plain": [
       "GradientBoostingClassifier(init=None, learning_rate=0.01, loss='deviance',\n",
       "              max_depth=6, max_features=0.3, max_leaf_nodes=None,\n",
       "              min_samples_leaf=3, min_samples_split=2,\n",
       "              min_weight_fraction_leaf=0.0, n_estimators=1000,\n",
       "              random_state=None, subsample=1.0, verbose=0,\n",
       "              warm_start=False)"
      ]
     },
     "execution_count": 485,
     "metadata": {},
     "output_type": "execute_result"
    }
   ],
   "source": [
    "clf.fit(X,y)"
   ]
  },
  {
   "cell_type": "code",
   "execution_count": 486,
   "metadata": {
    "collapsed": false
   },
   "outputs": [],
   "source": [
    "x_sub = join_data3(test)"
   ]
  },
  {
   "cell_type": "code",
   "execution_count": 487,
   "metadata": {
    "collapsed": true
   },
   "outputs": [],
   "source": [
    "x_sub = x_sub[important_cols]"
   ]
  },
  {
   "cell_type": "code",
   "execution_count": 492,
   "metadata": {
    "collapsed": false
   },
   "outputs": [],
   "source": [
    "submission = test.copy()\n",
    "submission.drop('location',axis=1,inplace=True)\n",
    "submission = pd.concat([submission['id'],\n",
    "                       pd.DataFrame(clf.predict_proba(x_sub))],axis=1)\n",
    "submission.columns = ['id','predict_0','predict_1','predict_2']\n",
    "submission.to_csv('submission6.csv',index=False)"
   ]
  },
  {
   "cell_type": "code",
   "execution_count": null,
   "metadata": {
    "collapsed": true
   },
   "outputs": [],
   "source": []
  },
  {
   "cell_type": "markdown",
   "metadata": {},
   "source": [
    "312 место!!!"
   ]
  },
  {
   "cell_type": "code",
   "execution_count": 498,
   "metadata": {
    "collapsed": true
   },
   "outputs": [],
   "source": [
    "df = join_data3(train)\n",
    "df.drop('id',axis=1,inplace=True)\n",
    "X, y = df.ix[:,1:], df.ix[:,0]"
   ]
  },
  {
   "cell_type": "code",
   "execution_count": 499,
   "metadata": {
    "collapsed": false
   },
   "outputs": [
    {
     "data": {
      "text/plain": [
       "GradientBoostingClassifier(init=None, learning_rate=0.01, loss='deviance',\n",
       "              max_depth=6, max_features=0.3, max_leaf_nodes=None,\n",
       "              min_samples_leaf=3, min_samples_split=2,\n",
       "              min_weight_fraction_leaf=0.0, n_estimators=1000,\n",
       "              random_state=None, subsample=1.0, verbose=0,\n",
       "              warm_start=False)"
      ]
     },
     "execution_count": 499,
     "metadata": {},
     "output_type": "execute_result"
    }
   ],
   "source": [
    "clf = GradientBoostingClassifier(n_estimators=1000,learning_rate=0.01,max_depth=6,max_features=0.3,min_samples_leaf=3)\n",
    "clf.fit(X,y)"
   ]
  },
  {
   "cell_type": "code",
   "execution_count": 502,
   "metadata": {
    "collapsed": true
   },
   "outputs": [],
   "source": [
    "x_sub = join_data3(test)\n",
    "x_sub.drop('id',axis=1,inplace=True)"
   ]
  },
  {
   "cell_type": "code",
   "execution_count": 503,
   "metadata": {
    "collapsed": false
   },
   "outputs": [],
   "source": [
    "submission = test.copy()\n",
    "submission.drop('location',axis=1,inplace=True)\n",
    "submission = pd.concat([submission['id'],\n",
    "                       pd.DataFrame(clf.predict_proba(x_sub))],axis=1)\n",
    "submission.columns = ['id','predict_0','predict_1','predict_2']\n",
    "submission.to_csv('submission7.csv',index=False)"
   ]
  },
  {
   "cell_type": "markdown",
   "metadata": {},
   "source": [
    "284 место."
   ]
  },
  {
   "cell_type": "code",
   "execution_count": 507,
   "metadata": {
    "collapsed": true
   },
   "outputs": [],
   "source": [
    "cros_val = cross_val_score(clf, X, y, cv=cv,scoring='log_loss')"
   ]
  },
  {
   "cell_type": "code",
   "execution_count": 509,
   "metadata": {
    "collapsed": false
   },
   "outputs": [
    {
     "data": {
      "text/plain": [
       "-0.52583489196691457"
      ]
     },
     "execution_count": 509,
     "metadata": {},
     "output_type": "execute_result"
    }
   ],
   "source": [
    "cros_val.mean()"
   ]
  },
  {
   "cell_type": "code",
   "execution_count": 510,
   "metadata": {
    "collapsed": true
   },
   "outputs": [],
   "source": [
    "df = join_data2(train)\n",
    "df.drop('id',axis=1,inplace=True)\n",
    "X, y = df.ix[:,1:], df.ix[:,0]"
   ]
  },
  {
   "cell_type": "code",
   "execution_count": 511,
   "metadata": {
    "collapsed": false
   },
   "outputs": [
    {
     "data": {
      "text/plain": [
       "GradientBoostingClassifier(init=None, learning_rate=0.01, loss='deviance',\n",
       "              max_depth=6, max_features=0.3, max_leaf_nodes=None,\n",
       "              min_samples_leaf=3, min_samples_split=2,\n",
       "              min_weight_fraction_leaf=0.0, n_estimators=1000,\n",
       "              random_state=None, subsample=1.0, verbose=0,\n",
       "              warm_start=False)"
      ]
     },
     "execution_count": 511,
     "metadata": {},
     "output_type": "execute_result"
    }
   ],
   "source": [
    "clf = GradientBoostingClassifier(n_estimators=1000,learning_rate=0.01,max_depth=6,max_features=0.3,min_samples_leaf=3)\n",
    "clf.fit(X,y)"
   ]
  },
  {
   "cell_type": "code",
   "execution_count": 512,
   "metadata": {
    "collapsed": true
   },
   "outputs": [],
   "source": [
    "cros_val = cross_val_score(clf, X, y, cv=cv,scoring='log_loss',n_jobs=-1)"
   ]
  },
  {
   "cell_type": "code",
   "execution_count": 513,
   "metadata": {
    "collapsed": false
   },
   "outputs": [
    {
     "data": {
      "text/plain": [
       "-0.53969023927898252"
      ]
     },
     "execution_count": 513,
     "metadata": {},
     "output_type": "execute_result"
    }
   ],
   "source": [
    "cros_val.mean()"
   ]
  },
  {
   "cell_type": "markdown",
   "metadata": {},
   "source": [
    "Сделать events не как каунт, а как номре события. Посмотреть что будет."
   ]
  },
  {
   "cell_type": "code",
   "execution_count": 5,
   "metadata": {
    "collapsed": true
   },
   "outputs": [],
   "source": [
    "import re"
   ]
  },
  {
   "cell_type": "code",
   "execution_count": 10,
   "metadata": {
    "collapsed": true
   },
   "outputs": [],
   "source": [
    "def join_data4(x):\n",
    "    df = x.copy()\n",
    "    f = lambda x: int(re.findall(r'\\d+',x)[0])\n",
    "    \n",
    "    # location\n",
    "    df['loc_num'] = df['location'].apply(f)\n",
    "    df.drop('location',axis=1,inplace=True)\n",
    "       \n",
    "    # events\n",
    "    events_num = event_type.copy()\n",
    "    events_num['eve_num'] = events_num['event_type'].apply(f)\n",
    "    events_num.drop('event_type',axis=1,inplace=True)\n",
    "    events_num = events_num.groupby('id').mean()\n",
    "    \n",
    "    # resource\n",
    "    resource_num = resource_type.copy()\n",
    "    resource_num['res_num'] = resource_type['resource_type'].apply(f)\n",
    "    resource_num.drop('resource_type',axis=1,inplace=True)\n",
    "    resource_num = resource_num.groupby('id').mean()\n",
    "    \n",
    "    # severity\n",
    "    severity_num = severity_type.copy()\n",
    "    severity_num['sev_num'] = severity_type['severity_type'].apply(f)\n",
    "    severity_num = severity_num.groupby('id')['sev_num'].mean().to_frame()\n",
    "    \n",
    "    # features\n",
    "    features = log_feature.pivot_table('volume','id','log_feature','sum')\n",
    "    \n",
    "    # joins\n",
    "    df = df.merge(events_num.reset_index(),\n",
    "            how='left',on='id')\n",
    "    df = df.merge(resource_num.reset_index(),\n",
    "            how='left',on='id')\n",
    "    df = df.merge(severity_num.reset_index(),\n",
    "            how='left',on='id')\n",
    "    df = df.merge(features.reset_index(),\n",
    "            how='left',on='id')\n",
    "    \n",
    "    df.fillna(0,inplace=True)\n",
    "    \n",
    "    cols = list(df.columns)\n",
    "    try:\n",
    "        cols.insert(0,cols.pop(cols.index('fault_severity')))\n",
    "    except:\n",
    "        pass\n",
    "    df = df.ix[:,cols]\n",
    "    \n",
    "    return df"
   ]
  },
  {
   "cell_type": "code",
   "execution_count": 11,
   "metadata": {
    "collapsed": false
   },
   "outputs": [],
   "source": [
    "df = join_data4(train)\n",
    "df.drop('id',axis=1,inplace=True)\n",
    "X, y = df.ix[:,1:], df.ix[:,0]"
   ]
  },
  {
   "cell_type": "code",
   "execution_count": 13,
   "metadata": {
    "collapsed": true
   },
   "outputs": [],
   "source": [
    "from sklearn.ensemble import GradientBoostingClassifier"
   ]
  },
  {
   "cell_type": "code",
   "execution_count": 16,
   "metadata": {
    "collapsed": false
   },
   "outputs": [
    {
     "data": {
      "text/plain": [
       "GradientBoostingClassifier(init=None, learning_rate=0.01, loss='deviance',\n",
       "              max_depth=6, max_features=0.3, max_leaf_nodes=None,\n",
       "              min_samples_leaf=3, min_samples_split=2,\n",
       "              min_weight_fraction_leaf=0.0, n_estimators=1000,\n",
       "              random_state=0, subsample=1.0, verbose=0, warm_start=False)"
      ]
     },
     "execution_count": 16,
     "metadata": {},
     "output_type": "execute_result"
    }
   ],
   "source": [
    "clf = GradientBoostingClassifier(n_estimators=1000,\n",
    "                                 learning_rate=0.01,\n",
    "                                 max_depth=6,\n",
    "                                 max_features=0.3,\n",
    "                                 min_samples_leaf=3,\n",
    "                                random_state=0)\n",
    "clf.fit(X,y)"
   ]
  },
  {
   "cell_type": "code",
   "execution_count": 17,
   "metadata": {
    "collapsed": true
   },
   "outputs": [],
   "source": [
    "from sklearn.cross_validation import cross_val_score, KFold"
   ]
  },
  {
   "cell_type": "code",
   "execution_count": 18,
   "metadata": {
    "collapsed": true
   },
   "outputs": [],
   "source": [
    "cv = KFold(len(y),5,shuffle=True,random_state=0)"
   ]
  },
  {
   "cell_type": "code",
   "execution_count": 19,
   "metadata": {
    "collapsed": true
   },
   "outputs": [],
   "source": [
    "cros_val = cross_val_score(clf, X, y, cv=cv,scoring='log_loss')"
   ]
  },
  {
   "cell_type": "code",
   "execution_count": 21,
   "metadata": {
    "collapsed": false
   },
   "outputs": [
    {
     "data": {
      "text/plain": [
       "-0.52612176469510996"
      ]
     },
     "execution_count": 21,
     "metadata": {},
     "output_type": "execute_result"
    }
   ],
   "source": [
    "cros_val.mean()"
   ]
  },
  {
   "cell_type": "markdown",
   "metadata": {},
   "source": [
    "Не лучше последнего варианта"
   ]
  }
 ],
 "metadata": {
  "kernelspec": {
   "display_name": "Python 2",
   "language": "python",
   "name": "python2"
  },
  "language_info": {
   "codemirror_mode": {
    "name": "ipython",
    "version": 2
   },
   "file_extension": ".py",
   "mimetype": "text/x-python",
   "name": "python",
   "nbconvert_exporter": "python",
   "pygments_lexer": "ipython2",
   "version": "2.7.11"
  }
 },
 "nbformat": 4,
 "nbformat_minor": 0
}
