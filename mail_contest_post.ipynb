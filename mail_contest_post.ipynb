{
 "cells": [
  {
   "cell_type": "markdown",
   "metadata": {},
   "source": [
    "# Обзор пакета автомачитеского машинного обучения auto-sklearn"
   ]
  },
  {
   "cell_type": "markdown",
   "metadata": {},
   "source": [
    "Сегодня на сайте обзор библиотеки для автоматического машинного обучения под названием [auto-sklearn](https://github.com/automl/auto-sklearn). Эта библиотека практически не требует человеческого вмешательства, а все делает сама. С ее помощью, мне удалось занять 142 место (из 617 участников) в [соревновании по машинному обучению](http://mlbootcamp.ru/championship/10/) от mail.ru. Давайте посмотрим, что же это такое."
   ]
  },
  {
   "cell_type": "markdown",
   "metadata": {},
   "source": [
    "Загрузим данные в pandas и разобьем их на train и test. Обратите внимание, что я сразу конвертнул их во float64, т.к. auto-sklearn требует данные именно в таком формате."
   ]
  },
  {
   "cell_type": "code",
   "execution_count": 1,
   "metadata": {
    "ExecuteTime": {
     "end_time": "2017-03-21T09:11:57.774958",
     "start_time": "2017-03-21T09:11:54.446001"
    },
    "collapsed": false
   },
   "outputs": [],
   "source": [
    "import sklearn.metrics\n",
    "from sklearn.cross_validation import train_test_split\n",
    "import pandas as pd\n",
    "\n",
    "X = pd.read_csv('mail_data/x_train.csv',';').astype('float64')\n",
    "y = pd.read_csv('mail_data/y_train.csv',';',header=None).astype('float64')\n",
    "\n",
    "X_train, X_test, y_train, y_test = train_test_split(X, y, test_size=0.3, random_state=0)"
   ]
  },
  {
   "cell_type": "markdown",
   "metadata": {},
   "source": [
    "Импортируем классификатор и настраиваем его параметры."
   ]
  },
  {
   "cell_type": "code",
   "execution_count": 2,
   "metadata": {
    "ExecuteTime": {
     "end_time": "2017-03-21T09:11:59.579816",
     "start_time": "2017-03-21T09:11:57.776414"
    },
    "collapsed": true
   },
   "outputs": [],
   "source": [
    "import autosklearn.classification"
   ]
  },
  {
   "cell_type": "code",
   "execution_count": 3,
   "metadata": {
    "ExecuteTime": {
     "end_time": "2017-03-21T09:11:59.588572",
     "start_time": "2017-03-21T09:11:59.582310"
    },
    "collapsed": false
   },
   "outputs": [],
   "source": [
    "automl = autosklearn.classification.AutoSklearnClassifier(\n",
    "        time_left_for_this_task = int(1/12 * 3600),\n",
    "        per_run_time_limit = int(1/12 * 360),\n",
    "        ml_memory_limit = 128000,\n",
    "        exclude_preprocessors = ['RandomTreesEmbedding']\n",
    "        #resampling_strategy='cv',\n",
    "        #resampling_strategy_arguments={'folds': 3}\n",
    ")"
   ]
  },
  {
   "cell_type": "markdown",
   "metadata": {},
   "source": [
    "Основным параметрами, которые нужно настраивать, являются time_left_for_this_task - ограничение по времени на поиск оптимальной модели и per_run_time_limit - ограничение по времени на запуск отдельных моделей машинного обучения. Здесь я начал с 5 минут на весь поиск и 30 секунд на отдельные алгоритмы. Так же можно выставить лимит на оперативную память (ml_memory_limit) и стратегию семплирования (resampling_strategy). Обратите внимание, что я исключил из модели препроцессинг по методу 'RandomTreesEmbedding' (он глючит на моей машине) и кросс-валидацию решил не использовать. Подробнее о параметрах auto-sklearn можно почитать в [api](https://automl.github.io/auto-sklearn/stable/api.html). Запустим оптимизацию. Сами данные я даже не смотрел - я знал только, что это задача классификации."
   ]
  },
  {
   "cell_type": "code",
   "execution_count": 4,
   "metadata": {
    "ExecuteTime": {
     "end_time": "2017-03-21T09:16:56.166482",
     "start_time": "2017-03-21T09:11:59.590349"
    },
    "collapsed": false
   },
   "outputs": [
    {
     "name": "stdout",
     "output_type": "stream",
     "text": [
      "[WARNING] [2017-03-21 09:12:36,048:intensifier] Challenger was the same as the current incumbent; Skipping challenger\n",
      "[WARNING] [2017-03-21 09:12:36,048:intensifier] Challenger was the same as the current incumbent; Skipping challenger\n",
      "[WARNING] [2017-03-21 09:12:36,051:intensifier] Challenger was the same as the current incumbent; Skipping challenger\n",
      "[WARNING] [2017-03-21 09:12:36,051:intensifier] Challenger was the same as the current incumbent; Skipping challenger\n"
     ]
    },
    {
     "name": "stderr",
     "output_type": "stream",
     "text": [
      "You are already timing task: index_run6\n",
      "You are already timing task: index_run9\n",
      "You are already timing task: index_run10\n",
      "You are already timing task: index_run10\n",
      "You are already timing task: index_run10\n"
     ]
    }
   ],
   "source": [
    "automl.fit(X_train.copy().values, y_train.copy().values.ravel())"
   ]
  },
  {
   "cell_type": "markdown",
   "metadata": {},
   "source": [
    "Как и было задано - оптимизация шла 5 минут. Я так же сразу сохраню полученную модель в файл - эта хорошая привычка, т.к. когда вы будете запускать auto-sklearn на несколько дней, то будет очень обидно случайно потерять свои результаты."
   ]
  },
  {
   "cell_type": "code",
   "execution_count": 5,
   "metadata": {
    "ExecuteTime": {
     "end_time": "2017-03-21T09:16:56.583825",
     "start_time": "2017-03-21T09:16:56.168325"
    },
    "collapsed": true
   },
   "outputs": [],
   "source": [
    "import _pickle as cPickle\n",
    "with open('mail_automl_5min.pkl', 'wb') as fid:\n",
    "    cPickle.dump(automl, fid)"
   ]
  },
  {
   "cell_type": "markdown",
   "metadata": {},
   "source": [
    "Посмотрим, что же получается на выходе."
   ]
  },
  {
   "cell_type": "code",
   "execution_count": 6,
   "metadata": {
    "ExecuteTime": {
     "end_time": "2017-03-21T09:16:56.592301",
     "start_time": "2017-03-21T09:16:56.585603"
    },
    "collapsed": false
   },
   "outputs": [
    {
     "name": "stdout",
     "output_type": "stream",
     "text": [
      "[(0.340000, SimpleClassificationPipeline({'one_hot_encoding:use_minimum_fraction': 'True', 'one_hot_encoding:minimum_fraction': 0.0002695045315207182, 'classifier:libsvm_svc:shrinking': 'True', 'classifier:libsvm_svc:max_iter': -1, 'balancing:strategy': 'weighting', 'rescaling:__choice__': 'none', 'classifier:__choice__': 'libsvm_svc', 'imputation:strategy': 'mean', 'classifier:libsvm_svc:kernel': 'rbf', 'classifier:libsvm_svc:gamma': 0.10000000000000006, 'preprocessor:__choice__': 'no_preprocessing', 'classifier:libsvm_svc:C': 1.0, 'classifier:libsvm_svc:tol': 0.00010000000000000009},\n",
      "dataset_properties={\n",
      "  'sparse': False,\n",
      "  'task': 1,\n",
      "  'signed': False,\n",
      "  'multilabel': False,\n",
      "  'target_type': 'classification',\n",
      "  'multiclass': False})),\n",
      "(0.200000, SimpleClassificationPipeline({'one_hot_encoding:use_minimum_fraction': 'True', 'preprocessor:feature_agglomeration:n_clusters': 101, 'one_hot_encoding:minimum_fraction': 0.045645659641546966, 'preprocessor:feature_agglomeration:pooling_func': 'median', 'classifier:extra_trees:n_estimators': 100, 'balancing:strategy': 'weighting', 'rescaling:__choice__': 'minmax', 'classifier:extra_trees:criterion': 'gini', 'classifier:extra_trees:min_samples_leaf': 1, 'classifier:__choice__': 'extra_trees', 'imputation:strategy': 'median', 'classifier:extra_trees:max_depth': 'None', 'classifier:extra_trees:bootstrap': 'False', 'preprocessor:feature_agglomeration:affinity': 'cosine', 'preprocessor:feature_agglomeration:linkage': 'complete', 'preprocessor:__choice__': 'feature_agglomeration', 'classifier:extra_trees:min_weight_fraction_leaf': 0.0, 'classifier:extra_trees:max_features': 3.3361455146809385, 'classifier:extra_trees:min_samples_split': 7},\n",
      "dataset_properties={\n",
      "  'sparse': False,\n",
      "  'task': 1,\n",
      "  'signed': False,\n",
      "  'multilabel': False,\n",
      "  'target_type': 'classification',\n",
      "  'multiclass': False})),\n",
      "(0.180000, SimpleClassificationPipeline({'preprocessor:polynomial:degree': 2, 'classifier:xgradient_boosting:learning_rate': 0.01725897301943831, 'classifier:xgradient_boosting:reg_alpha': 0, 'balancing:strategy': 'none', 'preprocessor:polynomial:include_bias': 'True', 'imputation:strategy': 'mean', 'classifier:xgradient_boosting:min_child_weight': 19, 'classifier:xgradient_boosting:gamma': 0, 'classifier:xgradient_boosting:max_delta_step': 0, 'one_hot_encoding:use_minimum_fraction': 'True', 'classifier:xgradient_boosting:reg_lambda': 1, 'classifier:xgradient_boosting:scale_pos_weight': 1, 'classifier:xgradient_boosting:base_score': 0.5, 'classifier:__choice__': 'xgradient_boosting', 'preprocessor:polynomial:interaction_only': 'True', 'one_hot_encoding:minimum_fraction': 0.001765496868087784, 'classifier:xgradient_boosting:colsample_bytree': 1, 'rescaling:__choice__': 'none', 'classifier:xgradient_boosting:max_depth': 5, 'classifier:xgradient_boosting:colsample_bylevel': 1, 'preprocessor:__choice__': 'polynomial', 'classifier:xgradient_boosting:subsample': 0.3366674935347607, 'classifier:xgradient_boosting:n_estimators': 431},\n",
      "dataset_properties={\n",
      "  'sparse': False,\n",
      "  'task': 1,\n",
      "  'signed': False,\n",
      "  'multilabel': False,\n",
      "  'target_type': 'classification',\n",
      "  'multiclass': False})),\n",
      "(0.080000, SimpleClassificationPipeline({'one_hot_encoding:use_minimum_fraction': 'True', 'preprocessor:polynomial:degree': 2, 'classifier:random_forest:max_depth': 'None', 'classifier:random_forest:max_leaf_nodes': 'None', 'preprocessor:polynomial:interaction_only': 'True', 'balancing:strategy': 'none', 'classifier:random_forest:criterion': 'gini', 'classifier:random_forest:max_features': 2.0494577297275485, 'classifier:__choice__': 'random_forest', 'classifier:random_forest:min_samples_split': 2, 'classifier:random_forest:n_estimators': 100, 'imputation:strategy': 'mean', 'preprocessor:polynomial:include_bias': 'True', 'classifier:random_forest:min_weight_fraction_leaf': 0.0, 'one_hot_encoding:minimum_fraction': 0.010000000000000004, 'classifier:random_forest:bootstrap': 'True', 'rescaling:__choice__': 'minmax', 'preprocessor:__choice__': 'polynomial', 'classifier:random_forest:min_samples_leaf': 1},\n",
      "dataset_properties={\n",
      "  'sparse': False,\n",
      "  'task': 1,\n",
      "  'signed': False,\n",
      "  'multilabel': False,\n",
      "  'target_type': 'classification',\n",
      "  'multiclass': False})),\n",
      "(0.080000, SimpleClassificationPipeline({'one_hot_encoding:use_minimum_fraction': 'True', 'preprocessor:polynomial:degree': 2, 'preprocessor:polynomial:include_bias': 'False', 'classifier:lda:tol': 0.0014953303647732815, 'preprocessor:polynomial:interaction_only': 'False', 'balancing:strategy': 'none', 'rescaling:__choice__': 'minmax', 'classifier:__choice__': 'lda', 'imputation:strategy': 'mean', 'classifier:lda:n_components': 188, 'one_hot_encoding:minimum_fraction': 0.2327060477044702, 'preprocessor:__choice__': 'polynomial', 'classifier:lda:shrinkage': 'None'},\n",
      "dataset_properties={\n",
      "  'sparse': False,\n",
      "  'task': 1,\n",
      "  'signed': False,\n",
      "  'multilabel': False,\n",
      "  'target_type': 'classification',\n",
      "  'multiclass': False})),\n",
      "(0.060000, SimpleClassificationPipeline({'one_hot_encoding:use_minimum_fraction': 'True', 'classifier:random_forest:max_depth': 'None', 'classifier:random_forest:max_leaf_nodes': 'None', 'balancing:strategy': 'none', 'classifier:random_forest:criterion': 'gini', 'classifier:random_forest:max_features': 1.0, 'classifier:__choice__': 'random_forest', 'classifier:random_forest:min_samples_split': 2, 'classifier:random_forest:n_estimators': 100, 'imputation:strategy': 'mean', 'classifier:random_forest:min_weight_fraction_leaf': 0.0, 'one_hot_encoding:minimum_fraction': 0.01, 'classifier:random_forest:bootstrap': 'True', 'rescaling:__choice__': 'standardize', 'preprocessor:__choice__': 'no_preprocessing', 'classifier:random_forest:min_samples_leaf': 1},\n",
      "dataset_properties={\n",
      "  'sparse': False,\n",
      "  'task': 1,\n",
      "  'signed': False,\n",
      "  'multilabel': False,\n",
      "  'target_type': 'classification',\n",
      "  'multiclass': False})),\n",
      "(0.020000, SimpleClassificationPipeline({'one_hot_encoding:use_minimum_fraction': 'True', 'classifier:xgradient_boosting:reg_lambda': 1, 'classifier:xgradient_boosting:learning_rate': 0.12135790606587657, 'classifier:xgradient_boosting:reg_alpha': 0, 'classifier:xgradient_boosting:base_score': 0.5, 'balancing:strategy': 'none', 'rescaling:__choice__': 'standardize', 'classifier:xgradient_boosting:max_depth': 8, 'classifier:__choice__': 'xgradient_boosting', 'classifier:xgradient_boosting:scale_pos_weight': 1, 'imputation:strategy': 'mean', 'classifier:xgradient_boosting:gamma': 0, 'one_hot_encoding:minimum_fraction': 0.08554118822152902, 'classifier:xgradient_boosting:colsample_bytree': 1, 'classifier:xgradient_boosting:colsample_bylevel': 1, 'classifier:xgradient_boosting:min_child_weight': 11, 'classifier:xgradient_boosting:max_delta_step': 0, 'preprocessor:__choice__': 'no_preprocessing', 'classifier:xgradient_boosting:subsample': 0.8703624243977103, 'classifier:xgradient_boosting:n_estimators': 279},\n",
      "dataset_properties={\n",
      "  'sparse': False,\n",
      "  'task': 1,\n",
      "  'signed': False,\n",
      "  'multilabel': False,\n",
      "  'target_type': 'classification',\n",
      "  'multiclass': False})),\n",
      "(0.020000, SimpleClassificationPipeline({'one_hot_encoding:use_minimum_fraction': 'False', 'preprocessor:feature_agglomeration:n_clusters': 295, 'classifier:gradient_boosting:max_depth': 2, 'classifier:gradient_boosting:min_samples_split': 19, 'balancing:strategy': 'weighting', 'rescaling:__choice__': 'none', 'preprocessor:feature_agglomeration:pooling_func': 'max', 'classifier:gradient_boosting:min_weight_fraction_leaf': 0.0, 'classifier:__choice__': 'gradient_boosting', 'imputation:strategy': 'most_frequent', 'classifier:gradient_boosting:max_features': 4.2564408409001455, 'classifier:gradient_boosting:learning_rate': 0.08840591888606261, 'preprocessor:feature_agglomeration:linkage': 'ward', 'classifier:gradient_boosting:min_samples_leaf': 10, 'preprocessor:feature_agglomeration:affinity': 'euclidean', 'classifier:gradient_boosting:n_estimators': 494, 'preprocessor:__choice__': 'feature_agglomeration', 'classifier:gradient_boosting:max_leaf_nodes': 'None', 'classifier:gradient_boosting:subsample': 0.8596976530848232, 'classifier:gradient_boosting:loss': 'deviance'},\n",
      "dataset_properties={\n",
      "  'sparse': False,\n",
      "  'task': 1,\n",
      "  'signed': False,\n",
      "  'multilabel': False,\n",
      "  'target_type': 'classification',\n",
      "  'multiclass': False})),\n",
      "(0.020000, SimpleClassificationPipeline({'one_hot_encoding:use_minimum_fraction': 'True', 'preprocessor:liblinear_svc_preprocessor:intercept_scaling': 1, 'one_hot_encoding:minimum_fraction': 0.000630825602918293, 'preprocessor:liblinear_svc_preprocessor:C': 30132.90919219214, 'preprocessor:liblinear_svc_preprocessor:penalty': 'l1', 'classifier:lda:tol': 0.006565428290041747, 'balancing:strategy': 'none', 'rescaling:__choice__': 'minmax', 'preprocessor:liblinear_svc_preprocessor:fit_intercept': 'True', 'preprocessor:liblinear_svc_preprocessor:dual': 'False', 'classifier:__choice__': 'lda', 'imputation:strategy': 'mean', 'preprocessor:liblinear_svc_preprocessor:tol': 0.0002494967914296536, 'classifier:lda:n_components': 115, 'preprocessor:liblinear_svc_preprocessor:multi_class': 'ovr', 'preprocessor:__choice__': 'liblinear_svc_preprocessor', 'classifier:lda:shrinkage': 'manual', 'classifier:lda:shrinkage_factor': 0.0856179706451039, 'preprocessor:liblinear_svc_preprocessor:loss': 'squared_hinge'},\n",
      "dataset_properties={\n",
      "  'sparse': False,\n",
      "  'task': 1,\n",
      "  'signed': False,\n",
      "  'multilabel': False,\n",
      "  'target_type': 'classification',\n",
      "  'multiclass': False})),\n",
      "]\n"
     ]
    }
   ],
   "source": [
    "print (automl.show_models())"
   ]
  },
  {
   "cell_type": "markdown",
   "metadata": {},
   "source": [
    "На выходе имеем ансамбль из нескольких моделей с разными весами. Все параметры моделей явно прописаны и при желании их, наверное, можно воспроизвести стандартными средствами sklearn (я правда не пробовал этого делать). Посмотрим на качество модели - сделать это легко, т.к. объекты auto-sklearn имеют привычные методы обычного sklearn. Посчитаем accuracy."
   ]
  },
  {
   "cell_type": "code",
   "execution_count": 7,
   "metadata": {
    "ExecuteTime": {
     "end_time": "2017-03-21T09:16:59.973634",
     "start_time": "2017-03-21T09:16:56.594241"
    },
    "collapsed": false
   },
   "outputs": [
    {
     "name": "stdout",
     "output_type": "stream",
     "text": [
      "Accuracy score 0.824304731778\n"
     ]
    }
   ],
   "source": [
    "predictions = automl.predict(X_test.values)\n",
    "print(\"Accuracy score\", sklearn.metrics.accuracy_score(y_test.values, predictions))"
   ]
  },
  {
   "cell_type": "markdown",
   "metadata": {},
   "source": [
    "Посмотрим на roc auc на train и test."
   ]
  },
  {
   "cell_type": "code",
   "execution_count": 8,
   "metadata": {
    "ExecuteTime": {
     "end_time": "2017-03-21T09:17:00.490028",
     "start_time": "2017-03-21T09:16:59.981379"
    },
    "collapsed": false
   },
   "outputs": [
    {
     "name": "stdout",
     "output_type": "stream",
     "text": [
      "Populating the interactive namespace from numpy and matplotlib\n"
     ]
    }
   ],
   "source": [
    "%pylab inline"
   ]
  },
  {
   "cell_type": "code",
   "execution_count": 9,
   "metadata": {
    "ExecuteTime": {
     "end_time": "2017-03-21T09:17:00.497185",
     "start_time": "2017-03-21T09:17:00.491516"
    },
    "collapsed": true
   },
   "outputs": [],
   "source": [
    "def get_roc(model,X,y):\n",
    "    from sklearn.metrics import roc_curve, auc\n",
    "    pred = model.predict_proba(X.copy().values)[:, 1]\n",
    "    fpr, tpr, _ = roc_curve(y, pred)\n",
    "    roc_auc = auc(fpr, tpr)\n",
    "    return fpr, tpr, roc_auc"
   ]
  },
  {
   "cell_type": "code",
   "execution_count": 10,
   "metadata": {
    "ExecuteTime": {
     "end_time": "2017-03-21T09:17:00.509875",
     "start_time": "2017-03-21T09:17:00.498188"
    },
    "collapsed": false
   },
   "outputs": [],
   "source": [
    "def plot_test_train_roc(model, X_train, X_test, y_train, y_test):\n",
    "    fpr_test, tpr_test, roc_auc_test = get_roc(model,X_test,y_test)\n",
    "    fpr_train, tpr_train, roc_auc_train = get_roc(model,X_train,y_train)\n",
    "    plt.figure()\n",
    "    plt.plot(fpr_test, tpr_test, label='ROC curve (area = %0.2f) test' % roc_auc_test)\n",
    "    plt.plot(fpr_train, tpr_train, label='ROC curve (area = %0.2f) train' % roc_auc_train)\n",
    "    plt.plot([0, 1], [0, 1], 'k--')\n",
    "    plt.xlim([0.0, 1.0])\n",
    "    plt.ylim([0.0, 1.05])\n",
    "    plt.xlabel('False Positive Rate')\n",
    "    plt.ylabel('True Positive Rate')\n",
    "    plt.title('Receiver operating characteristic')\n",
    "    plt.legend(loc=\"lower right\")\n",
    "    plt.show()"
   ]
  },
  {
   "cell_type": "code",
   "execution_count": 11,
   "metadata": {
    "ExecuteTime": {
     "end_time": "2017-03-21T09:17:10.859470",
     "start_time": "2017-03-21T09:17:00.510876"
    },
    "collapsed": false
   },
   "outputs": [
    {
     "data": {
      "image/png": "[encoded data removed]",
      "text/plain": [
       "<matplotlib.figure.Figure at 0x7f94177c95c0>"
      ]
     },
     "metadata": {},
     "output_type": "display_data"
    }
   ],
   "source": [
    "plot_test_train_roc(automl, X_train, X_test, y_train, y_test)"
   ]
  },
  {
   "cell_type": "markdown",
   "metadata": {},
   "source": [
    "Здесь можно увидеть, что модель получилась достаточно сильно переобученной - об этом свидетельствует большая дельта между roc auc на train и test. Попробуем снизить переобучение и погонять оптимизацию чуть подольше, а так же добавим кросс-валидацию по 3 фолдам. Обратите внимание, что параметры time_left_for_this_task и per_run_time_limit я настраиваю в связке, только для простоты демонстрации. Если вы поставите оптимизацию на день или больше, то per_run_time_limit должен быть не меньше, чем время, требующееся для обучения одной мощной модели (например, случайного леса)."
   ]
  },
  {
   "cell_type": "code",
   "execution_count": 12,
   "metadata": {
    "ExecuteTime": {
     "end_time": "2017-03-21T09:17:10.864077",
     "start_time": "2017-03-21T09:17:10.860442"
    },
    "collapsed": false
   },
   "outputs": [],
   "source": [
    "automl2 = autosklearn.classification.AutoSklearnClassifier(\n",
    "        time_left_for_this_task = int(1 * 3600),\n",
    "        per_run_time_limit = int(1 * 360),\n",
    "        ml_memory_limit=128000,\n",
    "        exclude_preprocessors = ['RandomTreesEmbedding'],\n",
    "        resampling_strategy = 'cv',\n",
    "        resampling_strategy_arguments={'folds': 3}\n",
    ")"
   ]
  },
  {
   "cell_type": "markdown",
   "metadata": {},
   "source": [
    "Auto-sklearn позволяет пользователю выбирать функцию, которая будет оптимизироваться. По умолчанию стоит accuracy. Давайте поставим, чтобы он оптимизировал, например, [f1](https://en.wikipedia.org/wiki/F1_score). Кстати, в методе fit так же имеется параметр feat_type, в котором можно указать, какие из ваших переменных категориальные - тогда auto-sklearn автоматически сделает one hot encoding."
   ]
  },
  {
   "cell_type": "code",
   "execution_count": 13,
   "metadata": {
    "ExecuteTime": {
     "end_time": "2017-03-21T10:17:08.396084",
     "start_time": "2017-03-21T09:17:10.865037"
    },
    "collapsed": false
   },
   "outputs": [
    {
     "name": "stderr",
     "output_type": "stream",
     "text": [
      "You are already timing task: index_run8\n",
      "You are already timing task: index_run9\n",
      "You are already timing task: index_run10\n",
      "You are already timing task: index_run10\n",
      "You are already timing task: index_run15\n"
     ]
    },
    {
     "name": "stdout",
     "output_type": "stream",
     "text": [
      "[WARNING] [2017-03-21 09:47:28,110:intensifier] Challenger was the same as the current incumbent; Skipping challenger\n",
      "[WARNING] [2017-03-21 09:47:28,110:intensifier] Challenger was the same as the current incumbent; Skipping challenger\n"
     ]
    },
    {
     "name": "stderr",
     "output_type": "stream",
     "text": [
      "You are already timing task: index_run16\n",
      "You are already timing task: index_run18\n",
      "You are already timing task: index_run19\n",
      "You are already timing task: index_run21\n",
      "You are already timing task: index_run22\n"
     ]
    },
    {
     "name": "stdout",
     "output_type": "stream",
     "text": [
      "n_components is too large: it will be set to 12\n",
      "n_components is too large: it will be set to 12\n",
      "n_components is too large: it will be set to 12\n"
     ]
    },
    {
     "name": "stderr",
     "output_type": "stream",
     "text": [
      "You are already timing task: index_run23\n"
     ]
    },
    {
     "name": "stdout",
     "output_type": "stream",
     "text": [
      "[WARNING] [2017-03-21 10:03:42,516:intensifier] Challenger was the same as the current incumbent; Skipping challenger\n",
      "[WARNING] [2017-03-21 10:03:42,516:intensifier] Challenger was the same as the current incumbent; Skipping challenger\n"
     ]
    },
    {
     "name": "stderr",
     "output_type": "stream",
     "text": [
      "You are already timing task: index_run23\n",
      "You are already timing task: index_run24\n",
      "You are already timing task: index_run24\n",
      "You are already timing task: index_run24\n",
      "You are already timing task: index_run25\n"
     ]
    },
    {
     "name": "stdout",
     "output_type": "stream",
     "text": [
      "[WARNING] [2017-03-21 10:11:02,456:intensifier] Challenger was the same as the current incumbent; Skipping challenger\n",
      "[WARNING] [2017-03-21 10:11:02,456:intensifier] Challenger was the same as the current incumbent; Skipping challenger\n"
     ]
    },
    {
     "name": "stderr",
     "output_type": "stream",
     "text": [
      "You are already timing task: index_run25\n",
      "You are already timing task: index_run25\n"
     ]
    },
    {
     "name": "stdout",
     "output_type": "stream",
     "text": [
      "[WARNING] [2017-03-21 10:15:25,747:intensifier] Challenger was the same as the current incumbent; Skipping challenger\n",
      "[WARNING] [2017-03-21 10:15:25,747:intensifier] Challenger was the same as the current incumbent; Skipping challenger\n"
     ]
    },
    {
     "name": "stderr",
     "output_type": "stream",
     "text": [
      "You are already timing task: index_run26\n",
      "You are already timing task: index_run26\n",
      "You are already timing task: index_run26\n",
      "You are already timing task: index_run26\n",
      "You are already timing task: index_run26\n"
     ]
    },
    {
     "name": "stdout",
     "output_type": "stream",
     "text": [
      "[WARNING] [2017-03-21 10:16:36,774:intensifier] Challenger was the same as the current incumbent; Skipping challenger\n",
      "[WARNING] [2017-03-21 10:16:36,774:intensifier] Challenger was the same as the current incumbent; Skipping challenger\n"
     ]
    },
    {
     "name": "stderr",
     "output_type": "stream",
     "text": [
      "You are already timing task: index_run26\n"
     ]
    }
   ],
   "source": [
    "automl2.fit(X_train.copy().values, y_train.copy().values.ravel(),metric='f1_metric')"
   ]
  },
  {
   "cell_type": "markdown",
   "metadata": {},
   "source": [
    "Если в auto-sklearn используется стратегий кросс-валидации, то модель обязательно требует вызвать метод refit, чтобы обучиться на всех данных."
   ]
  },
  {
   "cell_type": "code",
   "execution_count": 14,
   "metadata": {
    "ExecuteTime": {
     "end_time": "2017-03-21T10:40:35.499382",
     "start_time": "2017-03-21T10:17:08.397598"
    },
    "collapsed": false
   },
   "outputs": [
    {
     "name": "stdout",
     "output_type": "stream",
     "text": [
      "n_components is too large: it will be set to 12\n"
     ]
    },
    {
     "data": {
      "text/plain": [
       "AutoML(acquisition_function='EI', backend=None, configuration_mode=None,\n",
       "    debug_mode=None, delete_output_folder_after_terminate=None,\n",
       "    delete_tmp_folder_after_terminate=None, disable_evaluator_output=None,\n",
       "    ensemble_nbest=None, ensemble_size=None, exclude_estimators=None,\n",
       "    exclude_preprocessors=None, include_estimators=None,\n",
       "    include_preprocessors=None,\n",
       "    initial_configurations_via_metalearning=None, keep_models=None,\n",
       "    log_dir=None, max_iter_smac=None, metadata_directory=None,\n",
       "    ml_memory_limit=None, per_run_time_limit=None, precision=32,\n",
       "    resampling_strategy=None, resampling_strategy_arguments=None,\n",
       "    seed=None, shared_mode=None, time_left_for_this_task=None)"
      ]
     },
     "execution_count": 14,
     "metadata": {},
     "output_type": "execute_result"
    }
   ],
   "source": [
    "automl2.refit(X_train.copy().values, y_train.copy().values.ravel())"
   ]
  },
  {
   "cell_type": "code",
   "execution_count": 15,
   "metadata": {
    "ExecuteTime": {
     "end_time": "2017-03-21T10:40:37.321115",
     "start_time": "2017-03-21T10:40:35.500758"
    },
    "collapsed": true
   },
   "outputs": [],
   "source": [
    "import _pickle as cPickle\n",
    "with open('mail_automl_1hour.pkl', 'wb') as fid:\n",
    "    cPickle.dump(automl2, fid)"
   ]
  },
  {
   "cell_type": "markdown",
   "metadata": {},
   "source": [
    "Построим roc."
   ]
  },
  {
   "cell_type": "code",
   "execution_count": 16,
   "metadata": {
    "ExecuteTime": {
     "end_time": "2017-03-21T10:43:03.790028",
     "start_time": "2017-03-21T10:40:37.323282"
    },
    "collapsed": false
   },
   "outputs": [
    {
     "data": {
      "image/png": "[encoded data removed]",
      "text/plain": [
       "<matplotlib.figure.Figure at 0x7f936546eb38>"
      ]
     },
     "metadata": {},
     "output_type": "display_data"
    }
   ],
   "source": [
    "plot_test_train_roc(automl2, X_train, X_test, y_train, y_test)"
   ]
  },
  {
   "cell_type": "markdown",
   "metadata": {},
   "source": [
    "Переобучение осталось, но немного снизилось. Плюс увеличился roc на тесте - это хорошо. Модель, результаты которой я постил на соревновании, оптимизировалась несколько дней и ее показатели качества были еще лучше. Да, кстати, если вы используете hold-out выборку, т.е. сами разбиваете на train и test, то перед предсказанием результатов на реальном тесте нужно обучить полученную модель на всех данных. Для этого так же следует использовать метод refit."
   ]
  },
  {
   "cell_type": "code",
   "execution_count": 17,
   "metadata": {
    "ExecuteTime": {
     "end_time": "2017-03-21T10:45:45.958876",
     "start_time": "2017-03-21T10:43:03.791649"
    },
    "collapsed": false
   },
   "outputs": [
    {
     "data": {
      "text/plain": [
       "AutoML(acquisition_function='EI', backend=None, configuration_mode=None,\n",
       "    debug_mode=None, delete_output_folder_after_terminate=None,\n",
       "    delete_tmp_folder_after_terminate=None, disable_evaluator_output=None,\n",
       "    ensemble_nbest=None, ensemble_size=None, exclude_estimators=None,\n",
       "    exclude_preprocessors=None, include_estimators=None,\n",
       "    include_preprocessors=None,\n",
       "    initial_configurations_via_metalearning=None, keep_models=None,\n",
       "    log_dir=None, max_iter_smac=None, metadata_directory=None,\n",
       "    ml_memory_limit=None, per_run_time_limit=None, precision=32,\n",
       "    resampling_strategy=None, resampling_strategy_arguments=None,\n",
       "    seed=None, shared_mode=None, time_left_for_this_task=None)"
      ]
     },
     "execution_count": 17,
     "metadata": {},
     "output_type": "execute_result"
    }
   ],
   "source": [
    "automl.refit(X.copy().values, y.copy().values.ravel())"
   ]
  },
  {
   "cell_type": "markdown",
   "metadata": {},
   "source": [
    "После его завершения можно делать предсказания и постить результат."
   ]
  },
  {
   "cell_type": "markdown",
   "metadata": {},
   "source": [
    "Выводы:\n",
    "\n",
    "1. Auto-sklearn дает неплохие результаты при минимуме усилий. Если добавить сюда еще какой-то маломальский feature engineering, то можно получить очень хорошие результаты.\n",
    "1. Качество модели на auto-sklearn может служить отправной точкой вашего исследования. Roc auc полученный на авто-обучение можно использовать как некий base line для сравнения с моделями, которые вы создадите сами.\n",
    "1. С помощью auto-sklearn можно очень быстро оценить потенциал данных, которые вы собираетесь использовать в решении той или иной задачи. Если автоматическая модель дает совсем плохие результаты - значит нужно подумать над расширением списка используемых переменных и найти какую-то дополнительную информацию по исследуемому процессу."
   ]
  }
 ],
 "metadata": {
  "hide_input": false,
  "kernelspec": {
   "display_name": "automl3",
   "language": "python",
   "name": "automl3"
  },
  "language_info": {
   "codemirror_mode": {
    "name": "ipython",
    "version": 3
   },
   "file_extension": ".py",
   "mimetype": "text/x-python",
   "name": "python",
   "nbconvert_exporter": "python",
   "pygments_lexer": "ipython3",
   "version": "3.5.0"
  }
 },
 "nbformat": 4,
 "nbformat_minor": 2
}
