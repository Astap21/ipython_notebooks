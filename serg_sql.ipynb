{
 "cells": [
  {
   "cell_type": "code",
   "execution_count": 1,
   "metadata": {
    "collapsed": true
   },
   "outputs": [],
   "source": [
    "import sqlite3\n",
    "import pandas as pd"
   ]
  },
  {
   "cell_type": "markdown",
   "metadata": {},
   "source": [
    "Я для удобства презентации сделал в питоне, но ты на это не морочся - просто анализируй запрос и комменты к нему."
   ]
  },
  {
   "cell_type": "markdown",
   "metadata": {},
   "source": [
    "Считаем таблицу из excel."
   ]
  },
  {
   "cell_type": "code",
   "execution_count": 23,
   "metadata": {
    "collapsed": false
   },
   "outputs": [
    {
     "data": {
      "text/html": [
       "<div>\n",
       "<table border=\"1\" class=\"dataframe\">\n",
       "  <thead>\n",
       "    <tr style=\"text-align: right;\">\n",
       "      <th></th>\n",
       "      <th>week</th>\n",
       "      <th>date</th>\n",
       "      <th>client_id</th>\n",
       "      <th>receipt_id</th>\n",
       "      <th>item_id</th>\n",
       "      <th>volume</th>\n",
       "      <th>amount</th>\n",
       "    </tr>\n",
       "  </thead>\n",
       "  <tbody>\n",
       "    <tr>\n",
       "      <th>0</th>\n",
       "      <td>4</td>\n",
       "      <td>23.01.15</td>\n",
       "      <td>1-2CM-1</td>\n",
       "      <td>1-1OI2VZF</td>\n",
       "      <td>ТОВ244730</td>\n",
       "      <td>84.0</td>\n",
       "      <td>1</td>\n",
       "    </tr>\n",
       "    <tr>\n",
       "      <th>1</th>\n",
       "      <td>4</td>\n",
       "      <td>23.01.15</td>\n",
       "      <td>1-2CM-1</td>\n",
       "      <td>1-1OI2VZF</td>\n",
       "      <td>ТОВ244732</td>\n",
       "      <td>64.0</td>\n",
       "      <td>1</td>\n",
       "    </tr>\n",
       "    <tr>\n",
       "      <th>2</th>\n",
       "      <td>4</td>\n",
       "      <td>23.01.15</td>\n",
       "      <td>1-2CM-1</td>\n",
       "      <td>1-1OI2VZF</td>\n",
       "      <td>ТОВ228962</td>\n",
       "      <td>278.0</td>\n",
       "      <td>2</td>\n",
       "    </tr>\n",
       "    <tr>\n",
       "      <th>3</th>\n",
       "      <td>4</td>\n",
       "      <td>23.01.15</td>\n",
       "      <td>1-2CM-1</td>\n",
       "      <td>1-1OI2VZF</td>\n",
       "      <td>ТОВ223367</td>\n",
       "      <td>78.0</td>\n",
       "      <td>1</td>\n",
       "    </tr>\n",
       "    <tr>\n",
       "      <th>4</th>\n",
       "      <td>4</td>\n",
       "      <td>23.01.15</td>\n",
       "      <td>1-2CM-1</td>\n",
       "      <td>1-1OI2VZF</td>\n",
       "      <td>ТОВ279930</td>\n",
       "      <td>56.8</td>\n",
       "      <td>1</td>\n",
       "    </tr>\n",
       "  </tbody>\n",
       "</table>\n",
       "</div>"
      ],
      "text/plain": [
       "   week      date client_id receipt_id    item_id  volume  amount\n",
       "0     4  23.01.15   1-2CM-1  1-1OI2VZF  ТОВ244730    84.0       1\n",
       "1     4  23.01.15   1-2CM-1  1-1OI2VZF  ТОВ244732    64.0       1\n",
       "2     4  23.01.15   1-2CM-1  1-1OI2VZF  ТОВ228962   278.0       2\n",
       "3     4  23.01.15   1-2CM-1  1-1OI2VZF  ТОВ223367    78.0       1\n",
       "4     4  23.01.15   1-2CM-1  1-1OI2VZF  ТОВ279930    56.8       1"
      ]
     },
     "execution_count": 23,
     "metadata": {},
     "output_type": "execute_result"
    }
   ],
   "source": [
    "df = pd.read_excel(u'Тестовое задание_Азбука Вкуса_2.xlsx',sheetname='Sheet1')\n",
    "df.head()"
   ]
  },
  {
   "cell_type": "markdown",
   "metadata": {},
   "source": [
    "Создадим базу данных."
   ]
  },
  {
   "cell_type": "code",
   "execution_count": 3,
   "metadata": {
    "collapsed": true
   },
   "outputs": [],
   "source": [
    "import csv, sqlite3\n",
    "conn = sqlite3.connect(\"database1.db\")\n",
    "cur = conn.cursor()"
   ]
  },
  {
   "cell_type": "markdown",
   "metadata": {},
   "source": [
    "Загрузим в нее датафрейм (таблицу с данными) и назовем таблицу sales."
   ]
  },
  {
   "cell_type": "code",
   "execution_count": 33,
   "metadata": {
    "collapsed": false
   },
   "outputs": [],
   "source": [
    "df.to_sql('sales',conn,index=False,if_exists='replace')"
   ]
  },
  {
   "cell_type": "markdown",
   "metadata": {},
   "source": [
    "Протестируем работают ли запросы."
   ]
  },
  {
   "cell_type": "code",
   "execution_count": 34,
   "metadata": {
    "collapsed": false
   },
   "outputs": [
    {
     "data": {
      "text/html": [
       "<div>\n",
       "<table border=\"1\" class=\"dataframe\">\n",
       "  <thead>\n",
       "    <tr style=\"text-align: right;\">\n",
       "      <th></th>\n",
       "      <th>0</th>\n",
       "      <th>1</th>\n",
       "      <th>2</th>\n",
       "      <th>3</th>\n",
       "      <th>4</th>\n",
       "      <th>5</th>\n",
       "      <th>6</th>\n",
       "    </tr>\n",
       "  </thead>\n",
       "  <tbody>\n",
       "    <tr>\n",
       "      <th>0</th>\n",
       "      <td>4</td>\n",
       "      <td>23.01.15</td>\n",
       "      <td>1-2CM-1</td>\n",
       "      <td>1-1OI2VZF</td>\n",
       "      <td>ТОВ244730</td>\n",
       "      <td>84.0</td>\n",
       "      <td>1</td>\n",
       "    </tr>\n",
       "    <tr>\n",
       "      <th>1</th>\n",
       "      <td>4</td>\n",
       "      <td>23.01.15</td>\n",
       "      <td>1-2CM-1</td>\n",
       "      <td>1-1OI2VZF</td>\n",
       "      <td>ТОВ244732</td>\n",
       "      <td>64.0</td>\n",
       "      <td>1</td>\n",
       "    </tr>\n",
       "    <tr>\n",
       "      <th>2</th>\n",
       "      <td>4</td>\n",
       "      <td>23.01.15</td>\n",
       "      <td>1-2CM-1</td>\n",
       "      <td>1-1OI2VZF</td>\n",
       "      <td>ТОВ228962</td>\n",
       "      <td>278.0</td>\n",
       "      <td>2</td>\n",
       "    </tr>\n",
       "    <tr>\n",
       "      <th>3</th>\n",
       "      <td>4</td>\n",
       "      <td>23.01.15</td>\n",
       "      <td>1-2CM-1</td>\n",
       "      <td>1-1OI2VZF</td>\n",
       "      <td>ТОВ223367</td>\n",
       "      <td>78.0</td>\n",
       "      <td>1</td>\n",
       "    </tr>\n",
       "    <tr>\n",
       "      <th>4</th>\n",
       "      <td>4</td>\n",
       "      <td>23.01.15</td>\n",
       "      <td>1-2CM-1</td>\n",
       "      <td>1-1OI2VZF</td>\n",
       "      <td>ТОВ279930</td>\n",
       "      <td>56.8</td>\n",
       "      <td>1</td>\n",
       "    </tr>\n",
       "  </tbody>\n",
       "</table>\n",
       "</div>"
      ],
      "text/plain": [
       "   0         1        2          3          4      5  6\n",
       "0  4  23.01.15  1-2CM-1  1-1OI2VZF  ТОВ244730   84.0  1\n",
       "1  4  23.01.15  1-2CM-1  1-1OI2VZF  ТОВ244732   64.0  1\n",
       "2  4  23.01.15  1-2CM-1  1-1OI2VZF  ТОВ228962  278.0  2\n",
       "3  4  23.01.15  1-2CM-1  1-1OI2VZF  ТОВ223367   78.0  1\n",
       "4  4  23.01.15  1-2CM-1  1-1OI2VZF  ТОВ279930   56.8  1"
      ]
     },
     "execution_count": 34,
     "metadata": {},
     "output_type": "execute_result"
    }
   ],
   "source": [
    "sql = \"select * from sales\"\n",
    "cur.execute(sql)\n",
    "pd.DataFrame(cur.fetchall()).head()"
   ]
  },
  {
   "cell_type": "markdown",
   "metadata": {},
   "source": [
    "Все работает, переходим к заданию."
   ]
  },
  {
   "cell_type": "markdown",
   "metadata": {},
   "source": [
    "## Написать sql-скрипт, который будет выводить кол-во чеков на 3-ей неделе, содержащих 1, 2, 3 и более 3-х позиций (товаров) в чеке."
   ]
  },
  {
   "cell_type": "code",
   "execution_count": 35,
   "metadata": {
    "collapsed": false
   },
   "outputs": [
    {
     "data": {
      "text/plain": [
       "Index(['week', 'date', 'client_id', 'receipt_id', 'item_id', 'volume',\n",
       "       'amount'],\n",
       "      dtype='object')"
      ]
     },
     "execution_count": 35,
     "metadata": {},
     "output_type": "execute_result"
    }
   ],
   "source": [
    "df.columns"
   ]
  },
  {
   "cell_type": "markdown",
   "metadata": {},
   "source": [
    "Cначала создадим запрос, который считает количество позиций (товаров) в каждом чеке и отбирает те, где это количество равно определенному значению (в данном запросе 1). Этот запрос эквивалентен сводной табцице построенной на исходных данных, где в строках стоит id чека, в значениях количество по id товара и фильтр по неделе (=3) - обязательно попробуй сделать ее сам!!! Далее это сводная таблица фильтруется по получившимуся количеству товаров (в этом запросе оно = 1).\n",
    "\n",
    "По порядку опишу каждую строку:\n",
    "\n",
    "1. select - каждый запрос, который делает запрос к существующей таблице начинается c select. Может начинаться с например create table для создания таблицы или drop table для удаление теблицы. Загугли какие еще могут быть.\n",
    "2. После селекта идет список столбцов, которые ты хочешь получить в результате запроса. В данном случае это:\n",
    "    - t1.receipt_id - id чека\n",
    "    - count(t1.item_id) - количество позичиций (товаров) в чеке. Вместо count может быть  sum, avg, min, max - это функция аггрегации.\n",
    "3. from sales t1 - после списка столбцов идет название таблицы в котором храняться эти столбцы, в данном случае это sales. Обрати внимание, что после sales я написал t1 - это псевдоним (алиас) таблицы sales. Это нужно для того, чтобы каждый раз не писать sales, а в место этого писать короткий псевдоним t1. Этот псевдоним используется во всех частях запроса.\n",
    "4. where t1.week = 3 - в блоке where идут условия, по которым мы фильтруем запрос. В данном случаее от нас хотят данные только третьей недели.\n",
    "5. group by t1.receipt_id - в блоке group by указываются поля по которым мы группируем (эквивалентно полям, которые добавляются в строки сводной таблицы)\n",
    "6. having count(t1.item_id) = 1 - блок having позволяет фильтровать запрос по аггрегированному показателю - в данном случае по количеству товаров на каждый чек. В экселе бы ты скопировал свод на другой лист и фильтранул по необходимому количеству. Ну или наложил бы числовой фильтр по количеству прямо в сводной таблице."
   ]
  },
  {
   "cell_type": "code",
   "execution_count": 85,
   "metadata": {
    "collapsed": true
   },
   "outputs": [],
   "source": [
    "sql = '''\n",
    "select\n",
    "\n",
    "t1.receipt_id,\n",
    "count(t1.item_id)\n",
    "\n",
    "from sales t1\n",
    "\n",
    "where t1.week = 3\n",
    "\n",
    "group by t1.receipt_id\n",
    "\n",
    "having count(t1.item_id) = 1\n",
    "'''"
   ]
  },
  {
   "cell_type": "markdown",
   "metadata": {},
   "source": [
    "Запустим запрос и посмотрим, что он дал."
   ]
  },
  {
   "cell_type": "code",
   "execution_count": 89,
   "metadata": {
    "collapsed": false
   },
   "outputs": [
    {
     "data": {
      "text/html": [
       "<div>\n",
       "<table border=\"1\" class=\"dataframe\">\n",
       "  <thead>\n",
       "    <tr style=\"text-align: right;\">\n",
       "      <th></th>\n",
       "      <th>0</th>\n",
       "      <th>1</th>\n",
       "    </tr>\n",
       "  </thead>\n",
       "  <tbody>\n",
       "    <tr>\n",
       "      <th>0</th>\n",
       "      <td>1-1J4FRFN</td>\n",
       "      <td>1</td>\n",
       "    </tr>\n",
       "    <tr>\n",
       "      <th>1</th>\n",
       "      <td>1-1J64C96</td>\n",
       "      <td>1</td>\n",
       "    </tr>\n",
       "    <tr>\n",
       "      <th>2</th>\n",
       "      <td>1-1J7TED2</td>\n",
       "      <td>1</td>\n",
       "    </tr>\n",
       "    <tr>\n",
       "      <th>3</th>\n",
       "      <td>1-1J7XND6</td>\n",
       "      <td>1</td>\n",
       "    </tr>\n",
       "    <tr>\n",
       "      <th>4</th>\n",
       "      <td>1-1J827W9</td>\n",
       "      <td>1</td>\n",
       "    </tr>\n",
       "    <tr>\n",
       "      <th>5</th>\n",
       "      <td>1-1J83Z7A</td>\n",
       "      <td>1</td>\n",
       "    </tr>\n",
       "    <tr>\n",
       "      <th>6</th>\n",
       "      <td>1-1J8DG23</td>\n",
       "      <td>1</td>\n",
       "    </tr>\n",
       "    <tr>\n",
       "      <th>7</th>\n",
       "      <td>1-1J8M7LU</td>\n",
       "      <td>1</td>\n",
       "    </tr>\n",
       "    <tr>\n",
       "      <th>8</th>\n",
       "      <td>1-1J97RAC</td>\n",
       "      <td>1</td>\n",
       "    </tr>\n",
       "    <tr>\n",
       "      <th>9</th>\n",
       "      <td>1-1J9PNAU</td>\n",
       "      <td>1</td>\n",
       "    </tr>\n",
       "    <tr>\n",
       "      <th>10</th>\n",
       "      <td>1-1J9YUDK</td>\n",
       "      <td>1</td>\n",
       "    </tr>\n",
       "    <tr>\n",
       "      <th>11</th>\n",
       "      <td>1-1JDE6YO</td>\n",
       "      <td>1</td>\n",
       "    </tr>\n",
       "    <tr>\n",
       "      <th>12</th>\n",
       "      <td>1-1JE32MF</td>\n",
       "      <td>1</td>\n",
       "    </tr>\n",
       "    <tr>\n",
       "      <th>13</th>\n",
       "      <td>1-1JE8AZ7</td>\n",
       "      <td>1</td>\n",
       "    </tr>\n",
       "    <tr>\n",
       "      <th>14</th>\n",
       "      <td>1-1JFEA84</td>\n",
       "      <td>1</td>\n",
       "    </tr>\n",
       "    <tr>\n",
       "      <th>15</th>\n",
       "      <td>1-1JFN5FM</td>\n",
       "      <td>1</td>\n",
       "    </tr>\n",
       "    <tr>\n",
       "      <th>16</th>\n",
       "      <td>1-1JH33S9</td>\n",
       "      <td>1</td>\n",
       "    </tr>\n",
       "    <tr>\n",
       "      <th>17</th>\n",
       "      <td>1-1JIQ5ZS</td>\n",
       "      <td>1</td>\n",
       "    </tr>\n",
       "    <tr>\n",
       "      <th>18</th>\n",
       "      <td>1-1JL2XN0</td>\n",
       "      <td>1</td>\n",
       "    </tr>\n",
       "    <tr>\n",
       "      <th>19</th>\n",
       "      <td>1-1JLK7EY</td>\n",
       "      <td>1</td>\n",
       "    </tr>\n",
       "    <tr>\n",
       "      <th>20</th>\n",
       "      <td>1-1JNT7PE</td>\n",
       "      <td>1</td>\n",
       "    </tr>\n",
       "    <tr>\n",
       "      <th>21</th>\n",
       "      <td>1-1K1MPM3</td>\n",
       "      <td>1</td>\n",
       "    </tr>\n",
       "    <tr>\n",
       "      <th>22</th>\n",
       "      <td>1-1KC33II</td>\n",
       "      <td>1</td>\n",
       "    </tr>\n",
       "    <tr>\n",
       "      <th>23</th>\n",
       "      <td>1-1KF25EJ</td>\n",
       "      <td>1</td>\n",
       "    </tr>\n",
       "    <tr>\n",
       "      <th>24</th>\n",
       "      <td>1-1KLPIQV</td>\n",
       "      <td>1</td>\n",
       "    </tr>\n",
       "    <tr>\n",
       "      <th>25</th>\n",
       "      <td>1-1KW27TP</td>\n",
       "      <td>1</td>\n",
       "    </tr>\n",
       "    <tr>\n",
       "      <th>26</th>\n",
       "      <td>1-1L0UAD2</td>\n",
       "      <td>1</td>\n",
       "    </tr>\n",
       "    <tr>\n",
       "      <th>27</th>\n",
       "      <td>1-1L0ZZXB</td>\n",
       "      <td>1</td>\n",
       "    </tr>\n",
       "    <tr>\n",
       "      <th>28</th>\n",
       "      <td>1-1L2RM1W</td>\n",
       "      <td>1</td>\n",
       "    </tr>\n",
       "    <tr>\n",
       "      <th>29</th>\n",
       "      <td>1-1L393KV</td>\n",
       "      <td>1</td>\n",
       "    </tr>\n",
       "    <tr>\n",
       "      <th>30</th>\n",
       "      <td>1-1L8043O</td>\n",
       "      <td>1</td>\n",
       "    </tr>\n",
       "    <tr>\n",
       "      <th>31</th>\n",
       "      <td>1-1LE7CTO</td>\n",
       "      <td>1</td>\n",
       "    </tr>\n",
       "    <tr>\n",
       "      <th>32</th>\n",
       "      <td>1-1LR4UQT</td>\n",
       "      <td>1</td>\n",
       "    </tr>\n",
       "    <tr>\n",
       "      <th>33</th>\n",
       "      <td>1-1LTH6K9</td>\n",
       "      <td>1</td>\n",
       "    </tr>\n",
       "    <tr>\n",
       "      <th>34</th>\n",
       "      <td>1-1LU9V20</td>\n",
       "      <td>1</td>\n",
       "    </tr>\n",
       "    <tr>\n",
       "      <th>35</th>\n",
       "      <td>1-1M0O410</td>\n",
       "      <td>1</td>\n",
       "    </tr>\n",
       "  </tbody>\n",
       "</table>\n",
       "</div>"
      ],
      "text/plain": [
       "            0  1\n",
       "0   1-1J4FRFN  1\n",
       "1   1-1J64C96  1\n",
       "2   1-1J7TED2  1\n",
       "3   1-1J7XND6  1\n",
       "4   1-1J827W9  1\n",
       "5   1-1J83Z7A  1\n",
       "6   1-1J8DG23  1\n",
       "7   1-1J8M7LU  1\n",
       "8   1-1J97RAC  1\n",
       "9   1-1J9PNAU  1\n",
       "10  1-1J9YUDK  1\n",
       "11  1-1JDE6YO  1\n",
       "12  1-1JE32MF  1\n",
       "13  1-1JE8AZ7  1\n",
       "14  1-1JFEA84  1\n",
       "15  1-1JFN5FM  1\n",
       "16  1-1JH33S9  1\n",
       "17  1-1JIQ5ZS  1\n",
       "18  1-1JL2XN0  1\n",
       "19  1-1JLK7EY  1\n",
       "20  1-1JNT7PE  1\n",
       "21  1-1K1MPM3  1\n",
       "22  1-1KC33II  1\n",
       "23  1-1KF25EJ  1\n",
       "24  1-1KLPIQV  1\n",
       "25  1-1KW27TP  1\n",
       "26  1-1L0UAD2  1\n",
       "27  1-1L0ZZXB  1\n",
       "28  1-1L2RM1W  1\n",
       "29  1-1L393KV  1\n",
       "30  1-1L8043O  1\n",
       "31  1-1LE7CTO  1\n",
       "32  1-1LR4UQT  1\n",
       "33  1-1LTH6K9  1\n",
       "34  1-1LU9V20  1\n",
       "35  1-1M0O410  1"
      ]
     },
     "execution_count": 89,
     "metadata": {},
     "output_type": "execute_result"
    }
   ],
   "source": [
    "cur.execute(sql)\n",
    "pd.DataFrame(cur.fetchall())"
   ]
  },
  {
   "cell_type": "markdown",
   "metadata": {},
   "source": [
    "В задании необходимо найти количество чеков, в которых заданное число товаров. Для этого просто нужно посчитать количество строк в получившейся таблице. В sql для этого мы сделаем запрос к запросу, который был создан выше. Запрос будет очень простым:\n",
    "\n",
    "select count(*) from\n",
    "\n",
    "Далее в скобках идет запрос созданный в предыдыщем пункте.\n",
    "\n",
    "Все это и есть финальный запрос."
   ]
  },
  {
   "cell_type": "code",
   "execution_count": 90,
   "metadata": {
    "collapsed": true
   },
   "outputs": [],
   "source": [
    "sql2 = '''\n",
    "\n",
    "select count(*) from\n",
    "\n",
    "(select\n",
    "\n",
    "t1.receipt_id,\n",
    "count(t1.item_id)\n",
    "\n",
    "from sales t1\n",
    "\n",
    "where\n",
    "t1.week = 3\n",
    "\n",
    "group by\n",
    "t1.receipt_id\n",
    "\n",
    "having count(t1.item_id) = 1)\n",
    "'''"
   ]
  },
  {
   "cell_type": "markdown",
   "metadata": {},
   "source": [
    "Проверим, как он работет для количества предметов = 1 (having count(t1.item_id) = 1)."
   ]
  },
  {
   "cell_type": "code",
   "execution_count": 92,
   "metadata": {
    "collapsed": false
   },
   "outputs": [
    {
     "data": {
      "text/html": [
       "<div>\n",
       "<table border=\"1\" class=\"dataframe\">\n",
       "  <thead>\n",
       "    <tr style=\"text-align: right;\">\n",
       "      <th></th>\n",
       "      <th>0</th>\n",
       "    </tr>\n",
       "  </thead>\n",
       "  <tbody>\n",
       "    <tr>\n",
       "      <th>0</th>\n",
       "      <td>36</td>\n",
       "    </tr>\n",
       "  </tbody>\n",
       "</table>\n",
       "</div>"
      ],
      "text/plain": [
       "    0\n",
       "0  36"
      ]
     },
     "execution_count": 92,
     "metadata": {},
     "output_type": "execute_result"
    }
   ],
   "source": [
    "cur.execute(sql2)\n",
    "pd.DataFrame(cur.fetchall())"
   ]
  },
  {
   "cell_type": "markdown",
   "metadata": {},
   "source": [
    "Получилось 36 предметов. Далее найдем кол-во чеков для кол-во предметов = 2, =3, >3. Просто будем менять условие having. Это и есть ответы на задание."
   ]
  },
  {
   "cell_type": "markdown",
   "metadata": {},
   "source": [
    "Для 2."
   ]
  },
  {
   "cell_type": "code",
   "execution_count": 93,
   "metadata": {
    "collapsed": false
   },
   "outputs": [
    {
     "data": {
      "text/html": [
       "<div>\n",
       "<table border=\"1\" class=\"dataframe\">\n",
       "  <thead>\n",
       "    <tr style=\"text-align: right;\">\n",
       "      <th></th>\n",
       "      <th>0</th>\n",
       "    </tr>\n",
       "  </thead>\n",
       "  <tbody>\n",
       "    <tr>\n",
       "      <th>0</th>\n",
       "      <td>35</td>\n",
       "    </tr>\n",
       "  </tbody>\n",
       "</table>\n",
       "</div>"
      ],
      "text/plain": [
       "    0\n",
       "0  35"
      ]
     },
     "execution_count": 93,
     "metadata": {},
     "output_type": "execute_result"
    }
   ],
   "source": [
    "sql2 = '''\n",
    "\n",
    "select count(*) from\n",
    "\n",
    "(select\n",
    "\n",
    "t1.receipt_id,\n",
    "count(t1.item_id)\n",
    "\n",
    "from sales t1\n",
    "\n",
    "where\n",
    "t1.week = 3\n",
    "\n",
    "group by\n",
    "t1.receipt_id\n",
    "\n",
    "having count(t1.item_id) = 2)\n",
    "'''\n",
    "cur.execute(sql2)\n",
    "pd.DataFrame(cur.fetchall())"
   ]
  },
  {
   "cell_type": "markdown",
   "metadata": {},
   "source": [
    "Для 3"
   ]
  },
  {
   "cell_type": "code",
   "execution_count": 94,
   "metadata": {
    "collapsed": false
   },
   "outputs": [
    {
     "data": {
      "text/html": [
       "<div>\n",
       "<table border=\"1\" class=\"dataframe\">\n",
       "  <thead>\n",
       "    <tr style=\"text-align: right;\">\n",
       "      <th></th>\n",
       "      <th>0</th>\n",
       "    </tr>\n",
       "  </thead>\n",
       "  <tbody>\n",
       "    <tr>\n",
       "      <th>0</th>\n",
       "      <td>22</td>\n",
       "    </tr>\n",
       "  </tbody>\n",
       "</table>\n",
       "</div>"
      ],
      "text/plain": [
       "    0\n",
       "0  22"
      ]
     },
     "execution_count": 94,
     "metadata": {},
     "output_type": "execute_result"
    }
   ],
   "source": [
    "sql2 = '''\n",
    "\n",
    "select count(*) from\n",
    "\n",
    "(select\n",
    "\n",
    "t1.receipt_id,\n",
    "count(t1.item_id)\n",
    "\n",
    "from sales t1\n",
    "\n",
    "where\n",
    "t1.week = 3\n",
    "\n",
    "group by\n",
    "t1.receipt_id\n",
    "\n",
    "having count(t1.item_id) = 3)\n",
    "'''\n",
    "cur.execute(sql2)\n",
    "pd.DataFrame(cur.fetchall())"
   ]
  },
  {
   "cell_type": "markdown",
   "metadata": {},
   "source": [
    "Для > 3"
   ]
  },
  {
   "cell_type": "code",
   "execution_count": 95,
   "metadata": {
    "collapsed": false
   },
   "outputs": [
    {
     "data": {
      "text/html": [
       "<div>\n",
       "<table border=\"1\" class=\"dataframe\">\n",
       "  <thead>\n",
       "    <tr style=\"text-align: right;\">\n",
       "      <th></th>\n",
       "      <th>0</th>\n",
       "    </tr>\n",
       "  </thead>\n",
       "  <tbody>\n",
       "    <tr>\n",
       "      <th>0</th>\n",
       "      <td>173</td>\n",
       "    </tr>\n",
       "  </tbody>\n",
       "</table>\n",
       "</div>"
      ],
      "text/plain": [
       "     0\n",
       "0  173"
      ]
     },
     "execution_count": 95,
     "metadata": {},
     "output_type": "execute_result"
    }
   ],
   "source": [
    "sql2 = '''\n",
    "\n",
    "select count(*) from\n",
    "\n",
    "(select\n",
    "\n",
    "t1.receipt_id,\n",
    "count(t1.item_id)\n",
    "\n",
    "from sales t1\n",
    "\n",
    "where\n",
    "t1.week = 3\n",
    "\n",
    "group by\n",
    "t1.receipt_id\n",
    "\n",
    "having count(t1.item_id) > 3)\n",
    "'''\n",
    "cur.execute(sql2)\n",
    "pd.DataFrame(cur.fetchall())"
   ]
  },
  {
   "cell_type": "markdown",
   "metadata": {},
   "source": [
    "Обязательно посчитай "
   ]
  }
 ],
 "metadata": {
  "kernelspec": {
   "display_name": "Python 3",
   "language": "python",
   "name": "python3"
  },
  "language_info": {
   "codemirror_mode": {
    "name": "ipython",
    "version": 3
   },
   "file_extension": ".py",
   "mimetype": "text/x-python",
   "name": "python",
   "nbconvert_exporter": "python",
   "pygments_lexer": "ipython3",
   "version": "3.4.3"
  }
 },
 "nbformat": 4,
 "nbformat_minor": 0
}
