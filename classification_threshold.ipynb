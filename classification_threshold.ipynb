{
 "cells": [
  {
   "cell_type": "code",
   "execution_count": 1,
   "metadata": {
    "collapsed": true
   },
   "outputs": [],
   "source": [
    "import pandas as pd\n",
    "import numpy as np"
   ]
  },
  {
   "cell_type": "code",
   "execution_count": 2,
   "metadata": {
    "collapsed": false
   },
   "outputs": [],
   "source": [
    "df = pd.read_excel('deals.xlsx')\n",
    "df = df.dropna()"
   ]
  },
  {
   "cell_type": "code",
   "execution_count": 3,
   "metadata": {
    "collapsed": false
   },
   "outputs": [
    {
     "data": {
      "text/plain": [
       "Index([u'цена', u'a', u'b', u'условие', u'pl сделки', u'метка для обучения'], dtype='object')"
      ]
     },
     "execution_count": 3,
     "metadata": {},
     "output_type": "execute_result"
    }
   ],
   "source": [
    "df.columns"
   ]
  },
  {
   "cell_type": "code",
   "execution_count": 4,
   "metadata": {
    "collapsed": false
   },
   "outputs": [],
   "source": [
    "df = df[[ u'a', u'b', u'pl сделки', u'метка для обучения']]\n",
    "df.columns = ['a','b','pl','y']\n",
    "df['y'] = df['y'].astype('int')"
   ]
  },
  {
   "cell_type": "code",
   "execution_count": 5,
   "metadata": {
    "collapsed": false
   },
   "outputs": [
    {
     "data": {
      "text/html": [
       "<div>\n",
       "<table border=\"1\" class=\"dataframe\">\n",
       "  <thead>\n",
       "    <tr style=\"text-align: right;\">\n",
       "      <th></th>\n",
       "      <th>a</th>\n",
       "      <th>b</th>\n",
       "      <th>pl</th>\n",
       "      <th>y</th>\n",
       "    </tr>\n",
       "  </thead>\n",
       "  <tbody>\n",
       "    <tr>\n",
       "      <th>0</th>\n",
       "      <td>0.0</td>\n",
       "      <td>0.0</td>\n",
       "      <td>0</td>\n",
       "      <td>0</td>\n",
       "    </tr>\n",
       "    <tr>\n",
       "      <th>1</th>\n",
       "      <td>-740.0</td>\n",
       "      <td>547600.0</td>\n",
       "      <td>0</td>\n",
       "      <td>0</td>\n",
       "    </tr>\n",
       "    <tr>\n",
       "      <th>2</th>\n",
       "      <td>-2500.0</td>\n",
       "      <td>6250000.0</td>\n",
       "      <td>0</td>\n",
       "      <td>0</td>\n",
       "    </tr>\n",
       "    <tr>\n",
       "      <th>3</th>\n",
       "      <td>-3290.0</td>\n",
       "      <td>10824100.0</td>\n",
       "      <td>0</td>\n",
       "      <td>0</td>\n",
       "    </tr>\n",
       "    <tr>\n",
       "      <th>4</th>\n",
       "      <td>2030.0</td>\n",
       "      <td>4120900.0</td>\n",
       "      <td>2300</td>\n",
       "      <td>1</td>\n",
       "    </tr>\n",
       "    <tr>\n",
       "      <th>5</th>\n",
       "      <td>2300.0</td>\n",
       "      <td>5290000.0</td>\n",
       "      <td>4650</td>\n",
       "      <td>1</td>\n",
       "    </tr>\n",
       "    <tr>\n",
       "      <th>6</th>\n",
       "      <td>4650.0</td>\n",
       "      <td>21622500.0</td>\n",
       "      <td>1540</td>\n",
       "      <td>1</td>\n",
       "    </tr>\n",
       "    <tr>\n",
       "      <th>7</th>\n",
       "      <td>1540.0</td>\n",
       "      <td>2371600.0</td>\n",
       "      <td>1640</td>\n",
       "      <td>1</td>\n",
       "    </tr>\n",
       "    <tr>\n",
       "      <th>8</th>\n",
       "      <td>1640.0</td>\n",
       "      <td>2689600.0</td>\n",
       "      <td>-5550</td>\n",
       "      <td>0</td>\n",
       "    </tr>\n",
       "    <tr>\n",
       "      <th>9</th>\n",
       "      <td>-5550.0</td>\n",
       "      <td>30802500.0</td>\n",
       "      <td>0</td>\n",
       "      <td>0</td>\n",
       "    </tr>\n",
       "    <tr>\n",
       "      <th>10</th>\n",
       "      <td>1120.0</td>\n",
       "      <td>1254400.0</td>\n",
       "      <td>-60</td>\n",
       "      <td>0</td>\n",
       "    </tr>\n",
       "    <tr>\n",
       "      <th>11</th>\n",
       "      <td>-60.0</td>\n",
       "      <td>3600.0</td>\n",
       "      <td>0</td>\n",
       "      <td>0</td>\n",
       "    </tr>\n",
       "    <tr>\n",
       "      <th>12</th>\n",
       "      <td>-2230.0</td>\n",
       "      <td>4972900.0</td>\n",
       "      <td>0</td>\n",
       "      <td>0</td>\n",
       "    </tr>\n",
       "    <tr>\n",
       "      <th>13</th>\n",
       "      <td>250.0</td>\n",
       "      <td>62500.0</td>\n",
       "      <td>0</td>\n",
       "      <td>0</td>\n",
       "    </tr>\n",
       "    <tr>\n",
       "      <th>14</th>\n",
       "      <td>1630.0</td>\n",
       "      <td>2656900.0</td>\n",
       "      <td>-1050</td>\n",
       "      <td>0</td>\n",
       "    </tr>\n",
       "    <tr>\n",
       "      <th>15</th>\n",
       "      <td>-1050.0</td>\n",
       "      <td>1102500.0</td>\n",
       "      <td>0</td>\n",
       "      <td>0</td>\n",
       "    </tr>\n",
       "    <tr>\n",
       "      <th>16</th>\n",
       "      <td>1000.0</td>\n",
       "      <td>1000000.0</td>\n",
       "      <td>0</td>\n",
       "      <td>0</td>\n",
       "    </tr>\n",
       "    <tr>\n",
       "      <th>17</th>\n",
       "      <td>-410.0</td>\n",
       "      <td>168100.0</td>\n",
       "      <td>0</td>\n",
       "      <td>0</td>\n",
       "    </tr>\n",
       "    <tr>\n",
       "      <th>18</th>\n",
       "      <td>1050.0</td>\n",
       "      <td>1102500.0</td>\n",
       "      <td>0</td>\n",
       "      <td>0</td>\n",
       "    </tr>\n",
       "  </tbody>\n",
       "</table>\n",
       "</div>"
      ],
      "text/plain": [
       "         a           b    pl  y\n",
       "0      0.0         0.0     0  0\n",
       "1   -740.0    547600.0     0  0\n",
       "2  -2500.0   6250000.0     0  0\n",
       "3  -3290.0  10824100.0     0  0\n",
       "4   2030.0   4120900.0  2300  1\n",
       "5   2300.0   5290000.0  4650  1\n",
       "6   4650.0  21622500.0  1540  1\n",
       "7   1540.0   2371600.0  1640  1\n",
       "8   1640.0   2689600.0 -5550  0\n",
       "9  -5550.0  30802500.0     0  0\n",
       "10  1120.0   1254400.0   -60  0\n",
       "11   -60.0      3600.0     0  0\n",
       "12 -2230.0   4972900.0     0  0\n",
       "13   250.0     62500.0     0  0\n",
       "14  1630.0   2656900.0 -1050  0\n",
       "15 -1050.0   1102500.0     0  0\n",
       "16  1000.0   1000000.0     0  0\n",
       "17  -410.0    168100.0     0  0\n",
       "18  1050.0   1102500.0     0  0"
      ]
     },
     "execution_count": 5,
     "metadata": {},
     "output_type": "execute_result"
    }
   ],
   "source": [
    "df"
   ]
  },
  {
   "cell_type": "markdown",
   "metadata": {},
   "source": [
    "Допустим, что y = 0 - неудачная сделка, даже если она не принесла убытков."
   ]
  },
  {
   "cell_type": "markdown",
   "metadata": {},
   "source": [
    "Теперь сделаем классификатор."
   ]
  },
  {
   "cell_type": "code",
   "execution_count": 6,
   "metadata": {
    "collapsed": true
   },
   "outputs": [],
   "source": [
    "from sklearn.linear_model import LogisticRegression\n",
    "from sklearn.cross_validation import cross_val_score\n",
    "from sklearn.metrics import classification_report, confusion_matrix\n",
    "from sklearn.preprocessing import StandardScaler\n",
    "from sklearn.pipeline import Pipeline"
   ]
  },
  {
   "cell_type": "code",
   "execution_count": 7,
   "metadata": {
    "collapsed": true
   },
   "outputs": [],
   "source": [
    "X,y = df[['a','b']], df['y']"
   ]
  },
  {
   "cell_type": "code",
   "execution_count": 8,
   "metadata": {
    "collapsed": false
   },
   "outputs": [],
   "source": [
    "clf = LogisticRegression()\n",
    "scaler = StandardScaler()\n",
    "pipeline = Pipeline([('scaler',scaler),('Logit',clf)])"
   ]
  },
  {
   "cell_type": "markdown",
   "metadata": {},
   "source": [
    "Дата сет очень маленьки, поэтому делать train test бессмысленно. Просто посмотрим по кроссвалидации какую долю правильных ответов выдает классификатор."
   ]
  },
  {
   "cell_type": "code",
   "execution_count": 9,
   "metadata": {
    "collapsed": false
   },
   "outputs": [
    {
     "data": {
      "text/plain": [
       "array([ 0.71428571,  0.83333333,  0.83333333])"
      ]
     },
     "execution_count": 9,
     "metadata": {},
     "output_type": "execute_result"
    }
   ],
   "source": [
    "cross_val_score(pipeline,X,y,cv=3)"
   ]
  },
  {
   "cell_type": "markdown",
   "metadata": {},
   "source": [
    "Ну будем считать, что работает. Теперь обучем на всех данных."
   ]
  },
  {
   "cell_type": "code",
   "execution_count": 10,
   "metadata": {
    "collapsed": false
   },
   "outputs": [
    {
     "data": {
      "text/plain": [
       "Pipeline(steps=[('scaler', StandardScaler(copy=True, with_mean=True, with_std=True)), ('Logit', LogisticRegression(C=1.0, class_weight=None, dual=False, fit_intercept=True,\n",
       "          intercept_scaling=1, max_iter=100, multi_class='ovr', n_jobs=1,\n",
       "          penalty='l2', random_state=None, solver='liblinear', tol=0.0001,\n",
       "          verbose=0, warm_start=False))])"
      ]
     },
     "execution_count": 10,
     "metadata": {},
     "output_type": "execute_result"
    }
   ],
   "source": [
    "pipeline.fit(X,y)"
   ]
  },
  {
   "cell_type": "markdown",
   "metadata": {},
   "source": [
    "Посмотрим, что он предсказал. Выведем и вероятность и предсказанный класс с порогом 1."
   ]
  },
  {
   "cell_type": "code",
   "execution_count": 11,
   "metadata": {
    "collapsed": false
   },
   "outputs": [
    {
     "data": {
      "text/html": [
       "<div>\n",
       "<table border=\"1\" class=\"dataframe\">\n",
       "  <thead>\n",
       "    <tr style=\"text-align: right;\">\n",
       "      <th></th>\n",
       "      <th>a</th>\n",
       "      <th>b</th>\n",
       "      <th>pl</th>\n",
       "      <th>y</th>\n",
       "      <th>y_proba</th>\n",
       "      <th>y_pred_05</th>\n",
       "    </tr>\n",
       "  </thead>\n",
       "  <tbody>\n",
       "    <tr>\n",
       "      <th>0</th>\n",
       "      <td>0.0</td>\n",
       "      <td>0.0</td>\n",
       "      <td>0</td>\n",
       "      <td>0</td>\n",
       "      <td>0.167445</td>\n",
       "      <td>0</td>\n",
       "    </tr>\n",
       "    <tr>\n",
       "      <th>1</th>\n",
       "      <td>-740.0</td>\n",
       "      <td>547600.0</td>\n",
       "      <td>0</td>\n",
       "      <td>0</td>\n",
       "      <td>0.122703</td>\n",
       "      <td>0</td>\n",
       "    </tr>\n",
       "    <tr>\n",
       "      <th>2</th>\n",
       "      <td>-2500.0</td>\n",
       "      <td>6250000.0</td>\n",
       "      <td>0</td>\n",
       "      <td>0</td>\n",
       "      <td>0.078218</td>\n",
       "      <td>0</td>\n",
       "    </tr>\n",
       "    <tr>\n",
       "      <th>3</th>\n",
       "      <td>-3290.0</td>\n",
       "      <td>10824100.0</td>\n",
       "      <td>0</td>\n",
       "      <td>0</td>\n",
       "      <td>0.074166</td>\n",
       "      <td>0</td>\n",
       "    </tr>\n",
       "    <tr>\n",
       "      <th>4</th>\n",
       "      <td>2030.0</td>\n",
       "      <td>4120900.0</td>\n",
       "      <td>2300</td>\n",
       "      <td>1</td>\n",
       "      <td>0.464563</td>\n",
       "      <td>0</td>\n",
       "    </tr>\n",
       "    <tr>\n",
       "      <th>5</th>\n",
       "      <td>2300.0</td>\n",
       "      <td>5290000.0</td>\n",
       "      <td>4650</td>\n",
       "      <td>1</td>\n",
       "      <td>0.525939</td>\n",
       "      <td>1</td>\n",
       "    </tr>\n",
       "    <tr>\n",
       "      <th>6</th>\n",
       "      <td>4650.0</td>\n",
       "      <td>21622500.0</td>\n",
       "      <td>1540</td>\n",
       "      <td>1</td>\n",
       "      <td>0.940089</td>\n",
       "      <td>1</td>\n",
       "    </tr>\n",
       "    <tr>\n",
       "      <th>7</th>\n",
       "      <td>1540.0</td>\n",
       "      <td>2371600.0</td>\n",
       "      <td>1640</td>\n",
       "      <td>1</td>\n",
       "      <td>0.364172</td>\n",
       "      <td>0</td>\n",
       "    </tr>\n",
       "    <tr>\n",
       "      <th>8</th>\n",
       "      <td>1640.0</td>\n",
       "      <td>2689600.0</td>\n",
       "      <td>-5550</td>\n",
       "      <td>0</td>\n",
       "      <td>0.383251</td>\n",
       "      <td>0</td>\n",
       "    </tr>\n",
       "    <tr>\n",
       "      <th>9</th>\n",
       "      <td>-5550.0</td>\n",
       "      <td>30802500.0</td>\n",
       "      <td>0</td>\n",
       "      <td>0</td>\n",
       "      <td>0.107305</td>\n",
       "      <td>0</td>\n",
       "    </tr>\n",
       "    <tr>\n",
       "      <th>10</th>\n",
       "      <td>1120.0</td>\n",
       "      <td>1254400.0</td>\n",
       "      <td>-60</td>\n",
       "      <td>0</td>\n",
       "      <td>0.292834</td>\n",
       "      <td>0</td>\n",
       "    </tr>\n",
       "    <tr>\n",
       "      <th>11</th>\n",
       "      <td>-60.0</td>\n",
       "      <td>3600.0</td>\n",
       "      <td>0</td>\n",
       "      <td>0</td>\n",
       "      <td>0.162918</td>\n",
       "      <td>0</td>\n",
       "    </tr>\n",
       "    <tr>\n",
       "      <th>12</th>\n",
       "      <td>-2230.0</td>\n",
       "      <td>4972900.0</td>\n",
       "      <td>0</td>\n",
       "      <td>0</td>\n",
       "      <td>0.081402</td>\n",
       "      <td>0</td>\n",
       "    </tr>\n",
       "    <tr>\n",
       "      <th>13</th>\n",
       "      <td>250.0</td>\n",
       "      <td>62500.0</td>\n",
       "      <td>0</td>\n",
       "      <td>0</td>\n",
       "      <td>0.188369</td>\n",
       "      <td>0</td>\n",
       "    </tr>\n",
       "    <tr>\n",
       "      <th>14</th>\n",
       "      <td>1630.0</td>\n",
       "      <td>2656900.0</td>\n",
       "      <td>-1050</td>\n",
       "      <td>0</td>\n",
       "      <td>0.381308</td>\n",
       "      <td>0</td>\n",
       "    </tr>\n",
       "    <tr>\n",
       "      <th>15</th>\n",
       "      <td>-1050.0</td>\n",
       "      <td>1102500.0</td>\n",
       "      <td>0</td>\n",
       "      <td>0</td>\n",
       "      <td>0.109847</td>\n",
       "      <td>0</td>\n",
       "    </tr>\n",
       "    <tr>\n",
       "      <th>16</th>\n",
       "      <td>1000.0</td>\n",
       "      <td>1000000.0</td>\n",
       "      <td>0</td>\n",
       "      <td>0</td>\n",
       "      <td>0.275086</td>\n",
       "      <td>0</td>\n",
       "    </tr>\n",
       "    <tr>\n",
       "      <th>17</th>\n",
       "      <td>-410.0</td>\n",
       "      <td>168100.0</td>\n",
       "      <td>0</td>\n",
       "      <td>0</td>\n",
       "      <td>0.139879</td>\n",
       "      <td>0</td>\n",
       "    </tr>\n",
       "    <tr>\n",
       "      <th>18</th>\n",
       "      <td>1050.0</td>\n",
       "      <td>1102500.0</td>\n",
       "      <td>0</td>\n",
       "      <td>0</td>\n",
       "      <td>0.282341</td>\n",
       "      <td>0</td>\n",
       "    </tr>\n",
       "  </tbody>\n",
       "</table>\n",
       "</div>"
      ],
      "text/plain": [
       "         a           b    pl  y   y_proba  y_pred_05\n",
       "0      0.0         0.0     0  0  0.167445          0\n",
       "1   -740.0    547600.0     0  0  0.122703          0\n",
       "2  -2500.0   6250000.0     0  0  0.078218          0\n",
       "3  -3290.0  10824100.0     0  0  0.074166          0\n",
       "4   2030.0   4120900.0  2300  1  0.464563          0\n",
       "5   2300.0   5290000.0  4650  1  0.525939          1\n",
       "6   4650.0  21622500.0  1540  1  0.940089          1\n",
       "7   1540.0   2371600.0  1640  1  0.364172          0\n",
       "8   1640.0   2689600.0 -5550  0  0.383251          0\n",
       "9  -5550.0  30802500.0     0  0  0.107305          0\n",
       "10  1120.0   1254400.0   -60  0  0.292834          0\n",
       "11   -60.0      3600.0     0  0  0.162918          0\n",
       "12 -2230.0   4972900.0     0  0  0.081402          0\n",
       "13   250.0     62500.0     0  0  0.188369          0\n",
       "14  1630.0   2656900.0 -1050  0  0.381308          0\n",
       "15 -1050.0   1102500.0     0  0  0.109847          0\n",
       "16  1000.0   1000000.0     0  0  0.275086          0\n",
       "17  -410.0    168100.0     0  0  0.139879          0\n",
       "18  1050.0   1102500.0     0  0  0.282341          0"
      ]
     },
     "execution_count": 11,
     "metadata": {},
     "output_type": "execute_result"
    }
   ],
   "source": [
    "df['y_proba'] = pipeline.predict_proba(X)[:,1]\n",
    "df['y_pred_05'] = (pipeline.predict_proba(X)[:,1]>0.5).astype('int')\n",
    "df"
   ]
  },
  {
   "cell_type": "markdown",
   "metadata": {},
   "source": [
    "Видно, что классификатор неправильно определил два трейда - 4 и 7. Они на самом деле положительные."
   ]
  },
  {
   "cell_type": "markdown",
   "metadata": {},
   "source": [
    "Чтобы быстро это понимать существует матрица ошибок."
   ]
  },
  {
   "cell_type": "code",
   "execution_count": 12,
   "metadata": {
    "collapsed": false
   },
   "outputs": [
    {
     "data": {
      "text/html": [
       "<div>\n",
       "<table border=\"1\" class=\"dataframe\">\n",
       "  <thead>\n",
       "    <tr style=\"text-align: right;\">\n",
       "      <th></th>\n",
       "      <th>Предсказанный отрицательный</th>\n",
       "      <th>Предсказанный положительный</th>\n",
       "    </tr>\n",
       "  </thead>\n",
       "  <tbody>\n",
       "    <tr>\n",
       "      <th>Реально отрицательный</th>\n",
       "      <td>[True negative (TN), Верный пропуск]</td>\n",
       "      <td>[False positive (FP), Ложное срабатыватение, Ошибка II]</td>\n",
       "    </tr>\n",
       "    <tr>\n",
       "      <th>Реально положительный</th>\n",
       "      <td>[False negative (FN), Ложный пропуск, Ошибка I]</td>\n",
       "      <td>[True positive (ТP), Положительное срабатывание]</td>\n",
       "    </tr>\n",
       "  </tbody>\n",
       "</table>\n",
       "</div>"
      ],
      "text/plain": [
       "                                           Предсказанный отрицательный  \\\n",
       "Реально отрицательный             [True negative (TN), Верный пропуск]   \n",
       "Реально положительный  [False negative (FN), Ложный пропуск, Ошибка I]   \n",
       "\n",
       "                                                   Предсказанный положительный  \n",
       "Реально отрицательный  [False positive (FP), Ложное срабатыватение, Ошибка II]  \n",
       "Реально положительный         [True positive (ТP), Положительное срабатывание]  "
      ]
     },
     "execution_count": 12,
     "metadata": {},
     "output_type": "execute_result"
    }
   ],
   "source": [
    "pd.options.display.max_colwidth = 100\n",
    "help_table = pd.DataFrame([[[u'True positive (ТP)',u'Положительное срабатывание'],\n",
    "                            [u'False positive (FP)',u'Ложное срабатыватение','Ошибка II']],\n",
    "                           [[u'False negative (FN)',u'Ложный пропуск','Ошибка I'],\n",
    "                            [u'True negative (TN)',u'Верный пропуск']]],\n",
    "                          index=[u'Предсказанный положительный',\n",
    "                                 u'Предсказанный отрицательный'],\n",
    "                          columns=[u'Реально положительный',\n",
    "                                   u'Реально отрицательный'])\n",
    "help_table = help_table.T.ix[::-1]\n",
    "help_table[help_table.columns[::-1]]"
   ]
  },
  {
   "cell_type": "markdown",
   "metadata": {},
   "source": [
    "В sklearn это все автоматизировано. Посмотрим на матрицу ошибок и classification report. Важно понимать, что порог сейчас равен 0.5. Так же выведу сколько всего 0 и 1."
   ]
  },
  {
   "cell_type": "code",
   "execution_count": 13,
   "metadata": {
    "collapsed": false
   },
   "outputs": [
    {
     "name": "stdout",
     "output_type": "stream",
     "text": [
      "Class count\n",
      "-------------------------------------------------------------------------------\n",
      "y\n",
      "0    15\n",
      "1     4\n",
      "Name: a, dtype: int64\n",
      "-------------------------------------------------------------------------------\n",
      "Confusion matrix\n",
      "-------------------------------------------------------------------------------\n",
      "[[15  0]\n",
      " [ 2  2]]\n",
      "-------------------------------------------------------------------------------\n",
      "Classification report\n",
      "-------------------------------------------------------------------------------\n",
      "             precision    recall  f1-score   support\n",
      "\n",
      "          0       0.88      1.00      0.94        15\n",
      "          1       1.00      0.50      0.67         4\n",
      "\n",
      "avg / total       0.91      0.89      0.88        19\n",
      "\n"
     ]
    }
   ],
   "source": [
    "def full_report(y_true, y_pred):\n",
    "    print 'Class count'\n",
    "    print '-'*79\n",
    "    print df.groupby('y')['a'].count()\n",
    "    print '-'*79\n",
    "    print 'Confusion matrix'\n",
    "    print '-'*79\n",
    "    print confusion_matrix(y_true, y_pred)\n",
    "    print '-'*79\n",
    "    print 'Classification report'\n",
    "    print '-'*79\n",
    "    print classification_report(y_true, y_pred)\n",
    "    \n",
    "full_report(y,pipeline.predict(X))"
   ]
  },
  {
   "cell_type": "markdown",
   "metadata": {},
   "source": [
    "Что мы видим? В confusion matrix видно, что классификатор неправильно определил два объекта 1 класса в класс ноль. В classification report таже инфа, только в процентах. Например в первой строчке 0.88 означает, что из всех объектов нулевого класса определенных классификатором только 88% реально из нулевого класса. Действительно - классификатор отнес к 0 17 объектов, а их всего 15."
   ]
  },
  {
   "cell_type": "code",
   "execution_count": 14,
   "metadata": {
    "collapsed": false
   },
   "outputs": [
    {
     "data": {
      "text/plain": [
       "0.8823529411764706"
      ]
     },
     "execution_count": 14,
     "metadata": {},
     "output_type": "execute_result"
    }
   ],
   "source": [
    "15/17."
   ]
  },
  {
   "cell_type": "markdown",
   "metadata": {},
   "source": [
    "Что дальше? Давай увеличим порог, и посмотрим, что получится. Возьмем порог равный 0.4, т.к. мы хочется выделить больше объектов 1 класса."
   ]
  },
  {
   "cell_type": "code",
   "execution_count": 15,
   "metadata": {
    "collapsed": true
   },
   "outputs": [],
   "source": [
    "y_pred = (pipeline.predict_proba(X)[:,1] > 0.4).astype('int')"
   ]
  },
  {
   "cell_type": "code",
   "execution_count": 16,
   "metadata": {
    "collapsed": false
   },
   "outputs": [
    {
     "name": "stdout",
     "output_type": "stream",
     "text": [
      "Class count\n",
      "-------------------------------------------------------------------------------\n",
      "y\n",
      "0    15\n",
      "1     4\n",
      "Name: a, dtype: int64\n",
      "-------------------------------------------------------------------------------\n",
      "Confusion matrix\n",
      "-------------------------------------------------------------------------------\n",
      "[[15  0]\n",
      " [ 1  3]]\n",
      "-------------------------------------------------------------------------------\n",
      "Classification report\n",
      "-------------------------------------------------------------------------------\n",
      "             precision    recall  f1-score   support\n",
      "\n",
      "          0       0.94      1.00      0.97        15\n",
      "          1       1.00      0.75      0.86         4\n",
      "\n",
      "avg / total       0.95      0.95      0.94        19\n",
      "\n"
     ]
    }
   ],
   "source": [
    "full_report(y,y_pred)"
   ]
  },
  {
   "cell_type": "markdown",
   "metadata": {},
   "source": [
    "О чудо! Показатель классификатора улучшились! Теперь мы неправильно определили только один объек 1 класса."
   ]
  },
  {
   "cell_type": "markdown",
   "metadata": {},
   "source": [
    "Что теперь сказать о прибыли? Как ее максимизировать? Посмотрим, сколько в среднем мы теряем на неудачном трейде и зарабатываем на удачном."
   ]
  },
  {
   "cell_type": "code",
   "execution_count": 17,
   "metadata": {
    "collapsed": false
   },
   "outputs": [
    {
     "data": {
      "text/plain": [
       "y\n",
       "0    -444.0\n",
       "1    2532.5\n",
       "Name: pl, dtype: float64"
      ]
     },
     "execution_count": 17,
     "metadata": {},
     "output_type": "execute_result"
    }
   ],
   "source": [
    "df.groupby('y')['pl'].mean()"
   ]
  },
  {
   "cell_type": "markdown",
   "metadata": {},
   "source": [
    "Получается, что ложный пропуск обходиться гораздо дороже, чем ложное срабатывание (обычно все наоборот, например в кредитном скоринге). Теперь меня порог и перемножая confusion matrix на цену ошибки можно максимизировать прибль."
   ]
  },
  {
   "cell_type": "code",
   "execution_count": 18,
   "metadata": {
    "collapsed": false
   },
   "outputs": [],
   "source": [
    "cost_matrix = np.array([[0,  -444.0],\n",
    "                   [0,  2532.5]])"
   ]
  },
  {
   "cell_type": "code",
   "execution_count": 19,
   "metadata": {
    "collapsed": false
   },
   "outputs": [],
   "source": [
    "thrs = np.linspace(0,1,21)\n",
    "pl = np.zeros(len(thrs))\n",
    "\n",
    "for i, thr in enumerate(thrs):\n",
    "    y_pred = (pipeline.predict_proba(X)[:,1] > thr).astype('int')\n",
    "    conf_m = confusion_matrix(y,y_pred)\n",
    "    pl[i] = np.sum(conf_m * cost_matrix)\n",
    "    \n",
    "pls = pd.DataFrame([thrs,pl]).T"
   ]
  },
  {
   "cell_type": "code",
   "execution_count": 20,
   "metadata": {
    "collapsed": false
   },
   "outputs": [
    {
     "data": {
      "text/html": [
       "<div>\n",
       "<table border=\"1\" class=\"dataframe\">\n",
       "  <thead>\n",
       "    <tr style=\"text-align: right;\">\n",
       "      <th></th>\n",
       "      <th>0</th>\n",
       "      <th>1</th>\n",
       "    </tr>\n",
       "  </thead>\n",
       "  <tbody>\n",
       "    <tr>\n",
       "      <th>0</th>\n",
       "      <td>0.00</td>\n",
       "      <td>3470.0</td>\n",
       "    </tr>\n",
       "    <tr>\n",
       "      <th>1</th>\n",
       "      <td>0.05</td>\n",
       "      <td>3470.0</td>\n",
       "    </tr>\n",
       "    <tr>\n",
       "      <th>2</th>\n",
       "      <td>0.10</td>\n",
       "      <td>4802.0</td>\n",
       "    </tr>\n",
       "    <tr>\n",
       "      <th>3</th>\n",
       "      <td>0.15</td>\n",
       "      <td>6578.0</td>\n",
       "    </tr>\n",
       "    <tr>\n",
       "      <th>4</th>\n",
       "      <td>0.20</td>\n",
       "      <td>7910.0</td>\n",
       "    </tr>\n",
       "    <tr>\n",
       "      <th>5</th>\n",
       "      <td>0.25</td>\n",
       "      <td>7910.0</td>\n",
       "    </tr>\n",
       "    <tr>\n",
       "      <th>6</th>\n",
       "      <td>0.30</td>\n",
       "      <td>9242.0</td>\n",
       "    </tr>\n",
       "    <tr>\n",
       "      <th>7</th>\n",
       "      <td>0.35</td>\n",
       "      <td>9242.0</td>\n",
       "    </tr>\n",
       "    <tr>\n",
       "      <th>8</th>\n",
       "      <td>0.40</td>\n",
       "      <td>7597.5</td>\n",
       "    </tr>\n",
       "    <tr>\n",
       "      <th>9</th>\n",
       "      <td>0.45</td>\n",
       "      <td>7597.5</td>\n",
       "    </tr>\n",
       "    <tr>\n",
       "      <th>10</th>\n",
       "      <td>0.50</td>\n",
       "      <td>5065.0</td>\n",
       "    </tr>\n",
       "    <tr>\n",
       "      <th>11</th>\n",
       "      <td>0.55</td>\n",
       "      <td>2532.5</td>\n",
       "    </tr>\n",
       "    <tr>\n",
       "      <th>12</th>\n",
       "      <td>0.60</td>\n",
       "      <td>2532.5</td>\n",
       "    </tr>\n",
       "    <tr>\n",
       "      <th>13</th>\n",
       "      <td>0.65</td>\n",
       "      <td>2532.5</td>\n",
       "    </tr>\n",
       "    <tr>\n",
       "      <th>14</th>\n",
       "      <td>0.70</td>\n",
       "      <td>2532.5</td>\n",
       "    </tr>\n",
       "    <tr>\n",
       "      <th>15</th>\n",
       "      <td>0.75</td>\n",
       "      <td>2532.5</td>\n",
       "    </tr>\n",
       "    <tr>\n",
       "      <th>16</th>\n",
       "      <td>0.80</td>\n",
       "      <td>2532.5</td>\n",
       "    </tr>\n",
       "    <tr>\n",
       "      <th>17</th>\n",
       "      <td>0.85</td>\n",
       "      <td>2532.5</td>\n",
       "    </tr>\n",
       "    <tr>\n",
       "      <th>18</th>\n",
       "      <td>0.90</td>\n",
       "      <td>2532.5</td>\n",
       "    </tr>\n",
       "    <tr>\n",
       "      <th>19</th>\n",
       "      <td>0.95</td>\n",
       "      <td>0.0</td>\n",
       "    </tr>\n",
       "    <tr>\n",
       "      <th>20</th>\n",
       "      <td>1.00</td>\n",
       "      <td>0.0</td>\n",
       "    </tr>\n",
       "  </tbody>\n",
       "</table>\n",
       "</div>"
      ],
      "text/plain": [
       "       0       1\n",
       "0   0.00  3470.0\n",
       "1   0.05  3470.0\n",
       "2   0.10  4802.0\n",
       "3   0.15  6578.0\n",
       "4   0.20  7910.0\n",
       "5   0.25  7910.0\n",
       "6   0.30  9242.0\n",
       "7   0.35  9242.0\n",
       "8   0.40  7597.5\n",
       "9   0.45  7597.5\n",
       "10  0.50  5065.0\n",
       "11  0.55  2532.5\n",
       "12  0.60  2532.5\n",
       "13  0.65  2532.5\n",
       "14  0.70  2532.5\n",
       "15  0.75  2532.5\n",
       "16  0.80  2532.5\n",
       "17  0.85  2532.5\n",
       "18  0.90  2532.5\n",
       "19  0.95     0.0\n",
       "20  1.00     0.0"
      ]
     },
     "execution_count": 20,
     "metadata": {},
     "output_type": "execute_result"
    }
   ],
   "source": [
    "pls"
   ]
  },
  {
   "cell_type": "markdown",
   "metadata": {},
   "source": [
    "И ты сразу видишь, что достигаешь максимума прибыли при пороге 0.3 или 0.35."
   ]
  },
  {
   "cell_type": "code",
   "execution_count": 21,
   "metadata": {
    "collapsed": false
   },
   "outputs": [
    {
     "data": {
      "text/html": [
       "<div>\n",
       "<table border=\"1\" class=\"dataframe\">\n",
       "  <thead>\n",
       "    <tr style=\"text-align: right;\">\n",
       "      <th></th>\n",
       "      <th>0</th>\n",
       "      <th>1</th>\n",
       "    </tr>\n",
       "  </thead>\n",
       "  <tbody>\n",
       "    <tr>\n",
       "      <th>6</th>\n",
       "      <td>0.30</td>\n",
       "      <td>9242.0</td>\n",
       "    </tr>\n",
       "    <tr>\n",
       "      <th>7</th>\n",
       "      <td>0.35</td>\n",
       "      <td>9242.0</td>\n",
       "    </tr>\n",
       "  </tbody>\n",
       "</table>\n",
       "</div>"
      ],
      "text/plain": [
       "      0       1\n",
       "6  0.30  9242.0\n",
       "7  0.35  9242.0"
      ]
     },
     "execution_count": 21,
     "metadata": {},
     "output_type": "execute_result"
    }
   ],
   "source": [
    "pls[pls[1] == pls[1].max()]"
   ]
  },
  {
   "cell_type": "markdown",
   "metadata": {},
   "source": [
    "Такая вот история)."
   ]
  }
 ],
 "metadata": {
  "kernelspec": {
   "display_name": "Python 2",
   "language": "python",
   "name": "python2"
  },
  "language_info": {
   "codemirror_mode": {
    "name": "ipython",
    "version": 2
   },
   "file_extension": ".py",
   "mimetype": "text/x-python",
   "name": "python",
   "nbconvert_exporter": "python",
   "pygments_lexer": "ipython2",
   "version": "2.7.11"
  }
 },
 "nbformat": 4,
 "nbformat_minor": 0
}
