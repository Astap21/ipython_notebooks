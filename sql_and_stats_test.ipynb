{
 "cells": [
  {
   "cell_type": "markdown",
   "metadata": {},
   "source": [
    "# Задача 1"
   ]
  },
  {
   "cell_type": "markdown",
   "metadata": {},
   "source": [
    "The database consists of the following tables:\n",
    "\n",
    "create table dbo.customer (\n",
    "\n",
    "customer_id int identity primary key clustered\n",
    ", customer_name nvarchar(256) not null\n",
    ")\n",
    "create table dbo.purchase_order (\n",
    "purchase_order_id int identity primary key clustered\n",
    "\n",
    ", customer_id int not null\n",
    ", amount money not null\n",
    ", order_date date not null\n",
    ")\n",
    "\n",
    "Implement a SQL query for the report that will provide the following information: for each customer\n",
    "output at most 5 different dates which contain abnormally high or low amounts, for each of these dates\n",
    "output minimum and maximum amounts as well. It can be assumed that the data is normally\n",
    "distributed."
   ]
  },
  {
   "cell_type": "markdown",
   "metadata": {},
   "source": [
    "Ok, let's generate some data to play with."
   ]
  },
  {
   "cell_type": "code",
   "execution_count": 27,
   "metadata": {
    "collapsed": true
   },
   "outputs": [],
   "source": [
    "import datetime\n",
    "from scipy.stats import norm\n",
    "import pandas as pd\n",
    "import numpy as np\n",
    "np.random.seed(0)"
   ]
  },
  {
   "cell_type": "code",
   "execution_count": 28,
   "metadata": {
    "collapsed": true
   },
   "outputs": [],
   "source": [
    "ids = np.arange(0,1000)\n",
    "amount = np.random.normal(loc=25000,scale=7000,size=1000)\n",
    "dates = 4*[datetime.datetime.today().date() - \n",
    "           datetime.timedelta(days=x) \n",
    "           for x in range(0, 250)][::-1]\n",
    "customer_ids = [np.random.choice([1,2,3]) for _ in range(1000)]"
   ]
  },
  {
   "cell_type": "code",
   "execution_count": 29,
   "metadata": {
    "collapsed": false
   },
   "outputs": [
    {
     "data": {
      "text/html": [
       "<div>\n",
       "<table border=\"1\" class=\"dataframe\">\n",
       "  <thead>\n",
       "    <tr style=\"text-align: right;\">\n",
       "      <th></th>\n",
       "      <th>amount</th>\n",
       "      <th>customer_id</th>\n",
       "      <th>order_date</th>\n",
       "      <th>purchase_order_id</th>\n",
       "    </tr>\n",
       "  </thead>\n",
       "  <tbody>\n",
       "    <tr>\n",
       "      <th>0</th>\n",
       "      <td>37348.366422</td>\n",
       "      <td>1</td>\n",
       "      <td>2015-09-06</td>\n",
       "      <td>0</td>\n",
       "    </tr>\n",
       "    <tr>\n",
       "      <th>1</th>\n",
       "      <td>27801.100459</td>\n",
       "      <td>3</td>\n",
       "      <td>2015-09-07</td>\n",
       "      <td>1</td>\n",
       "    </tr>\n",
       "    <tr>\n",
       "      <th>2</th>\n",
       "      <td>31851.165889</td>\n",
       "      <td>3</td>\n",
       "      <td>2015-09-08</td>\n",
       "      <td>2</td>\n",
       "    </tr>\n",
       "    <tr>\n",
       "      <th>3</th>\n",
       "      <td>40686.252394</td>\n",
       "      <td>3</td>\n",
       "      <td>2015-09-09</td>\n",
       "      <td>3</td>\n",
       "    </tr>\n",
       "    <tr>\n",
       "      <th>4</th>\n",
       "      <td>38072.905931</td>\n",
       "      <td>2</td>\n",
       "      <td>2015-09-10</td>\n",
       "      <td>4</td>\n",
       "    </tr>\n",
       "  </tbody>\n",
       "</table>\n",
       "</div>"
      ],
      "text/plain": [
       "         amount  customer_id  order_date  purchase_order_id\n",
       "0  37348.366422            1  2015-09-06                  0\n",
       "1  27801.100459            3  2015-09-07                  1\n",
       "2  31851.165889            3  2015-09-08                  2\n",
       "3  40686.252394            3  2015-09-09                  3\n",
       "4  38072.905931            2  2015-09-10                  4"
      ]
     },
     "execution_count": 29,
     "metadata": {},
     "output_type": "execute_result"
    }
   ],
   "source": [
    "purchase_order = pd.DataFrame({'purchase_order_id':ids,\n",
    "                               'customer_id':customer_ids,\n",
    "                               'amount':amount,\n",
    "                               'order_date':dates})\n",
    "purchase_order.head()"
   ]
  },
  {
   "cell_type": "code",
   "execution_count": 46,
   "metadata": {
    "collapsed": false
   },
   "outputs": [
    {
     "data": {
      "text/html": [
       "<div>\n",
       "<table border=\"1\" class=\"dataframe\">\n",
       "  <thead>\n",
       "    <tr style=\"text-align: right;\">\n",
       "      <th></th>\n",
       "      <th>customer_id</th>\n",
       "      <th>customer_name</th>\n",
       "    </tr>\n",
       "  </thead>\n",
       "  <tbody>\n",
       "    <tr>\n",
       "      <th>0</th>\n",
       "      <td>1</td>\n",
       "      <td>Bond, James</td>\n",
       "    </tr>\n",
       "    <tr>\n",
       "      <th>1</th>\n",
       "      <td>2</td>\n",
       "      <td>Snow, Jon</td>\n",
       "    </tr>\n",
       "    <tr>\n",
       "      <th>2</th>\n",
       "      <td>3</td>\n",
       "      <td>McCormick, Kenny</td>\n",
       "    </tr>\n",
       "    <tr>\n",
       "      <th>3</th>\n",
       "      <td>4</td>\n",
       "      <td>Julius</td>\n",
       "    </tr>\n",
       "  </tbody>\n",
       "</table>\n",
       "</div>"
      ],
      "text/plain": [
       "   customer_id     customer_name\n",
       "0            1       Bond, James\n",
       "1            2         Snow, Jon\n",
       "2            3  McCormick, Kenny\n",
       "3            4            Julius"
      ]
     },
     "execution_count": 46,
     "metadata": {},
     "output_type": "execute_result"
    }
   ],
   "source": [
    "customer = pd.DataFrame({'customer_id':[1,2,3,4],\n",
    "              'customer_name':\n",
    "              ['Bond, James','Snow, Jon','McCormick, Kenny','Julius']})\n",
    "customer"
   ]
  },
  {
   "cell_type": "markdown",
   "metadata": {},
   "source": [
    "Now convert them to sql."
   ]
  },
  {
   "cell_type": "code",
   "execution_count": 47,
   "metadata": {
    "collapsed": true
   },
   "outputs": [],
   "source": [
    "import sqlite3"
   ]
  },
  {
   "cell_type": "code",
   "execution_count": 48,
   "metadata": {
    "collapsed": true
   },
   "outputs": [],
   "source": [
    "conn = sqlite3.connect(\":memory:\")"
   ]
  },
  {
   "cell_type": "code",
   "execution_count": 49,
   "metadata": {
    "collapsed": false
   },
   "outputs": [],
   "source": [
    "customer.to_sql('customer',conn,index=False,if_exists='replace')\n",
    "purchase_order.to_sql('purchase_order',conn,index=False,if_exists='replace')"
   ]
  },
  {
   "cell_type": "markdown",
   "metadata": {},
   "source": [
    "We are ready to go. This task is definitely an outlier detection problem. I will use extreme z-score. Sqlite doesn't have standard deviation function (and doesn't have sqrt too), so I have to add it via python. I found this:"
   ]
  },
  {
   "cell_type": "code",
   "execution_count": 50,
   "metadata": {
    "collapsed": true
   },
   "outputs": [],
   "source": [
    "import math\n",
    "class StdevFunc:\n",
    "    def __init__(self):\n",
    "        self.M = 0.0\n",
    "        self.S = 0.0\n",
    "        self.k = 1\n",
    "\n",
    "    def step(self, value):\n",
    "        if value is None:\n",
    "            return\n",
    "        tM = self.M\n",
    "        self.M += (value - tM) / self.k\n",
    "        self.S += (value - tM) * (value - self.M)\n",
    "        self.k += 1\n",
    "\n",
    "    def finalize(self):\n",
    "        if self.k < 3:\n",
    "            return None\n",
    "        return math.sqrt(self.S / (self.k-2))"
   ]
  },
  {
   "cell_type": "code",
   "execution_count": 51,
   "metadata": {
    "collapsed": true
   },
   "outputs": [],
   "source": [
    "conn.create_aggregate(\"stdev\", 1, StdevFunc)"
   ]
  },
  {
   "cell_type": "code",
   "execution_count": 52,
   "metadata": {
    "collapsed": true
   },
   "outputs": [],
   "source": [
    "cur = conn.cursor()"
   ]
  },
  {
   "cell_type": "markdown",
   "metadata": {},
   "source": [
    "I will implement this query step by creating tables. Of course it possible to combine it into one crazy query, but why? In my opinion it is often better to create simple queries - they are more robust and easy to debug. I can optimize it later depending on platform and sql dialect."
   ]
  },
  {
   "cell_type": "markdown",
   "metadata": {},
   "source": [
    "So at first I will create table with standard deviations and mean for each customer."
   ]
  },
  {
   "cell_type": "code",
   "execution_count": 74,
   "metadata": {
    "collapsed": false
   },
   "outputs": [
    {
     "data": {
      "text/html": [
       "<div>\n",
       "<table border=\"1\" class=\"dataframe\">\n",
       "  <thead>\n",
       "    <tr style=\"text-align: right;\">\n",
       "      <th></th>\n",
       "      <th>0</th>\n",
       "    </tr>\n",
       "  </thead>\n",
       "  <tbody>\n",
       "    <tr>\n",
       "      <th>0</th>\n",
       "      <td>Bond, James</td>\n",
       "    </tr>\n",
       "  </tbody>\n",
       "</table>\n",
       "</div>"
      ],
      "text/plain": [
       "             0\n",
       "0  Bond, James"
      ]
     },
     "execution_count": 74,
     "metadata": {},
     "output_type": "execute_result"
    }
   ],
   "source": [
    "table_name = 'test'\n",
    "\n",
    "drop_statement = 'drop table {}'.format(table_name)\n",
    "\n",
    "try:\n",
    "    cur.execute(drop_statement)\n",
    "except:\n",
    "    pass\n",
    "    \n",
    "sql = \"\"\"create table {} as\n",
    "        select\n",
    "            t1.customer_name\n",
    "           \n",
    "            \n",
    "        from \n",
    "        customer t1\n",
    "        left join \n",
    "        purchase_order t2 on (t1.customer_id = t2.customer_id)\n",
    "        where\n",
    "        t2.order_date between date('2015-09-06') and date('2015-09-07')\n",
    "\n",
    "        group by t1.customer_name,t2.order_date\n",
    "        \n",
    "        order by sum(t2.amount) desc\n",
    "        \n",
    "        limit 1\n",
    "        \n",
    "\"\"\".format(table_name)\n",
    "\n",
    "cur.execute(sql)\n",
    "select_statement = 'select * from {}'.format(table_name)\n",
    "cur.execute(select_statement)\n",
    "pd.DataFrame(cur.fetchall())"
   ]
  },
  {
   "cell_type": "code",
   "execution_count": 37,
   "metadata": {
    "collapsed": false
   },
   "outputs": [
    {
     "data": {
      "text/html": [
       "<div>\n",
       "<table border=\"1\" class=\"dataframe\">\n",
       "  <thead>\n",
       "    <tr style=\"text-align: right;\">\n",
       "      <th></th>\n",
       "      <th>0</th>\n",
       "      <th>1</th>\n",
       "      <th>2</th>\n",
       "    </tr>\n",
       "  </thead>\n",
       "  <tbody>\n",
       "    <tr>\n",
       "      <th>0</th>\n",
       "      <td>1</td>\n",
       "      <td>24310.443234</td>\n",
       "      <td>7006.548927</td>\n",
       "    </tr>\n",
       "    <tr>\n",
       "      <th>1</th>\n",
       "      <td>2</td>\n",
       "      <td>25209.244841</td>\n",
       "      <td>6909.659161</td>\n",
       "    </tr>\n",
       "    <tr>\n",
       "      <th>2</th>\n",
       "      <td>3</td>\n",
       "      <td>24498.287095</td>\n",
       "      <td>6819.626783</td>\n",
       "    </tr>\n",
       "  </tbody>\n",
       "</table>\n",
       "</div>"
      ],
      "text/plain": [
       "   0             1            2\n",
       "0  1  24310.443234  7006.548927\n",
       "1  2  25209.244841  6909.659161\n",
       "2  3  24498.287095  6819.626783"
      ]
     },
     "execution_count": 37,
     "metadata": {},
     "output_type": "execute_result"
    }
   ],
   "source": [
    "table_name = 'outliers1'\n",
    "\n",
    "drop_statement = 'drop table {}'.format(table_name)\n",
    "\n",
    "try:\n",
    "    cur.execute(drop_statement)\n",
    "except:\n",
    "    pass\n",
    "    \n",
    "sql = \"\"\"create table {} as\n",
    "        select\n",
    "            t1.customer_id as customer_id,\n",
    "            avg(t1.amount) as avg,\n",
    "            stdev(t1.amount) as std\n",
    "        from \n",
    "        purchase_order t1\n",
    "        group by t1.customer_id  \n",
    "        \n",
    "\"\"\".format(table_name)\n",
    "\n",
    "cur.execute(sql)\n",
    "select_statement = 'select * from {}'.format(table_name)\n",
    "cur.execute(select_statement)\n",
    "pd.DataFrame(cur.fetchall())"
   ]
  },
  {
   "cell_type": "markdown",
   "metadata": {},
   "source": [
    "Next I will calculate z-score for each customer and purchase_id."
   ]
  },
  {
   "cell_type": "code",
   "execution_count": 12,
   "metadata": {
    "collapsed": false
   },
   "outputs": [
    {
     "data": {
      "text/html": [
       "<div>\n",
       "<table border=\"1\" class=\"dataframe\">\n",
       "  <thead>\n",
       "    <tr style=\"text-align: right;\">\n",
       "      <th></th>\n",
       "      <th>0</th>\n",
       "      <th>1</th>\n",
       "      <th>2</th>\n",
       "      <th>3</th>\n",
       "      <th>4</th>\n",
       "    </tr>\n",
       "  </thead>\n",
       "  <tbody>\n",
       "    <tr>\n",
       "      <th>0</th>\n",
       "      <td>0</td>\n",
       "      <td>1</td>\n",
       "      <td>2015-08-31</td>\n",
       "      <td>37348.366422</td>\n",
       "      <td>1.860820</td>\n",
       "    </tr>\n",
       "    <tr>\n",
       "      <th>1</th>\n",
       "      <td>1</td>\n",
       "      <td>3</td>\n",
       "      <td>2015-09-01</td>\n",
       "      <td>27801.100459</td>\n",
       "      <td>0.484310</td>\n",
       "    </tr>\n",
       "    <tr>\n",
       "      <th>2</th>\n",
       "      <td>2</td>\n",
       "      <td>3</td>\n",
       "      <td>2015-09-02</td>\n",
       "      <td>31851.165889</td>\n",
       "      <td>1.078194</td>\n",
       "    </tr>\n",
       "    <tr>\n",
       "      <th>3</th>\n",
       "      <td>3</td>\n",
       "      <td>3</td>\n",
       "      <td>2015-09-03</td>\n",
       "      <td>40686.252394</td>\n",
       "      <td>2.373732</td>\n",
       "    </tr>\n",
       "    <tr>\n",
       "      <th>4</th>\n",
       "      <td>4</td>\n",
       "      <td>2</td>\n",
       "      <td>2015-09-04</td>\n",
       "      <td>38072.905931</td>\n",
       "      <td>1.861693</td>\n",
       "    </tr>\n",
       "  </tbody>\n",
       "</table>\n",
       "</div>"
      ],
      "text/plain": [
       "   0  1           2             3         4\n",
       "0  0  1  2015-08-31  37348.366422  1.860820\n",
       "1  1  3  2015-09-01  27801.100459  0.484310\n",
       "2  2  3  2015-09-02  31851.165889  1.078194\n",
       "3  3  3  2015-09-03  40686.252394  2.373732\n",
       "4  4  2  2015-09-04  38072.905931  1.861693"
      ]
     },
     "execution_count": 12,
     "metadata": {},
     "output_type": "execute_result"
    }
   ],
   "source": [
    "table_name = 'outliers2'\n",
    "\n",
    "drop_statement = 'drop table {}'.format(table_name)\n",
    "\n",
    "try:\n",
    "    cur.execute(drop_statement)\n",
    "except:\n",
    "    pass\n",
    "    \n",
    "sql = \"\"\"create table {} as\n",
    "\n",
    "        select\n",
    "            t1.purchase_order_id as purchase_order_id,\n",
    "            t1.customer_id as customer_id,\n",
    "            t1.order_date as order_date,\n",
    "            t1.amount as amount,\n",
    "            (t1.amount - t2.avg)/t2.std as z_score\n",
    "        from \n",
    "        purchase_order t1\n",
    "        left join\n",
    "        outliers1 t2 on (t1.customer_id = t2.customer_id)\n",
    " \n",
    "\"\"\".format(table_name)\n",
    "\n",
    "cur.execute(sql)\n",
    "select_statement = 'select * from {}'.format(table_name)\n",
    "cur.execute(select_statement)\n",
    "pd.DataFrame(cur.fetchall()).head()"
   ]
  },
  {
   "cell_type": "markdown",
   "metadata": {},
   "source": [
    "Now let's group by date and customer, find min and max and also max (by abs) z-score."
   ]
  },
  {
   "cell_type": "code",
   "execution_count": 13,
   "metadata": {
    "collapsed": false
   },
   "outputs": [
    {
     "data": {
      "text/html": [
       "<div>\n",
       "<table border=\"1\" class=\"dataframe\">\n",
       "  <thead>\n",
       "    <tr style=\"text-align: right;\">\n",
       "      <th></th>\n",
       "      <th>0</th>\n",
       "      <th>1</th>\n",
       "      <th>2</th>\n",
       "      <th>3</th>\n",
       "      <th>4</th>\n",
       "    </tr>\n",
       "  </thead>\n",
       "  <tbody>\n",
       "    <tr>\n",
       "      <th>0</th>\n",
       "      <td>1</td>\n",
       "      <td>2015-11-28</td>\n",
       "      <td>3676.998616</td>\n",
       "      <td>32381.162089</td>\n",
       "      <td>2.944880</td>\n",
       "    </tr>\n",
       "    <tr>\n",
       "      <th>1</th>\n",
       "      <td>1</td>\n",
       "      <td>2016-03-11</td>\n",
       "      <td>12556.331317</td>\n",
       "      <td>44315.485798</td>\n",
       "      <td>2.855192</td>\n",
       "    </tr>\n",
       "    <tr>\n",
       "      <th>2</th>\n",
       "      <td>1</td>\n",
       "      <td>2016-01-26</td>\n",
       "      <td>15788.648126</td>\n",
       "      <td>43160.972114</td>\n",
       "      <td>2.690416</td>\n",
       "    </tr>\n",
       "    <tr>\n",
       "      <th>3</th>\n",
       "      <td>1</td>\n",
       "      <td>2016-02-24</td>\n",
       "      <td>5822.259830</td>\n",
       "      <td>32119.146940</td>\n",
       "      <td>2.638700</td>\n",
       "    </tr>\n",
       "    <tr>\n",
       "      <th>4</th>\n",
       "      <td>1</td>\n",
       "      <td>2015-09-20</td>\n",
       "      <td>7129.071289</td>\n",
       "      <td>7129.071289</td>\n",
       "      <td>2.452188</td>\n",
       "    </tr>\n",
       "  </tbody>\n",
       "</table>\n",
       "</div>"
      ],
      "text/plain": [
       "   0           1             2             3         4\n",
       "0  1  2015-11-28   3676.998616  32381.162089  2.944880\n",
       "1  1  2016-03-11  12556.331317  44315.485798  2.855192\n",
       "2  1  2016-01-26  15788.648126  43160.972114  2.690416\n",
       "3  1  2016-02-24   5822.259830  32119.146940  2.638700\n",
       "4  1  2015-09-20   7129.071289   7129.071289  2.452188"
      ]
     },
     "execution_count": 13,
     "metadata": {},
     "output_type": "execute_result"
    }
   ],
   "source": [
    "table_name = 'outliers3'\n",
    "\n",
    "drop_statement = 'drop table {}'.format(table_name)\n",
    "\n",
    "try:\n",
    "    cur.execute(drop_statement)\n",
    "except:\n",
    "    pass\n",
    "    \n",
    "sql = \"\"\"create table {} as\n",
    "\n",
    "        select\n",
    "        \n",
    "            t1.customer_id as customer_id,\n",
    "            t1.order_date as order_date,\n",
    "            min(t1.amount) as min_amount,\n",
    "            max(t1.amount) as max_amount,\n",
    "            max(abs(t1.z_score)) as abs_z_score\n",
    "            \n",
    "        from \n",
    "        outliers2 t1\n",
    "        group by\n",
    "        t1.customer_id,\n",
    "        t1.order_date\n",
    "        \n",
    "        order by\n",
    "        t1.customer_id,\n",
    "        max(abs(t1.z_score)) desc\n",
    "        \n",
    "\"\"\".format(table_name)\n",
    "\n",
    "cur.execute(sql)\n",
    "select_statement = 'select * from {}'.format(table_name)\n",
    "cur.execute(select_statement)\n",
    "pd.DataFrame(cur.fetchall()).head()"
   ]
  },
  {
   "cell_type": "markdown",
   "metadata": {},
   "source": [
    "Now I will display top-5 dates for each customer and add customer_name."
   ]
  },
  {
   "cell_type": "code",
   "execution_count": 14,
   "metadata": {
    "collapsed": false
   },
   "outputs": [],
   "source": [
    "table_name = 'outliers4'\n",
    "\n",
    "drop_statement = 'drop table {}'.format(table_name)\n",
    "\n",
    "try:\n",
    "    cur.execute(drop_statement)\n",
    "except:\n",
    "    pass\n",
    "    \n",
    "sql = \"\"\"create table {} as\n",
    "\n",
    "        select\n",
    "        \n",
    "            t3.customer_name,\n",
    "            t1.order_date as order_date,\n",
    "            t1.min_amount,\n",
    "            t1.max_amount,\n",
    "            t1.abs_z_score,\n",
    "            count(t2.customer_id) as rank\n",
    "            \n",
    "        from outliers3 t1\n",
    "        left join\n",
    "        outliers3 t2 on\n",
    "        (t2.customer_id = t1.customer_id\n",
    "        and t1.abs_z_score <= t2.abs_z_score)\n",
    "        left join customer t3 on (t1.customer_id = t3.customer_id)\n",
    "        \n",
    "        group by \n",
    "        \n",
    "            t3.customer_name,\n",
    "            t1.abs_z_score\n",
    "        \n",
    "        having count(t2.customer_id) <= 5\n",
    "\n",
    "        order by t1.customer_id, t1.abs_z_score desc\n",
    "        \n",
    "\"\"\".format(table_name)\n",
    "\n",
    "cur.execute(sql)\n",
    "select_statement = 'select * from {}'.format(table_name)\n",
    "cur.execute(select_statement)\n",
    "df = pd.DataFrame(cur.fetchall())\n",
    "df.columns = ['customer_name','order_date','min_amount','max_amount','z_score_abs','rank']"
   ]
  },
  {
   "cell_type": "markdown",
   "metadata": {},
   "source": [
    "Here it is:"
   ]
  },
  {
   "cell_type": "code",
   "execution_count": 15,
   "metadata": {
    "collapsed": false
   },
   "outputs": [
    {
     "data": {
      "text/html": [
       "<div>\n",
       "<table border=\"1\" class=\"dataframe\">\n",
       "  <thead>\n",
       "    <tr style=\"text-align: right;\">\n",
       "      <th></th>\n",
       "      <th>customer_name</th>\n",
       "      <th>order_date</th>\n",
       "      <th>min_amount</th>\n",
       "      <th>max_amount</th>\n",
       "      <th>z_score_abs</th>\n",
       "      <th>rank</th>\n",
       "    </tr>\n",
       "  </thead>\n",
       "  <tbody>\n",
       "    <tr>\n",
       "      <th>0</th>\n",
       "      <td>Bond, James</td>\n",
       "      <td>2015-11-28</td>\n",
       "      <td>3676.998616</td>\n",
       "      <td>32381.162089</td>\n",
       "      <td>2.944880</td>\n",
       "      <td>1</td>\n",
       "    </tr>\n",
       "    <tr>\n",
       "      <th>1</th>\n",
       "      <td>Bond, James</td>\n",
       "      <td>2016-03-11</td>\n",
       "      <td>12556.331317</td>\n",
       "      <td>44315.485798</td>\n",
       "      <td>2.855192</td>\n",
       "      <td>2</td>\n",
       "    </tr>\n",
       "    <tr>\n",
       "      <th>2</th>\n",
       "      <td>Bond, James</td>\n",
       "      <td>2016-01-26</td>\n",
       "      <td>15788.648126</td>\n",
       "      <td>43160.972114</td>\n",
       "      <td>2.690416</td>\n",
       "      <td>3</td>\n",
       "    </tr>\n",
       "    <tr>\n",
       "      <th>3</th>\n",
       "      <td>Bond, James</td>\n",
       "      <td>2016-02-24</td>\n",
       "      <td>5822.259830</td>\n",
       "      <td>32119.146940</td>\n",
       "      <td>2.638700</td>\n",
       "      <td>4</td>\n",
       "    </tr>\n",
       "    <tr>\n",
       "      <th>4</th>\n",
       "      <td>Bond, James</td>\n",
       "      <td>2015-09-20</td>\n",
       "      <td>7129.071289</td>\n",
       "      <td>7129.071289</td>\n",
       "      <td>2.452188</td>\n",
       "      <td>5</td>\n",
       "    </tr>\n",
       "    <tr>\n",
       "      <th>5</th>\n",
       "      <td>Snow, Jon</td>\n",
       "      <td>2015-09-21</td>\n",
       "      <td>5591.850705</td>\n",
       "      <td>29575.330168</td>\n",
       "      <td>2.839126</td>\n",
       "      <td>1</td>\n",
       "    </tr>\n",
       "    <tr>\n",
       "      <th>6</th>\n",
       "      <td>Snow, Jon</td>\n",
       "      <td>2016-04-22</td>\n",
       "      <td>6410.666349</td>\n",
       "      <td>6410.666349</td>\n",
       "      <td>2.720623</td>\n",
       "      <td>2</td>\n",
       "    </tr>\n",
       "    <tr>\n",
       "      <th>7</th>\n",
       "      <td>Snow, Jon</td>\n",
       "      <td>2015-10-17</td>\n",
       "      <td>7085.707336</td>\n",
       "      <td>29080.675758</td>\n",
       "      <td>2.622928</td>\n",
       "      <td>3</td>\n",
       "    </tr>\n",
       "    <tr>\n",
       "      <th>8</th>\n",
       "      <td>Snow, Jon</td>\n",
       "      <td>2016-04-21</td>\n",
       "      <td>16906.722977</td>\n",
       "      <td>42480.402741</td>\n",
       "      <td>2.499567</td>\n",
       "      <td>4</td>\n",
       "    </tr>\n",
       "    <tr>\n",
       "      <th>9</th>\n",
       "      <td>Snow, Jon</td>\n",
       "      <td>2015-09-28</td>\n",
       "      <td>8412.891663</td>\n",
       "      <td>35729.454501</td>\n",
       "      <td>2.430851</td>\n",
       "      <td>5</td>\n",
       "    </tr>\n",
       "    <tr>\n",
       "      <th>10</th>\n",
       "      <td>McCormick, Kenny</td>\n",
       "      <td>2016-05-01</td>\n",
       "      <td>22836.909217</td>\n",
       "      <td>43873.568368</td>\n",
       "      <td>2.841106</td>\n",
       "      <td>1</td>\n",
       "    </tr>\n",
       "    <tr>\n",
       "      <th>11</th>\n",
       "      <td>McCormick, Kenny</td>\n",
       "      <td>2016-03-03</td>\n",
       "      <td>5158.118463</td>\n",
       "      <td>13785.596411</td>\n",
       "      <td>2.835957</td>\n",
       "      <td>2</td>\n",
       "    </tr>\n",
       "    <tr>\n",
       "      <th>12</th>\n",
       "      <td>McCormick, Kenny</td>\n",
       "      <td>2015-11-23</td>\n",
       "      <td>6385.794334</td>\n",
       "      <td>25361.024599</td>\n",
       "      <td>2.655936</td>\n",
       "      <td>3</td>\n",
       "    </tr>\n",
       "    <tr>\n",
       "      <th>13</th>\n",
       "      <td>McCormick, Kenny</td>\n",
       "      <td>2015-12-09</td>\n",
       "      <td>6920.423569</td>\n",
       "      <td>6920.423569</td>\n",
       "      <td>2.577540</td>\n",
       "      <td>4</td>\n",
       "    </tr>\n",
       "    <tr>\n",
       "      <th>14</th>\n",
       "      <td>McCormick, Kenny</td>\n",
       "      <td>2016-04-02</td>\n",
       "      <td>22129.652148</td>\n",
       "      <td>41887.175757</td>\n",
       "      <td>2.549830</td>\n",
       "      <td>5</td>\n",
       "    </tr>\n",
       "  </tbody>\n",
       "</table>\n",
       "</div>"
      ],
      "text/plain": [
       "       customer_name  order_date    min_amount    max_amount  z_score_abs  \\\n",
       "0        Bond, James  2015-11-28   3676.998616  32381.162089     2.944880   \n",
       "1        Bond, James  2016-03-11  12556.331317  44315.485798     2.855192   \n",
       "2        Bond, James  2016-01-26  15788.648126  43160.972114     2.690416   \n",
       "3        Bond, James  2016-02-24   5822.259830  32119.146940     2.638700   \n",
       "4        Bond, James  2015-09-20   7129.071289   7129.071289     2.452188   \n",
       "5          Snow, Jon  2015-09-21   5591.850705  29575.330168     2.839126   \n",
       "6          Snow, Jon  2016-04-22   6410.666349   6410.666349     2.720623   \n",
       "7          Snow, Jon  2015-10-17   7085.707336  29080.675758     2.622928   \n",
       "8          Snow, Jon  2016-04-21  16906.722977  42480.402741     2.499567   \n",
       "9          Snow, Jon  2015-09-28   8412.891663  35729.454501     2.430851   \n",
       "10  McCormick, Kenny  2016-05-01  22836.909217  43873.568368     2.841106   \n",
       "11  McCormick, Kenny  2016-03-03   5158.118463  13785.596411     2.835957   \n",
       "12  McCormick, Kenny  2015-11-23   6385.794334  25361.024599     2.655936   \n",
       "13  McCormick, Kenny  2015-12-09   6920.423569   6920.423569     2.577540   \n",
       "14  McCormick, Kenny  2016-04-02  22129.652148  41887.175757     2.549830   \n",
       "\n",
       "    rank  \n",
       "0      1  \n",
       "1      2  \n",
       "2      3  \n",
       "3      4  \n",
       "4      5  \n",
       "5      1  \n",
       "6      2  \n",
       "7      3  \n",
       "8      4  \n",
       "9      5  \n",
       "10     1  \n",
       "11     2  \n",
       "12     3  \n",
       "13     4  \n",
       "14     5  "
      ]
     },
     "execution_count": 15,
     "metadata": {},
     "output_type": "execute_result"
    }
   ],
   "source": [
    "df"
   ]
  },
  {
   "cell_type": "markdown",
   "metadata": {},
   "source": [
    "It can be done a lot easier with pandas."
   ]
  },
  {
   "cell_type": "code",
   "execution_count": 16,
   "metadata": {
    "collapsed": false
   },
   "outputs": [
    {
     "name": "stderr",
     "output_type": "stream",
     "text": [
      "//anaconda/envs/python2/lib/python2.7/site-packages/IPython/html.py:14: ShimWarning: The `IPython.html` package has been deprecated. You should import from `notebook` instead. `IPython.html.widgets` has moved to `ipywidgets`.\n",
      "  \"`IPython.html.widgets` has moved to `ipywidgets`.\", ShimWarning)\n"
     ]
    }
   ],
   "source": [
    "from scipy.stats import zscore\n",
    "import matplotlib.pyplot as plt\n",
    "%matplotlib inline\n",
    "import seaborn"
   ]
  },
  {
   "cell_type": "code",
   "execution_count": 17,
   "metadata": {
    "collapsed": false
   },
   "outputs": [],
   "source": [
    "z_scores = purchase_order.groupby(['customer_id'])['amount'].apply(zscore,ddof=1)\n",
    "z_scores1 = np.hstack([z_scores[1],z_scores[2],z_scores[3]])\n",
    "purchase_order1 = purchase_order.sort_values(['customer_id','purchase_order_id'])\n",
    "purchase_order1['z_score'] = z_scores1"
   ]
  },
  {
   "cell_type": "markdown",
   "metadata": {},
   "source": [
    "I won't reproduce original report, let’s better look at visualization."
   ]
  },
  {
   "cell_type": "code",
   "execution_count": 18,
   "metadata": {
    "collapsed": false
   },
   "outputs": [
    {
     "data": {
      "text/plain": [
       "<matplotlib.text.Text at 0x1198239d0>"
      ]
     },
     "execution_count": 18,
     "metadata": {},
     "output_type": "execute_result"
    },
    {
     "data": {
      "image/png": "[encoded data removed]",
      "text/plain": [
       "<matplotlib.figure.Figure at 0x11732dbd0>"
      ]
     },
     "metadata": {},
     "output_type": "display_data"
    }
   ],
   "source": [
    "purchase_order1[purchase_order1['customer_id'] == 2].plot('order_date',\n",
    "                                                          'z_score',\n",
    "                                                          figsize=(15, 8),\n",
    "                                                         label = \"Jon Snow's purchases\")\n",
    "plt.hlines(2,\n",
    "           purchase_order1['order_date'].min(),\n",
    "          purchase_order1['order_date'].max(),\n",
    "          color='r')\n",
    "plt.hlines(-2,\n",
    "           purchase_order1['order_date'].min(),\n",
    "          purchase_order1['order_date'].max(),\n",
    "          color='r')\n",
    "plt.ylabel('z_score')"
   ]
  },
  {
   "cell_type": "markdown",
   "metadata": {},
   "source": [
    "# Задача 2."
   ]
  },
  {
   "cell_type": "markdown",
   "metadata": {},
   "source": [
    "Необходимо проверить, что новый метод лечения пациентов приводит к успеху на 10% чаще по сравнению с традиционным. Для проведения испытаний набирается две группы: пилотная (на который применяется новый метод лечения) и контрольная (традиционный метод лечения) одинакового объёма. Каково минимальное количество пациентов для каждой группы, необходимое для заданных вероятности ошибки первого рода = 2,5% и мощности 80%"
   ]
  },
  {
   "cell_type": "markdown",
   "metadata": {},
   "source": [
    "$H_0: p_2 - p_2 \\neq 10\\% $\n",
    "\n",
    "$H_1: p_2 - p_2 = 10\\% $\n",
    "\n",
    "$\\alpha = 0.025; 1 - \\beta = 0.80; n - ?$"
   ]
  },
  {
   "cell_type": "markdown",
   "metadata": {},
   "source": [
    "Согласно книге [Statistical Methods for Rates and Proportions, 3rd Edition](http://eu.wiley.com/WileyCDA/WileyTitle/productCd-0471526290.html) (глава 4) размер необходимой выборки для двухстороннего теста и равных групп можно посчитать по формуле:\n",
    "\n",
    "$ n = \\frac{(Z_{\\alpha/2}\\sqrt{2\\bar{P}\\bar{Q}}+Z_{\\beta}\\sqrt{P_1Q_1+P_2Q_2})^2}{(P_2-P_1)^2} $"
   ]
  },
  {
   "cell_type": "code",
   "execution_count": 19,
   "metadata": {
    "collapsed": true
   },
   "outputs": [],
   "source": [
    "def get_sample_size(p1,p2,alpha=0.025,power=0.8):\n",
    "    \n",
    "    p_bar = (p1 + p2)/2\n",
    "    q_bar = 1 - p_bar\n",
    "    \n",
    "    v1 = p1 * (1 - p1) # P*Q\n",
    "    v2 = p2 * (1 - p2)\n",
    "    \n",
    "    z_alpha = norm.ppf(1 - alpha/2)\n",
    "    z_beta = norm.ppf(power)\n",
    "    \n",
    "    n = ((z_alpha * np.sqrt(2 * p_bar * q_bar) +\n",
    "        z_beta * np.sqrt(v1 + v2))**2/\n",
    "        ((p2 - p1)**2))\n",
    "    \n",
    "    return n"
   ]
  },
  {
   "cell_type": "markdown",
   "metadata": {},
   "source": [
    "Проверим например для p1=0.5 и p2=0.6"
   ]
  },
  {
   "cell_type": "code",
   "execution_count": 20,
   "metadata": {
    "collapsed": false
   },
   "outputs": [
    {
     "data": {
      "text/plain": [
       "469.1995557331303"
      ]
     },
     "execution_count": 20,
     "metadata": {},
     "output_type": "execute_result"
    }
   ],
   "source": [
    "get_sample_size(0.5,0.6)"
   ]
  },
  {
   "cell_type": "markdown",
   "metadata": {},
   "source": [
    "Сравним с имплементацией в scipy"
   ]
  },
  {
   "cell_type": "code",
   "execution_count": 21,
   "metadata": {
    "collapsed": false
   },
   "outputs": [
    {
     "data": {
      "text/plain": [
       "468.86337425839423"
      ]
     },
     "execution_count": 21,
     "metadata": {},
     "output_type": "execute_result"
    }
   ],
   "source": [
    "import statsmodels.stats.api as sms\n",
    "es = sms.proportion_effectsize(0.5, 0.6)\n",
    "sms.NormalIndPower().solve_power(es, power=0.8, alpha=0.025, ratio=1)"
   ]
  },
  {
   "cell_type": "markdown",
   "metadata": {},
   "source": [
    "Очень близко. Видимо у них как-то по другому сделано - возможно они используют какую-то другую аппроксимацию вместо нормальной. В условии задачи сказано найти минимальное кол-во пациентов в каждой группе. Поскольку мы ничего не знаем о возможной доле, то я построю таблицу для всех возможных."
   ]
  },
  {
   "cell_type": "code",
   "execution_count": 22,
   "metadata": {
    "collapsed": false
   },
   "outputs": [],
   "source": [
    "proportions = [0.01, 0.05, 0.1, 0.2, \n",
    "               0.3, 0.4, 0.5, 0.6,\n",
    "               0.7, 0.8, 0.9, 1]\n",
    "\n",
    "l = len(proportions)"
   ]
  },
  {
   "cell_type": "code",
   "execution_count": 23,
   "metadata": {
    "collapsed": false
   },
   "outputs": [],
   "source": [
    "sample_sizes = np.zeros((l,l))"
   ]
  },
  {
   "cell_type": "code",
   "execution_count": 24,
   "metadata": {
    "collapsed": false
   },
   "outputs": [],
   "source": [
    "for i, p1 in enumerate(proportions):\n",
    "    for j, p2 in enumerate(proportions):\n",
    "        try:\n",
    "            sample_sizes[i][j] = int(round(get_sample_size(p1,p2)))\n",
    "        except:\n",
    "            sample_sizes[i][j] = get_sample_size(p1,p2)"
   ]
  },
  {
   "cell_type": "code",
   "execution_count": 25,
   "metadata": {
    "collapsed": false
   },
   "outputs": [],
   "source": [
    "df = pd.DataFrame(sample_sizes,index=proportions,columns=proportions)"
   ]
  },
  {
   "cell_type": "code",
   "execution_count": 26,
   "metadata": {
    "collapsed": false
   },
   "outputs": [
    {
     "data": {
      "text/html": [
       "<div>\n",
       "<table border=\"1\" class=\"dataframe\">\n",
       "  <thead>\n",
       "    <tr style=\"text-align: right;\">\n",
       "      <th></th>\n",
       "      <th>0.01</th>\n",
       "      <th>0.05</th>\n",
       "      <th>0.1</th>\n",
       "      <th>0.2</th>\n",
       "      <th>0.3</th>\n",
       "      <th>0.4</th>\n",
       "      <th>0.5</th>\n",
       "      <th>0.6</th>\n",
       "      <th>0.7</th>\n",
       "      <th>0.8</th>\n",
       "      <th>0.9</th>\n",
       "      <th>1.0</th>\n",
       "    </tr>\n",
       "  </thead>\n",
       "  <tbody>\n",
       "    <tr>\n",
       "      <th>0.01</th>\n",
       "      <td>NaN</td>\n",
       "      <td>344.0</td>\n",
       "      <td>121.0</td>\n",
       "      <td>48.0</td>\n",
       "      <td>28.0</td>\n",
       "      <td>19.0</td>\n",
       "      <td>14.0</td>\n",
       "      <td>10.0</td>\n",
       "      <td>8.0</td>\n",
       "      <td>6.0</td>\n",
       "      <td>4.0</td>\n",
       "      <td>3.0</td>\n",
       "    </tr>\n",
       "    <tr>\n",
       "      <th>0.05</th>\n",
       "      <td>344.0</td>\n",
       "      <td>NaN</td>\n",
       "      <td>526.0</td>\n",
       "      <td>91.0</td>\n",
       "      <td>43.0</td>\n",
       "      <td>26.0</td>\n",
       "      <td>17.0</td>\n",
       "      <td>12.0</td>\n",
       "      <td>9.0</td>\n",
       "      <td>7.0</td>\n",
       "      <td>5.0</td>\n",
       "      <td>3.0</td>\n",
       "    </tr>\n",
       "    <tr>\n",
       "      <th>0.10</th>\n",
       "      <td>121.0</td>\n",
       "      <td>526.0</td>\n",
       "      <td>NaN</td>\n",
       "      <td>241.0</td>\n",
       "      <td>75.0</td>\n",
       "      <td>38.0</td>\n",
       "      <td>24.0</td>\n",
       "      <td>16.0</td>\n",
       "      <td>11.0</td>\n",
       "      <td>8.0</td>\n",
       "      <td>6.0</td>\n",
       "      <td>4.0</td>\n",
       "    </tr>\n",
       "    <tr>\n",
       "      <th>0.20</th>\n",
       "      <td>48.0</td>\n",
       "      <td>91.0</td>\n",
       "      <td>241.0</td>\n",
       "      <td>NaN</td>\n",
       "      <td>355.0</td>\n",
       "      <td>98.0</td>\n",
       "      <td>47.0</td>\n",
       "      <td>27.0</td>\n",
       "      <td>17.0</td>\n",
       "      <td>12.0</td>\n",
       "      <td>8.0</td>\n",
       "      <td>6.0</td>\n",
       "    </tr>\n",
       "    <tr>\n",
       "      <th>0.30</th>\n",
       "      <td>28.0</td>\n",
       "      <td>43.0</td>\n",
       "      <td>75.0</td>\n",
       "      <td>355.0</td>\n",
       "      <td>NaN</td>\n",
       "      <td>431.0</td>\n",
       "      <td>113.0</td>\n",
       "      <td>51.0</td>\n",
       "      <td>28.0</td>\n",
       "      <td>17.0</td>\n",
       "      <td>11.0</td>\n",
       "      <td>7.0</td>\n",
       "    </tr>\n",
       "    <tr>\n",
       "      <th>0.40</th>\n",
       "      <td>19.0</td>\n",
       "      <td>26.0</td>\n",
       "      <td>38.0</td>\n",
       "      <td>98.0</td>\n",
       "      <td>431.0</td>\n",
       "      <td>NaN</td>\n",
       "      <td>469.0</td>\n",
       "      <td>118.0</td>\n",
       "      <td>51.0</td>\n",
       "      <td>27.0</td>\n",
       "      <td>16.0</td>\n",
       "      <td>10.0</td>\n",
       "    </tr>\n",
       "    <tr>\n",
       "      <th>0.50</th>\n",
       "      <td>14.0</td>\n",
       "      <td>17.0</td>\n",
       "      <td>24.0</td>\n",
       "      <td>47.0</td>\n",
       "      <td>113.0</td>\n",
       "      <td>469.0</td>\n",
       "      <td>NaN</td>\n",
       "      <td>469.0</td>\n",
       "      <td>113.0</td>\n",
       "      <td>47.0</td>\n",
       "      <td>24.0</td>\n",
       "      <td>13.0</td>\n",
       "    </tr>\n",
       "    <tr>\n",
       "      <th>0.60</th>\n",
       "      <td>10.0</td>\n",
       "      <td>12.0</td>\n",
       "      <td>16.0</td>\n",
       "      <td>27.0</td>\n",
       "      <td>51.0</td>\n",
       "      <td>118.0</td>\n",
       "      <td>469.0</td>\n",
       "      <td>NaN</td>\n",
       "      <td>431.0</td>\n",
       "      <td>98.0</td>\n",
       "      <td>38.0</td>\n",
       "      <td>18.0</td>\n",
       "    </tr>\n",
       "    <tr>\n",
       "      <th>0.70</th>\n",
       "      <td>8.0</td>\n",
       "      <td>9.0</td>\n",
       "      <td>11.0</td>\n",
       "      <td>17.0</td>\n",
       "      <td>28.0</td>\n",
       "      <td>51.0</td>\n",
       "      <td>113.0</td>\n",
       "      <td>431.0</td>\n",
       "      <td>NaN</td>\n",
       "      <td>355.0</td>\n",
       "      <td>75.0</td>\n",
       "      <td>26.0</td>\n",
       "    </tr>\n",
       "    <tr>\n",
       "      <th>0.80</th>\n",
       "      <td>6.0</td>\n",
       "      <td>7.0</td>\n",
       "      <td>8.0</td>\n",
       "      <td>12.0</td>\n",
       "      <td>17.0</td>\n",
       "      <td>27.0</td>\n",
       "      <td>47.0</td>\n",
       "      <td>98.0</td>\n",
       "      <td>355.0</td>\n",
       "      <td>NaN</td>\n",
       "      <td>241.0</td>\n",
       "      <td>41.0</td>\n",
       "    </tr>\n",
       "    <tr>\n",
       "      <th>0.90</th>\n",
       "      <td>4.0</td>\n",
       "      <td>5.0</td>\n",
       "      <td>6.0</td>\n",
       "      <td>8.0</td>\n",
       "      <td>11.0</td>\n",
       "      <td>16.0</td>\n",
       "      <td>24.0</td>\n",
       "      <td>38.0</td>\n",
       "      <td>75.0</td>\n",
       "      <td>241.0</td>\n",
       "      <td>NaN</td>\n",
       "      <td>89.0</td>\n",
       "    </tr>\n",
       "    <tr>\n",
       "      <th>1.00</th>\n",
       "      <td>3.0</td>\n",
       "      <td>3.0</td>\n",
       "      <td>4.0</td>\n",
       "      <td>6.0</td>\n",
       "      <td>7.0</td>\n",
       "      <td>10.0</td>\n",
       "      <td>13.0</td>\n",
       "      <td>18.0</td>\n",
       "      <td>26.0</td>\n",
       "      <td>41.0</td>\n",
       "      <td>89.0</td>\n",
       "      <td>NaN</td>\n",
       "    </tr>\n",
       "  </tbody>\n",
       "</table>\n",
       "</div>"
      ],
      "text/plain": [
       "       0.01   0.05   0.10   0.20   0.30   0.40   0.50   0.60   0.70   0.80  \\\n",
       "0.01    NaN  344.0  121.0   48.0   28.0   19.0   14.0   10.0    8.0    6.0   \n",
       "0.05  344.0    NaN  526.0   91.0   43.0   26.0   17.0   12.0    9.0    7.0   \n",
       "0.10  121.0  526.0    NaN  241.0   75.0   38.0   24.0   16.0   11.0    8.0   \n",
       "0.20   48.0   91.0  241.0    NaN  355.0   98.0   47.0   27.0   17.0   12.0   \n",
       "0.30   28.0   43.0   75.0  355.0    NaN  431.0  113.0   51.0   28.0   17.0   \n",
       "0.40   19.0   26.0   38.0   98.0  431.0    NaN  469.0  118.0   51.0   27.0   \n",
       "0.50   14.0   17.0   24.0   47.0  113.0  469.0    NaN  469.0  113.0   47.0   \n",
       "0.60   10.0   12.0   16.0   27.0   51.0  118.0  469.0    NaN  431.0   98.0   \n",
       "0.70    8.0    9.0   11.0   17.0   28.0   51.0  113.0  431.0    NaN  355.0   \n",
       "0.80    6.0    7.0    8.0   12.0   17.0   27.0   47.0   98.0  355.0    NaN   \n",
       "0.90    4.0    5.0    6.0    8.0   11.0   16.0   24.0   38.0   75.0  241.0   \n",
       "1.00    3.0    3.0    4.0    6.0    7.0   10.0   13.0   18.0   26.0   41.0   \n",
       "\n",
       "       0.90  1.00  \n",
       "0.01    4.0   3.0  \n",
       "0.05    5.0   3.0  \n",
       "0.10    6.0   4.0  \n",
       "0.20    8.0   6.0  \n",
       "0.30   11.0   7.0  \n",
       "0.40   16.0  10.0  \n",
       "0.50   24.0  13.0  \n",
       "0.60   38.0  18.0  \n",
       "0.70   75.0  26.0  \n",
       "0.80  241.0  41.0  \n",
       "0.90    NaN  89.0  \n",
       "1.00   89.0   NaN  "
      ]
     },
     "execution_count": 26,
     "metadata": {},
     "output_type": "execute_result"
    }
   ],
   "source": [
    "df = df.replace(np.inf,0).fillna(0).astype(int).replace(0,np.nan)\n",
    "df"
   ]
  },
  {
   "cell_type": "markdown",
   "metadata": {},
   "source": [
    "Руководствуясь это таблицей можно выбирать размер каждой группы в зависимости от исходной доли."
   ]
  }
 ],
 "metadata": {
  "kernelspec": {
   "display_name": "Python 2",
   "language": "python",
   "name": "python2"
  },
  "language_info": {
   "codemirror_mode": {
    "name": "ipython",
    "version": 2
   },
   "file_extension": ".py",
   "mimetype": "text/x-python",
   "name": "python",
   "nbconvert_exporter": "python",
   "pygments_lexer": "ipython2",
   "version": "2.7.11"
  }
 },
 "nbformat": 4,
 "nbformat_minor": 0
}
