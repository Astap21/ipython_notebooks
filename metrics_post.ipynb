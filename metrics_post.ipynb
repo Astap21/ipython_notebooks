{
 "cells": [
  {
   "cell_type": "markdown",
   "metadata": {},
   "source": [
    "# Метрики качества"
   ]
  },
  {
   "cell_type": "markdown",
   "metadata": {},
   "source": [
    "Рассмотрим основные метрики качества для классификаторов. Речь пойдет о: \n",
    "\n",
    "1. Матрица ошибок\n",
    "2. Accuracy (доля правильных ответов)\n",
    "3. Precision (точность)\n",
    "4. Recall (полнота) \n",
    "5. F-score (F-мера)\n",
    "6. Кривая Precision-recall\n",
    "7. Кривая ROC.\n",
    "\n",
    "Изучать данные показатели будем сразу на практическом примере - german credit data (я уже писал о ней в статье про кредитный скорринг). Скачать версию с моими именами столбцов можно [здесь](http//:www.glebmikhaylov.com). Без всяких дополнительных объяснений я создам модель на основе логистической регрессии, которая будет предсказывать вероятность дефолта клиента."
   ]
  },
  {
   "cell_type": "code",
   "execution_count": 1,
   "metadata": {
    "collapsed": false
   },
   "outputs": [
    {
     "data": {
      "text/plain": [
       "Index([u'Default', u'checkingstatus1', u'duration', u'history', u'purpose',\n",
       "       u'amount', u'savings', u'employ', u'installment', u'status', u'others',\n",
       "       u'residence', u'property', u'age', u'otherplans', u'housing', u'cards',\n",
       "       u'job', u'liable', u'tele', u'foreign'],\n",
       "      dtype='object')"
      ]
     },
     "execution_count": 1,
     "metadata": {},
     "output_type": "execute_result"
    }
   ],
   "source": [
    "import pandas as pd\n",
    "import numpy as np\n",
    "from __future__ import division\n",
    "import random\n",
    "random.seed(1)\n",
    "df = pd.read_csv('germancredit.csv')\n",
    "df.columns"
   ]
  },
  {
   "cell_type": "markdown",
   "metadata": {},
   "source": [
    "Тренировать модель я буду примерно так же, как делал в посте про кредитный дефолт."
   ]
  },
  {
   "cell_type": "code",
   "execution_count": 2,
   "metadata": {
    "collapsed": true
   },
   "outputs": [],
   "source": [
    "from sklearn.cross_validation import train_test_split\n",
    "from patsy import dmatrices\n",
    "\n",
    "formula = 'Default~C(checkingstatus1)+duration+C(purpose)+\\\n",
    "amount+C(savings)+C(employ)+installment+\\\n",
    "C(property)+age+C(otherplans)+\\\n",
    "C(housing)+cards+C(tele)+C(foreign)'\n",
    "def test_train(formula, df):\n",
    "    y,X = dmatrices(formula,df, return_type=\"dataframe\")\n",
    "    y = pd.np.ravel(y) # перобразуем y в одномерный массив\n",
    "    X_train, X_test, y_train, y_test = train_test_split(X, y, test_size=0.3, random_state=0)\n",
    "    return y, X, X_train, X_test, y_train, y_test\n",
    "y, X, X_train, X_test, y_train, y_test = test_train(formula, df)"
   ]
  },
  {
   "cell_type": "markdown",
   "metadata": {},
   "source": [
    "Можно обучить модель."
   ]
  },
  {
   "cell_type": "code",
   "execution_count": 3,
   "metadata": {
    "collapsed": false
   },
   "outputs": [
    {
     "data": {
      "text/plain": [
       "LogisticRegression(C=1.0, class_weight=None, dual=False, fit_intercept=True,\n",
       "          intercept_scaling=1, max_iter=100, multi_class='ovr',\n",
       "          penalty='l2', random_state=None, solver='liblinear', tol=0.0001,\n",
       "          verbose=0)"
      ]
     },
     "execution_count": 3,
     "metadata": {},
     "output_type": "execute_result"
    }
   ],
   "source": [
    "from sklearn.linear_model import LogisticRegression\n",
    "model = LogisticRegression()\n",
    "model.fit(X_train,y_train)"
   ]
  },
  {
   "cell_type": "markdown",
   "metadata": {},
   "source": [
    "И вот у нас есть модель, которая предсказывает вероятность дефолта клиента. Можно посмотреть, что она предскажет на тестовых данных."
   ]
  },
  {
   "cell_type": "code",
   "execution_count": 4,
   "metadata": {
    "collapsed": false
   },
   "outputs": [
    {
     "data": {
      "text/plain": [
       "array([ 0.57533325,  0.06677284,  0.05149072,  0.6833485 ,  0.46046416,\n",
       "        0.2308643 ,  0.11024943,  0.11448559,  0.04988511,  0.69050478])"
      ]
     },
     "execution_count": 4,
     "metadata": {},
     "output_type": "execute_result"
    }
   ],
   "source": [
    "model.predict_proba(X_test)[:,1][:10]"
   ]
  },
  {
   "cell_type": "markdown",
   "metadata": {},
   "source": [
    "Данный вывод показывает вероятность дефолта для первых десяти клиентов из тестовый выборки. Но нам нужно четко решить к какому классу относиться клиент: к 0 (хороший) или 1 (плохой). Для этого используется **порог** (threshold), давайте для начала зададим его равным 0.5. Это означает, что если вероятность дефолта больше 0.5, то мы будем считать клиента дефолтным. Теперь можно определить предсказанные классы, сравнить их с реальными и посмотреть  - в скольки случаях модель определила класс правильно."
   ]
  },
  {
   "cell_type": "code",
   "execution_count": 5,
   "metadata": {
    "collapsed": false
   },
   "outputs": [
    {
     "data": {
      "text/plain": [
       "0.73666666666666669"
      ]
     },
     "execution_count": 5,
     "metadata": {},
     "output_type": "execute_result"
    }
   ],
   "source": [
    "y_pred = model.predict_proba(X_test)[:,1]\n",
    "y_threshold = y_pred > 0.5\n",
    "np.mean(y_threshold == y_test)"
   ]
  },
  {
   "cell_type": "markdown",
   "metadata": {},
   "source": [
    "Это и есть показатель **accuracy** или доля правильных ответов. Хорош ли этот показатель? Давайте разбираться дальше. Построим матрицу ошибок. Я сделаю для этого довольно громоздкую функцию, но она поможет лучше понять матрицу."
   ]
  },
  {
   "cell_type": "code",
   "execution_count": 6,
   "metadata": {
    "collapsed": false
   },
   "outputs": [],
   "source": [
    "def error_matrix(y_act,y_pred,layout='df'):\n",
    "    \"\"\"Возвращает матрицу ошибок в одном из форматов\"\"\"\n",
    "    df = pd.DataFrame({'pred':y_pred,'true':y_act})\n",
    "    TP = len(df[(df['pred']==1)&(df['true']==1)])\n",
    "    FN = len(df[(df['pred']==0)&(df['true']==1)])\n",
    "    FP = len(df[(df['pred']==1)&(df['true']==0)])\n",
    "    TN = len(df[(df['pred']==0)&(df['true']==0)])\n",
    "    \n",
    "    if layout == 'df':\n",
    "        return pd.DataFrame([[TP,FP],\n",
    "                        [FN,TN]],\n",
    "                       index=['Предсказанный положительный',\n",
    "                              'Предсказанный отрицательный'],\n",
    "                       columns=['Реально положительный',\n",
    "                                'Реально отрицательный'])\n",
    "    elif layout == 'dict':\n",
    "        return dict(zip(['TP','FP','FN','TN'],[TP, FP, FN, TN]))\n",
    "    else:\n",
    "        raise ValueError('Incorrect layout format.')"
   ]
  },
  {
   "cell_type": "code",
   "execution_count": 7,
   "metadata": {
    "collapsed": false,
    "scrolled": true
   },
   "outputs": [
    {
     "data": {
      "text/html": [
       "<div>\n",
       "<table border=\"1\" class=\"dataframe\">\n",
       "  <thead>\n",
       "    <tr style=\"text-align: right;\">\n",
       "      <th></th>\n",
       "      <th>Реально положительный</th>\n",
       "      <th>Реально отрицательный</th>\n",
       "    </tr>\n",
       "  </thead>\n",
       "  <tbody>\n",
       "    <tr>\n",
       "      <th>Предсказанный положительный</th>\n",
       "      <td>40</td>\n",
       "      <td>33</td>\n",
       "    </tr>\n",
       "    <tr>\n",
       "      <th>Предсказанный отрицательный</th>\n",
       "      <td>46</td>\n",
       "      <td>181</td>\n",
       "    </tr>\n",
       "  </tbody>\n",
       "</table>\n",
       "</div>"
      ],
      "text/plain": [
       "                             Реально положительный  Реально отрицательный\n",
       "Предсказанный положительный                     40                     33\n",
       "Предсказанный отрицательный                     46                    181"
      ]
     },
     "execution_count": 7,
     "metadata": {},
     "output_type": "execute_result"
    }
   ],
   "source": [
    "matrix = error_matrix(y_test,y_threshold)\n",
    "matrix"
   ]
  },
  {
   "cell_type": "markdown",
   "metadata": {},
   "source": [
    "Чтобы было легче понимать эту матрицу, я выведу вспомогательныу таблицу."
   ]
  },
  {
   "cell_type": "code",
   "execution_count": 8,
   "metadata": {
    "collapsed": false
   },
   "outputs": [
    {
     "data": {
      "text/html": [
       "<div>\n",
       "<table border=\"1\" class=\"dataframe\">\n",
       "  <thead>\n",
       "    <tr style=\"text-align: right;\">\n",
       "      <th></th>\n",
       "      <th>Реально положительный</th>\n",
       "      <th>Реально отрицательный</th>\n",
       "    </tr>\n",
       "  </thead>\n",
       "  <tbody>\n",
       "    <tr>\n",
       "      <th>Предсказанный положительный</th>\n",
       "      <td>[True positive (ТP), Положительное срабатывание]</td>\n",
       "      <td>[False positive (FP), Ложное срабатыватение, Ошибка II]</td>\n",
       "    </tr>\n",
       "    <tr>\n",
       "      <th>Предсказанный отрицательный</th>\n",
       "      <td>[False negative (FN), Ложный пропуск, Ошибка I]</td>\n",
       "      <td>[True negative (TN), Верный пропуск]</td>\n",
       "    </tr>\n",
       "  </tbody>\n",
       "</table>\n",
       "</div>"
      ],
      "text/plain": [
       "                                                        Реально положительный  \\\n",
       "Предсказанный положительный  [True positive (ТP), Положительное срабатывание]   \n",
       "Предсказанный отрицательный   [False negative (FN), Ложный пропуск, Ошибка I]   \n",
       "\n",
       "                                                               Реально отрицательный  \n",
       "Предсказанный положительный  [False positive (FP), Ложное срабатыватение, Ошибка II]  \n",
       "Предсказанный отрицательный                     [True negative (TN), Верный пропуск]  "
      ]
     },
     "execution_count": 8,
     "metadata": {},
     "output_type": "execute_result"
    }
   ],
   "source": [
    "pd.options.display.max_colwidth = 100\n",
    "help_table = pd.DataFrame([[['True positive (ТP)','Положительное срабатывание'],\n",
    "                            ['False positive (FP)','Ложное срабатыватение','Ошибка II']],\n",
    "                           [['False negative (FN)','Ложный пропуск','Ошибка I'],\n",
    "                            ['True negative (TN)','Верный пропуск']]],\n",
    "                          index=['Предсказанный положительный',\n",
    "                                 'Предсказанный отрицательный'],\n",
    "                          columns=['Реально положительный',\n",
    "                                   'Реально отрицательный'])\n",
    "help_table"
   ]
  },
  {
   "cell_type": "markdown",
   "metadata": {},
   "source": [
    "Всего четыре типа ситуации:\n",
    "- классификатор правильно определил объект объект класса 1. Это **верное срабатывание** или True Positive. В нашем случае 40 положительных срабатываний;\n",
    "- классификатор присвоил объекту класса 1 класс 0, он пропустил положительный класс. Это называется **ложным пропуском**, False negative или ошибкой первого рода. В нашем случае это 46;\n",
    "- классификатор определяет нулевой (или отрицательные объект) как положительный, т.е. срабатывает в случае когда этого делать не надо. Это **ложное срабатывание**, ошибка второго рода или False positive. В нашем случае получилось 34;\n",
    "- классификатор верно определят нулевой класс объекта. Это **верный пропуск** или True Negative. И у нас это 181.\n",
    "\n",
    "Давайте проанализируем. Сразу видно, что из всех положительных объектов предсказанных классификатором (40+33) только 40 действительно являются положительными. Можно рассчитать долю этих объектов: 40/(40+33) = 0.55. Этот показатель называется **точность** или precision и рассчитывается следующим образом.\n",
    "\n",
    "$$ precision = \\frac{TP}{TP+FP}$$\n",
    "\n",
    "Сделаем краткую вспомогательную табличку, выведем матрицу ошибок в виде словаря и рассчитаем precision по-человечески."
   ]
  },
  {
   "cell_type": "code",
   "execution_count": 9,
   "metadata": {
    "collapsed": false
   },
   "outputs": [
    {
     "data": {
      "text/html": [
       "<div>\n",
       "<table border=\"1\" class=\"dataframe\">\n",
       "  <thead>\n",
       "    <tr style=\"text-align: right;\">\n",
       "      <th></th>\n",
       "      <th>1</th>\n",
       "      <th>0</th>\n",
       "    </tr>\n",
       "  </thead>\n",
       "  <tbody>\n",
       "    <tr>\n",
       "      <th>1</th>\n",
       "      <td>TP</td>\n",
       "      <td>FP</td>\n",
       "    </tr>\n",
       "    <tr>\n",
       "      <th>0</th>\n",
       "      <td>FN</td>\n",
       "      <td>TN</td>\n",
       "    </tr>\n",
       "  </tbody>\n",
       "</table>\n",
       "</div>"
      ],
      "text/plain": [
       "    1   0\n",
       "1  TP  FP\n",
       "0  FN  TN"
      ]
     },
     "execution_count": 9,
     "metadata": {},
     "output_type": "execute_result"
    }
   ],
   "source": [
    "help_table2 = pd.DataFrame([['TP','FP'],['FN','TN']],\n",
    "                           index=['1','0'],columns=['1','0'],)\n",
    "help_table2"
   ]
  },
  {
   "cell_type": "markdown",
   "metadata": {},
   "source": [
    "Для удобства назовем словарь с ошибками просто d."
   ]
  },
  {
   "cell_type": "code",
   "execution_count": 10,
   "metadata": {
    "collapsed": false
   },
   "outputs": [
    {
     "data": {
      "text/plain": [
       "{'FN': 46, 'FP': 33, 'TN': 181, 'TP': 40}"
      ]
     },
     "execution_count": 10,
     "metadata": {},
     "output_type": "execute_result"
    }
   ],
   "source": [
    "d = error_matrix(y_test,y_threshold,'dict')\n",
    "d"
   ]
  },
  {
   "cell_type": "code",
   "execution_count": 11,
   "metadata": {
    "collapsed": false
   },
   "outputs": [
    {
     "data": {
      "text/plain": [
       "0.547945205479452"
      ]
     },
     "execution_count": 11,
     "metadata": {},
     "output_type": "execute_result"
    }
   ],
   "source": [
    "precision = d['TP']/(d['TP']+d['FP'])\n",
    "precision"
   ]
  },
  {
   "cell_type": "markdown",
   "metadata": {},
   "source": [
    "Давайте снова взглянем на нашу матрицу ошибок."
   ]
  },
  {
   "cell_type": "code",
   "execution_count": 12,
   "metadata": {
    "collapsed": false
   },
   "outputs": [
    {
     "data": {
      "text/html": [
       "<div>\n",
       "<table border=\"1\" class=\"dataframe\">\n",
       "  <thead>\n",
       "    <tr style=\"text-align: right;\">\n",
       "      <th></th>\n",
       "      <th>Реально положительный</th>\n",
       "      <th>Реально отрицательный</th>\n",
       "    </tr>\n",
       "  </thead>\n",
       "  <tbody>\n",
       "    <tr>\n",
       "      <th>Предсказанный положительный</th>\n",
       "      <td>40</td>\n",
       "      <td>33</td>\n",
       "    </tr>\n",
       "    <tr>\n",
       "      <th>Предсказанный отрицательный</th>\n",
       "      <td>46</td>\n",
       "      <td>181</td>\n",
       "    </tr>\n",
       "  </tbody>\n",
       "</table>\n",
       "</div>"
      ],
      "text/plain": [
       "                             Реально положительный  Реально отрицательный\n",
       "Предсказанный положительный                     40                     33\n",
       "Предсказанный отрицательный                     46                    181"
      ]
     },
     "execution_count": 12,
     "metadata": {},
     "output_type": "execute_result"
    }
   ],
   "source": [
    "matrix"
   ]
  },
  {
   "cell_type": "markdown",
   "metadata": {},
   "source": [
    "Из всех реально положительных объектов (40+46) классификатор определил 40. Рассчитаем долю: 40/(40+46)=0.47. Этот показатель называется **полнота** или recall. Полнота показывает какое количество положительных объектов выделяет классификатор:\n",
    "\n",
    "$$recall = \\frac{TP}{TP+FN}$$"
   ]
  },
  {
   "cell_type": "code",
   "execution_count": 13,
   "metadata": {
    "collapsed": false
   },
   "outputs": [
    {
     "data": {
      "text/plain": [
       "0.46511627906976744"
      ]
     },
     "execution_count": 13,
     "metadata": {},
     "output_type": "execute_result"
    }
   ],
   "source": [
    "recall =  d['TP']/(d['TP']+d['FN'])\n",
    "recall"
   ]
  },
  {
   "cell_type": "markdown",
   "metadata": {},
   "source": [
    "Что же получилось? При достаточно высокой доле правильных ответов (0.74), наш классификатор имеет точность 0.55 и полноту 0.47."
   ]
  },
  {
   "cell_type": "markdown",
   "metadata": {},
   "source": [
    "Давайте представим, что дав кредит хорошему клиенты мы зарабоетаем 0.2, а выдав плохому теряем 1. Какую прибыль принесла бы наша модель, если средний чек кредита равен например 100 000 руб. Снова выведем матрицу ошибок."
   ]
  },
  {
   "cell_type": "code",
   "execution_count": 14,
   "metadata": {
    "collapsed": false
   },
   "outputs": [
    {
     "data": {
      "text/html": [
       "<div>\n",
       "<table border=\"1\" class=\"dataframe\">\n",
       "  <thead>\n",
       "    <tr style=\"text-align: right;\">\n",
       "      <th></th>\n",
       "      <th>Реально положительный</th>\n",
       "      <th>Реально отрицательный</th>\n",
       "    </tr>\n",
       "  </thead>\n",
       "  <tbody>\n",
       "    <tr>\n",
       "      <th>Предсказанный положительный</th>\n",
       "      <td>40</td>\n",
       "      <td>33</td>\n",
       "    </tr>\n",
       "    <tr>\n",
       "      <th>Предсказанный отрицательный</th>\n",
       "      <td>46</td>\n",
       "      <td>181</td>\n",
       "    </tr>\n",
       "  </tbody>\n",
       "</table>\n",
       "</div>"
      ],
      "text/plain": [
       "                             Реально положительный  Реально отрицательный\n",
       "Предсказанный положительный                     40                     33\n",
       "Предсказанный отрицательный                     46                    181"
      ]
     },
     "execution_count": 14,
     "metadata": {},
     "output_type": "execute_result"
    }
   ],
   "source": [
    "matrix"
   ]
  },
  {
   "cell_type": "markdown",
   "metadata": {},
   "source": [
    "Получатся, что мы заработем:"
   ]
  },
  {
   "cell_type": "code",
   "execution_count": 15,
   "metadata": {
    "collapsed": false
   },
   "outputs": [
    {
     "data": {
      "text/plain": [
       "-979999.9999999998"
      ]
     },
     "execution_count": 15,
     "metadata": {},
     "output_type": "execute_result"
    }
   ],
   "source": [
    "(181*0.2 - 46*1) * 100000"
   ]
  },
  {
   "cell_type": "markdown",
   "metadata": {},
   "source": [
    "Нда, не очень. Т.е мы дали кредит 180 хорошему клиенту и 46 плохим. Давайте подумаем можно ли как-то улучшить классификатор не меняя саму модель? Да - можно изменить порог. в данном случае выдача кредита плохому клиенту обходиться гораздо дороже, чем пропуск хорошего - значит порог нужно понижать (или повышать полноту классификатора). Давойте следаем это и установим порог равный 0.4."
   ]
  },
  {
   "cell_type": "code",
   "execution_count": 16,
   "metadata": {
    "collapsed": false
   },
   "outputs": [
    {
     "data": {
      "text/plain": [
       "0.7533333333333333"
      ]
     },
     "execution_count": 16,
     "metadata": {},
     "output_type": "execute_result"
    }
   ],
   "source": [
    "y_threshold = y_pred > 0.4\n",
    "np.mean(y_threshold == y_test)"
   ]
  },
  {
   "cell_type": "markdown",
   "metadata": {},
   "source": [
    "Ого! Доля правильных ответов возросла! Давайте взглянем на матрицу ошибок, точность и полноту."
   ]
  },
  {
   "cell_type": "code",
   "execution_count": 17,
   "metadata": {
    "collapsed": false
   },
   "outputs": [
    {
     "data": {
      "text/html": [
       "<div>\n",
       "<table border=\"1\" class=\"dataframe\">\n",
       "  <thead>\n",
       "    <tr style=\"text-align: right;\">\n",
       "      <th></th>\n",
       "      <th>Реально положительный</th>\n",
       "      <th>Реально отрицательный</th>\n",
       "    </tr>\n",
       "  </thead>\n",
       "  <tbody>\n",
       "    <tr>\n",
       "      <th>Предсказанный положительный</th>\n",
       "      <td>56</td>\n",
       "      <td>44</td>\n",
       "    </tr>\n",
       "    <tr>\n",
       "      <th>Предсказанный отрицательный</th>\n",
       "      <td>30</td>\n",
       "      <td>170</td>\n",
       "    </tr>\n",
       "  </tbody>\n",
       "</table>\n",
       "</div>"
      ],
      "text/plain": [
       "                             Реально положительный  Реально отрицательный\n",
       "Предсказанный положительный                     56                     44\n",
       "Предсказанный отрицательный                     30                    170"
      ]
     },
     "execution_count": 17,
     "metadata": {},
     "output_type": "execute_result"
    }
   ],
   "source": [
    "error_matrix(y_test,y_threshold)"
   ]
  },
  {
   "cell_type": "code",
   "execution_count": 18,
   "metadata": {
    "collapsed": false
   },
   "outputs": [
    {
     "name": "stdout",
     "output_type": "stream",
     "text": [
      "0.56\n",
      "0.651162790698\n"
     ]
    }
   ],
   "source": [
    "d = error_matrix(y_test,y_threshold,'dict')\n",
    "print d['TP']/(d['TP']+d['FP'])\n",
    "print d['TP']/(d['TP']+d['FN'])"
   ]
  },
  {
   "cell_type": "markdown",
   "metadata": {},
   "source": [
    "Точность и полнота повысились. Что произошло с прибылью?"
   ]
  },
  {
   "cell_type": "code",
   "execution_count": 19,
   "metadata": {
    "collapsed": false
   },
   "outputs": [
    {
     "data": {
      "text/plain": [
       "400000.0"
      ]
     },
     "execution_count": 19,
     "metadata": {},
     "output_type": "execute_result"
    }
   ],
   "source": [
    "(170*0.2 - 30*1) * 100000"
   ]
  },
  {
   "cell_type": "markdown",
   "metadata": {},
   "source": [
    "Уже гораздо лучше! Кстати, есть метрика, которая объединяет точность и полноту. Рассчитывается она как гармоническое среднее между точностью и полнотой и называется **F-мера**:\n",
    "\n",
    "$$F = 2*\\frac{precision*recall}{precision+recall} $$"
   ]
  },
  {
   "cell_type": "markdown",
   "metadata": {},
   "source": [
    "Чтобы не вычислять эти и дальше эти параметры вручную воспользуемся функцией classification_report из sklearn."
   ]
  },
  {
   "cell_type": "code",
   "execution_count": 20,
   "metadata": {
    "collapsed": true
   },
   "outputs": [],
   "source": [
    "from sklearn.metrics import classification_report"
   ]
  },
  {
   "cell_type": "code",
   "execution_count": 21,
   "metadata": {
    "collapsed": false
   },
   "outputs": [
    {
     "name": "stdout",
     "output_type": "stream",
     "text": [
      "             precision    recall  f1-score   support\n",
      "\n",
      "        0.0       0.85      0.79      0.82       214\n",
      "        1.0       0.56      0.65      0.60        86\n",
      "\n",
      "avg / total       0.77      0.75      0.76       300\n",
      "\n"
     ]
    }
   ],
   "source": [
    "print classification_report(y_test,y_threshold)"
   ]
  },
  {
   "cell_type": "markdown",
   "metadata": {},
   "source": [
    "В тотале здесь выводятся взвешенные показателя для обоих классов. Давайте еще понизим порог. "
   ]
  },
  {
   "cell_type": "code",
   "execution_count": 22,
   "metadata": {
    "collapsed": false
   },
   "outputs": [
    {
     "name": "stdout",
     "output_type": "stream",
     "text": [
      "accuracy =  0.69\n",
      "             precision    recall  f1-score   support\n",
      "\n",
      "        0.0       0.85      0.69      0.76       214\n",
      "        1.0       0.47      0.70      0.56        86\n",
      "\n",
      "avg / total       0.74      0.69      0.70       300\n",
      "\n",
      "                             Реально положительный  Реально отрицательный\n",
      "Предсказанный положительный                     60                     67\n",
      "Предсказанный отрицательный                     26                    147\n"
     ]
    }
   ],
   "source": [
    "y_threshold = y_pred > 0.3\n",
    "print 'accuracy = ', np.mean(y_threshold == y_test)\n",
    "print classification_report(y_test,y_threshold)\n",
    "print error_matrix(y_test,y_threshold)"
   ]
  },
  {
   "cell_type": "code",
   "execution_count": 23,
   "metadata": {
    "collapsed": false
   },
   "outputs": [
    {
     "data": {
      "text/plain": [
       "340000.00000000023"
      ]
     },
     "execution_count": 23,
     "metadata": {},
     "output_type": "execute_result"
    }
   ],
   "source": [
    "(147*0.2 - 26*1) * 100000"
   ]
  },
  {
   "cell_type": "markdown",
   "metadata": {},
   "source": [
    "Предыдущий порог давал больше денег. Таким образом меняя порог мы можем изметь соотношение между точность и полнотой и максимизировать прибль. А что есть взять все возможные пороги, рассчитать для них точность и полноту и построть график?"
   ]
  },
  {
   "cell_type": "code",
   "execution_count": 24,
   "metadata": {
    "collapsed": false
   },
   "outputs": [
    {
     "data": {
      "text/plain": [
       "[<matplotlib.lines.Line2D at 0x109456d50>]"
      ]
     },
     "execution_count": 24,
     "metadata": {},
     "output_type": "execute_result"
    },
    {
     "data": {
      "image/png": "[encoded data removed]",
      "text/plain": [
       "<matplotlib.figure.Figure at 0x107f1f690>"
      ]
     },
     "metadata": {},
     "output_type": "display_data"
    }
   ],
   "source": [
    "from sklearn.metrics import precision_recall_curve\n",
    "import matplotlib.pyplot as plt\n",
    "%matplotlib inline\n",
    "precision, recall, _ = precision_recall_curve(y_test, y_pred)\n",
    "plt.plot(precision,recall)"
   ]
  },
  {
   "cell_type": "markdown",
   "metadata": {},
   "source": [
    "Существует метрика, которая позволять оценить модель в целом (для каждого порога). Она называется площадь под кривой точность-полнота или precision-recall auc."
   ]
  },
  {
   "cell_type": "code",
   "execution_count": 25,
   "metadata": {
    "collapsed": false
   },
   "outputs": [
    {
     "data": {
      "text/plain": [
       "0.56404304967723984"
      ]
     },
     "execution_count": 25,
     "metadata": {},
     "output_type": "execute_result"
    }
   ],
   "source": [
    "from sklearn.metrics import average_precision_score\n",
    "average_precision_score(y_test, y_pred)"
   ]
  },
  {
   "cell_type": "markdown",
   "metadata": {},
   "source": [
    "Чем ближе этот показатель к 1, тем лучше, т.е. сравнивая несколько моделей мы должны выбрать ту, у которой этот показатель выше. И кстати говоря в нашем случае - классы сильно несбалансированы - precision-recall кривая как раз самый подходящий индикатор для оценки качества модели.\n",
    "\n",
    "Существует еще одна метрика качества, котрая называется roc_auc, т.е площать под кривой Receiver Operating Characteristic. Эта кривая строиться в двух измерениях: \n",
    "- доля неверно принятых объектов (False Positive Rate, FPR);\n",
    "$$FPR= \\frac{FP}{FP+TN} $$ \n",
    "- доля верно принятых объектов (True Positive Rate, TPR):\n",
    "$$TPR= \\frac{TP}{TP+FN}$$\n",
    "\n",
    "Эти две доли тоже рассчитываются для каждого возможного порога."
   ]
  },
  {
   "cell_type": "code",
   "execution_count": 26,
   "metadata": {
    "collapsed": false
   },
   "outputs": [
    {
     "data": {
      "text/plain": [
       "[<matplotlib.lines.Line2D at 0x10959cb90>]"
      ]
     },
     "execution_count": 26,
     "metadata": {},
     "output_type": "execute_result"
    },
    {
     "data": {
      "image/png": "[encoded data removed]",
      "text/plain": [
       "<matplotlib.figure.Figure at 0x109486050>"
      ]
     },
     "metadata": {},
     "output_type": "display_data"
    }
   ],
   "source": [
    "from sklearn.metrics import roc_curve\n",
    "fpr, tpr, _ = roc_curve(y_test,y_pred)\n",
    "plt.plot(fpr,tpr)"
   ]
  },
  {
   "cell_type": "markdown",
   "metadata": {},
   "source": [
    "Теперь рассчитаем и площадь под этой кривой:"
   ]
  },
  {
   "cell_type": "code",
   "execution_count": 27,
   "metadata": {
    "collapsed": false
   },
   "outputs": [
    {
     "data": {
      "text/plain": [
       "0.75228211258422073"
      ]
     },
     "execution_count": 27,
     "metadata": {},
     "output_type": "execute_result"
    }
   ],
   "source": [
    "from sklearn.metrics import auc\n",
    "auc(fpr,tpr)"
   ]
  },
  {
   "cell_type": "markdown",
   "metadata": {},
   "source": [
    "Здесь тоже самое - чем ближе этот показатель к 1, тем лучше."
   ]
  },
  {
   "cell_type": "markdown",
   "metadata": {},
   "source": [
    "На сегодня пока все! До новыйх встреч!)"
   ]
  }
 ],
 "metadata": {
  "kernelspec": {
   "display_name": "Python 2",
   "language": "python",
   "name": "python2"
  },
  "language_info": {
   "codemirror_mode": {
    "name": "ipython",
    "version": 2
   },
   "file_extension": ".py",
   "mimetype": "text/x-python",
   "name": "python",
   "nbconvert_exporter": "python",
   "pygments_lexer": "ipython2",
   "version": "2.7.11"
  }
 },
 "nbformat": 4,
 "nbformat_minor": 0
}
