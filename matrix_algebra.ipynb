{
 "cells": [
  {
   "cell_type": "markdown",
   "metadata": {},
   "source": [
    "#Матричная алгебра\n",
    "Очень понравился маленький урок по матричной алгебре из курса <a href=\"https://www.coursera.org/course/stats1\">Statistics One</a> от Coursera. Вот <a href=\"https://github.com/boboppie/coursera-course-statistics_one/blob/master/week3/notes/lecture_slides-Stats1.08B.pdf\">ссылка</a> на слайды самого урока. Упражнение, которое я хочу повторить начинается на 19-ом слайде. Смыл упражнения заключается в том, чтобы путем различных действий над исходной матрицей получить матрицу корреляций.Я буду использовать объект matrix из numpy."
   ]
  },
  {
   "cell_type": "code",
   "execution_count": 8,
   "metadata": {
    "collapsed": true
   },
   "outputs": [],
   "source": [
    "import numpy as np"
   ]
  },
  {
   "cell_type": "markdown",
   "metadata": {},
   "source": [
    "Создадим матрицу как в уроке."
   ]
  },
  {
   "cell_type": "code",
   "execution_count": 9,
   "metadata": {
    "collapsed": false
   },
   "outputs": [],
   "source": [
    "x_np = np.matrix([[3, 2, 3],\n",
    "                   [3, 2, 3],\n",
    "                   [2, 4, 4],\n",
    "                   [4, 3, 4],\n",
    "                   [4, 4, 3],\n",
    "                   [5, 4, 3],\n",
    "                   [2, 5, 4],\n",
    "                   [3, 3, 2],\n",
    "                   [5, 3, 4],\n",
    "                   [3, 5, 4]])"
   ]
  },
  {
   "cell_type": "markdown",
   "metadata": {},
   "source": [
    "Узнаем форму матрицы. Она понадобиться нам для создания вектором соразмерных исходной матрице."
   ]
  },
  {
   "cell_type": "code",
   "execution_count": 10,
   "metadata": {
    "collapsed": false
   },
   "outputs": [
    {
     "data": {
      "text/plain": [
       "(10, 3)"
      ]
     },
     "execution_count": 10,
     "metadata": {},
     "output_type": "execute_result"
    }
   ],
   "source": [
    "x_np.shape"
   ]
  },
  {
   "cell_type": "markdown",
   "metadata": {},
   "source": [
    "Можно сказать, что у нас есть 3 переменные и десять записей о каждой из них. Корреляцию этих трех переменных я и буду выводить. Для начала получим вектор из единиц равный длине исходной матрицы."
   ]
  },
  {
   "cell_type": "code",
   "execution_count": 13,
   "metadata": {
    "collapsed": false
   },
   "outputs": [
    {
     "data": {
      "text/plain": [
       "matrix([[1, 1, 1, 1, 1, 1, 1, 1, 1, 1]])"
      ]
     },
     "execution_count": 13,
     "metadata": {},
     "output_type": "execute_result"
    }
   ],
   "source": [
    "n1 = np.matrix([1]*x_np.shape[0])\n",
    "n1"
   ]
  },
  {
   "cell_type": "markdown",
   "metadata": {},
   "source": [
    "Теперь умножим этот вектор на исходную матрицу и почим вектор состоящий из сумм по каждой переменной."
   ]
  },
  {
   "cell_type": "code",
   "execution_count": 15,
   "metadata": {
    "collapsed": false
   },
   "outputs": [
    {
     "data": {
      "text/plain": [
       "matrix([[34, 35, 34]])"
      ]
     },
     "execution_count": 15,
     "metadata": {},
     "output_type": "execute_result"
    }
   ],
   "source": [
    "t_1p = n1 * x_np\n",
    "t_1p"
   ]
  },
  {
   "cell_type": "markdown",
   "metadata": {},
   "source": [
    "Следующим дейсвием получим вектор из средних значений по каждой переменной. Для этого умножим вектор сумм на длину матрицу в -1-ой степени."
   ]
  },
  {
   "cell_type": "code",
   "execution_count": 16,
   "metadata": {
    "collapsed": false
   },
   "outputs": [
    {
     "data": {
      "text/plain": [
       "matrix([[ 3.4,  3.5,  3.4]])"
      ]
     },
     "execution_count": 16,
     "metadata": {},
     "output_type": "execute_result"
    }
   ],
   "source": [
    "m_1p = t_1p * matrix.shape[0]**-1\n",
    "m_1p"
   ]
  },
  {
   "cell_type": "markdown",
   "metadata": {},
   "source": [
    "Теперь умножим вектор средних на вертикальную матрицу из единиц (по длине исходной) и получим матрицу из средних, которая по форме будет соответствовать исходной матрице."
   ]
  },
  {
   "cell_type": "code",
   "execution_count": 18,
   "metadata": {
    "collapsed": false
   },
   "outputs": [
    {
     "data": {
      "text/plain": [
       "matrix([[ 3.4,  3.5,  3.4],\n",
       "        [ 3.4,  3.5,  3.4],\n",
       "        [ 3.4,  3.5,  3.4],\n",
       "        [ 3.4,  3.5,  3.4],\n",
       "        [ 3.4,  3.5,  3.4],\n",
       "        [ 3.4,  3.5,  3.4],\n",
       "        [ 3.4,  3.5,  3.4],\n",
       "        [ 3.4,  3.5,  3.4],\n",
       "        [ 3.4,  3.5,  3.4],\n",
       "        [ 3.4,  3.5,  3.4]])"
      ]
     },
     "execution_count": 18,
     "metadata": {},
     "output_type": "execute_result"
    }
   ],
   "source": [
    "m_np = r1.T * m_1p\n",
    "m_np"
   ]
  },
  {
   "cell_type": "markdown",
   "metadata": {},
   "source": [
    "Вычтем матрицу средних из исходной матрицы и получим матрицу отклонения от средних."
   ]
  },
  {
   "cell_type": "code",
   "execution_count": 21,
   "metadata": {
    "collapsed": false
   },
   "outputs": [
    {
     "data": {
      "text/plain": [
       "matrix([[-0.4, -1.5, -0.4],\n",
       "        [-0.4, -1.5, -0.4],\n",
       "        [-1.4,  0.5,  0.6],\n",
       "        [ 0.6, -0.5,  0.6],\n",
       "        [ 0.6,  0.5, -0.4],\n",
       "        [ 1.6,  0.5, -0.4],\n",
       "        [-1.4,  1.5,  0.6],\n",
       "        [-0.4, -0.5, -1.4],\n",
       "        [ 1.6, -0.5,  0.6],\n",
       "        [-0.4,  1.5,  0.6]])"
      ]
     },
     "execution_count": 21,
     "metadata": {},
     "output_type": "execute_result"
    }
   ],
   "source": [
    "d_np = x_np - m_np\n",
    "d_np"
   ]
  },
  {
   "cell_type": "markdown",
   "metadata": {},
   "source": [
    "Умножим транспонированную матрицу отклонений на саму матрицу отклонений и получим по диагонали квадраты отклонений самих перемнных и квадраты разницу отклонений между всеми переменными в остальных частях матрицы. Например элемент (1,2) показывает квадрат разницу отклонений от средних первой и второй переменной."
   ]
  },
  {
   "cell_type": "code",
   "execution_count": 24,
   "metadata": {
    "collapsed": false
   },
   "outputs": [
    {
     "data": {
      "text/plain": [
       "matrix([[ 10.4,  -2. ,  -0.6],\n",
       "        [ -2. ,  10.5,   3. ],\n",
       "        [ -0.6,   3. ,   4.4]])"
      ]
     },
     "execution_count": 24,
     "metadata": {},
     "output_type": "execute_result"
    }
   ],
   "source": [
    "s_xx = d_np.T * d_np\n",
    "s_xx"
   ]
  },
  {
   "cell_type": "markdown",
   "metadata": {},
   "source": [
    "Далее можно получить матрицу диспесрий и ковариации. Для этого умножим матрицу полученныю в предыдущем действии на а длину исходной матрицу в -1-ой степени, т.е. просто разделим на кол-во элементов в каждой переменной."
   ]
  },
  {
   "cell_type": "code",
   "execution_count": 26,
   "metadata": {
    "collapsed": false
   },
   "outputs": [
    {
     "data": {
      "text/plain": [
       "matrix([[ 1.04, -0.2 , -0.06],\n",
       "        [-0.2 ,  1.05,  0.3 ],\n",
       "        [-0.06,  0.3 ,  0.44]])"
      ]
     },
     "execution_count": 26,
     "metadata": {},
     "output_type": "execute_result"
    }
   ],
   "source": [
    "c_xx = s_xx * matrix.shape[0]**-1\n",
    "c_xx"
   ]
  },
  {
   "cell_type": "markdown",
   "metadata": {},
   "source": [
    "И снова по диагонале расположились дисперсии для каждой переменной, а в остальных элементах матрицу ковариации для каждой пары переменных. Обратите внимание, что элементы над и под диаганалью абсолютно одинаковые, это и очевидно - ковариция между, например 1 и 2 переменной и 2 и 1 должны быть равны."
   ]
  },
  {
   "cell_type": "markdown",
   "metadata": {},
   "source": [
    "Теперь получим диагональную матрицу стандартных отклонений по нашим трем переменным. Сначала рассчитаем сами стандартные отклонений. Для это возмем дисперсию каждой переменной (диагональ предыдущей матрицы) и извлечем из нее квадратный корень."
   ]
  },
  {
   "cell_type": "code",
   "execution_count": 39,
   "metadata": {
    "collapsed": false
   },
   "outputs": [
    {
     "data": {
      "text/plain": [
       "matrix([[ 1.0198039 ,  1.02469508,  0.66332496]])"
      ]
     },
     "execution_count": 39,
     "metadata": {},
     "output_type": "execute_result"
    }
   ],
   "source": [
    "stds = np.sqrt(c_xx.diagonal())\n",
    "stds"
   ]
  },
  {
   "cell_type": "markdown",
   "metadata": {},
   "source": [
    "Теперь создадим квадратную матрицу из нулей по количеству перемнных в исходной матрице и вставим в нее стандартные отклонения."
   ]
  },
  {
   "cell_type": "code",
   "execution_count": 43,
   "metadata": {
    "collapsed": false
   },
   "outputs": [
    {
     "data": {
      "text/plain": [
       "matrix([[ 1.0198039 ,  0.        ,  0.        ],\n",
       "        [ 0.        ,  1.02469508,  0.        ],\n",
       "        [ 0.        ,  0.        ,  0.66332496]])"
      ]
     },
     "execution_count": 43,
     "metadata": {},
     "output_type": "execute_result"
    }
   ],
   "source": [
    "s_xx = np.zeros((3,3),float)\n",
    "np.fill_diagonal(s_xx,stds)\n",
    "s_xx = np.matrix(s_xx)\n",
    "s_xx"
   ]
  },
  {
   "cell_type": "markdown",
   "metadata": {},
   "source": [
    "Осталось последнее действие - получить матрицу корреляций. Для этого инвертированную матрицу стандартных отклонений нажну умножить на матрицу дисперсий и ковариаций, а потом полученный результат еще раз на инвертированную матрицу стандартных отклонений. Это действие эквивалентно тому, что каждую коварицию делим сначала на стандартное отклонение одной переменной, а потом другой."
   ]
  },
  {
   "cell_type": "code",
   "execution_count": 48,
   "metadata": {
    "collapsed": false
   },
   "outputs": [
    {
     "data": {
      "text/plain": [
       "matrix([[ 1.        , -0.19138975, -0.08869686],\n",
       "        [-0.19138975,  1.        ,  0.44136741],\n",
       "        [-0.08869686,  0.44136741,  1.        ]])"
      ]
     },
     "execution_count": 48,
     "metadata": {},
     "output_type": "execute_result"
    }
   ],
   "source": [
    "r_xx = s_xx.I*c_xx*s_xx.I\n",
    "r_xx"
   ]
  },
  {
   "cell_type": "markdown",
   "metadata": {},
   "source": [
    "Вот и все. Предлагаю повторить этот эксперимент по памяти, чтобы лучше все понять."
   ]
  }
 ],
 "metadata": {
  "kernelspec": {
   "display_name": "Python 2",
   "language": "python",
   "name": "python2"
  },
  "language_info": {
   "codemirror_mode": {
    "name": "ipython",
    "version": 2
   },
   "file_extension": ".py",
   "mimetype": "text/x-python",
   "name": "python",
   "nbconvert_exporter": "python",
   "pygments_lexer": "ipython2",
   "version": "2.7.11"
  }
 },
 "nbformat": 4,
 "nbformat_minor": 0
}
