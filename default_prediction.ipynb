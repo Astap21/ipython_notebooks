{
 "cells": [
  {
   "cell_type": "markdown",
   "metadata": {},
   "source": [
    "#Кредитный дефолт (German Credit Data)"
   ]
  },
  {
   "cell_type": "markdown",
   "metadata": {},
   "source": [
    "German credit data - общедоступный дата-сет, в котором представлена некоторая информация о заемщиках, а так же информация о том, вышли они в дефолт или нет. Описание и данные доступны по [ссылке](https://archive.ics.uci.edu/ml/machine-learning-databases/statlog/german/). У меня уже имеется csv file, в котором прописаны названия столбцов. Цель данного исследования:\n",
    "* построить несколько моделей, которые будут предсказывать вероятность кредитного дефолта, и выбрать из них лучшую;\n",
    "* разработать форму отчета, которая будет характеризовать стабильность популяции. Т.е. показывать насколько текущий поток кредитных заявок (новых заявок) отличается от базового (того, на котором построена модель). Это необходимо для того, чтобы вовремя увидеть новые тренды и оттюнить модель.\n",
    "Анализировать данные я буду в [pandas](http://pandas.pydata.org/), а модели строить с помощью [scikit-learn](http://scikit-learn.org/stable/)."
   ]
  },
  {
   "cell_type": "markdown",
   "metadata": {},
   "source": [
    "Для начала загрузим дата-сет."
   ]
  },
  {
   "cell_type": "code",
   "execution_count": 1,
   "metadata": {
    "collapsed": false
   },
   "outputs": [
    {
     "data": {
      "text/plain": [
       "Index([u'Default', u'checkingstatus1', u'duration', u'history', u'purpose',\n",
       "       u'amount', u'savings', u'employ', u'installment', u'status', u'others',\n",
       "       u'residence', u'property', u'age', u'otherplans', u'housing', u'cards',\n",
       "       u'job', u'liable', u'tele', u'foreign'],\n",
       "      dtype='object')"
      ]
     },
     "execution_count": 1,
     "metadata": {},
     "output_type": "execute_result"
    }
   ],
   "source": [
    "import pandas as pd\n",
    "import numpy as np\n",
    "np.random.seed(1) # зафиксим рандом\n",
    "df = pd.read_csv('germancredit.csv')\n",
    "df.columns"
   ]
  },
  {
   "cell_type": "markdown",
   "metadata": {},
   "source": [
    "Проверим на наличие NA."
   ]
  },
  {
   "cell_type": "code",
   "execution_count": 2,
   "metadata": {
    "collapsed": false
   },
   "outputs": [
    {
     "data": {
      "text/plain": [
       "False"
      ]
     },
     "execution_count": 2,
     "metadata": {},
     "output_type": "execute_result"
    }
   ],
   "source": [
    "df.isnull().values.any()"
   ]
  },
  {
   "cell_type": "markdown",
   "metadata": {},
   "source": [
    "Какой хорший дата-сет, ни одной пропущенной переменной. К сожалению в жизни так не бывает)."
   ]
  },
  {
   "cell_type": "markdown",
   "metadata": {},
   "source": [
    "Теперь создадим **y** и **X** для тренировки моделей: **y** (кредитный дефолт) - то, что будем предсказывать, **X** (все остальные переменые) - по чему будем предсказывать. Из качественных переменных необходимо создать **dummy переменные**. Обратиче внимание, что для каждой переменной будет создано n-1 столбцов, где n - кол-во категорий в каждой переменной (действительно - если в каждой категории 0, то это значит, что строчка побадет в ту невошедшую категорию). Для этого будем использовать dmatrices из библиотеки [patsy](https://patsy.readthedocs.org/en/latest/)."
   ]
  },
  {
   "cell_type": "code",
   "execution_count": 3,
   "metadata": {
    "collapsed": false
   },
   "outputs": [
    {
     "data": {
      "text/plain": [
       "Default             int64\n",
       "checkingstatus1    object\n",
       "duration            int64\n",
       "history            object\n",
       "purpose            object\n",
       "amount              int64\n",
       "savings            object\n",
       "employ             object\n",
       "installment         int64\n",
       "status             object\n",
       "others             object\n",
       "residence           int64\n",
       "property           object\n",
       "age                 int64\n",
       "otherplans         object\n",
       "housing            object\n",
       "cards               int64\n",
       "job                object\n",
       "liable              int64\n",
       "tele               object\n",
       "foreign            object\n",
       "dtype: object"
      ]
     },
     "execution_count": 3,
     "metadata": {},
     "output_type": "execute_result"
    }
   ],
   "source": [
    "df.dtypes"
   ]
  },
  {
   "cell_type": "code",
   "execution_count": 4,
   "metadata": {
    "collapsed": false
   },
   "outputs": [],
   "source": [
    "from patsy import dmatrices\n",
    "from sklearn.cross_validation import train_test_split\n",
    "\n",
    "# сначала загоним в модели все переменные \n",
    "formula = ''\n",
    "for column in df.columns[1:]:\n",
    "    if df[column].dtype == 'int64':\n",
    "        formula += column + '+'\n",
    "    else:\n",
    "        # если переменная качественная, то по ситнаксису dmatrices\n",
    "        # добавляем C (от category)\n",
    "        formula += 'C(' + column + ')+'\n",
    "formula = df.columns[0] + '~' + formula[:-1]\n",
    "\n",
    "def test_train(formula, df):\n",
    "    y,X = dmatrices(formula,df, return_type=\"dataframe\")\n",
    "    y = pd.np.ravel(y) # перобразуем y в одномерный массив\n",
    "    X_train, X_test, y_train, y_test = train_test_split(X, y, test_size=0.3, random_state=0)\n",
    "    return y, X, X_train, X_test, y_train, y_test\n",
    "\n",
    "y, X, X_train, X_test, y_train, y_test = test_train(formula, df)"
   ]
  },
  {
   "cell_type": "markdown",
   "metadata": {},
   "source": [
    "Создадим список с моделями, которые будем тестировать и потренируем их."
   ]
  },
  {
   "cell_type": "code",
   "execution_count": 5,
   "metadata": {
    "collapsed": true
   },
   "outputs": [],
   "source": [
    "from sklearn.linear_model import LogisticRegression\n",
    "from sklearn.ensemble import RandomForestClassifier\n",
    "models = []\n",
    "models.append(LogisticRegression())\n",
    "models.append(RandomForestClassifier(n_estimators=100, criterion='entropy'))\n",
    "for model in models:\n",
    "    model.fit(X_train, y_train)"
   ]
  },
  {
   "cell_type": "markdown",
   "metadata": {},
   "source": [
    "Далее выведем [кривые-ошибок](https://ru.wikipedia.org/wiki/ROC-кривая)."
   ]
  },
  {
   "cell_type": "code",
   "execution_count": 6,
   "metadata": {
    "collapsed": true
   },
   "outputs": [],
   "source": [
    "from sklearn.metrics import roc_curve\n",
    "import ml_metrics\n",
    "import matplotlib.pyplot as plt\n",
    "%matplotlib inline\n",
    "\n",
    "def roc_comparison(models, X_train, X_test, y_train, y_test):\n",
    "    plt.figure(figsize=(10, 10)) \n",
    "    for model in models:\n",
    "        pred_scr = model.predict_proba(X_test)[:, 1]\n",
    "        fpr, tpr, thresholds = roc_curve(y_test, pred_scr)\n",
    "        roc_auc = ml_metrics.auc(y_test, pred_scr)\n",
    "        md = str(model)\n",
    "        md = md[:md.find('(')]\n",
    "        plt.plot(fpr, tpr, label='ROC fold %s (auc = %0.2f)' % (md, roc_auc))\n",
    "        \n",
    "\n",
    "    plt.plot([0, 1], [0, 1], '--', color=(0.6, 0.6, 0.6))\n",
    "    plt.xlim([0, 1])\n",
    "    plt.ylim([0, 1])\n",
    "    plt.xlabel('False Positive Rate')\n",
    "    plt.ylabel('True Positive Rate')\n",
    "    plt.title('Receiver operating characteristic example')\n",
    "    plt.legend(loc=\"lower right\")\n",
    "    plt.show()"
   ]
  },
  {
   "cell_type": "code",
   "execution_count": 7,
   "metadata": {
    "collapsed": false
   },
   "outputs": [
    {
     "data": {
      "image/png": "[encoded data removed]",
      "text/plain": [
       "<matplotlib.figure.Figure at 0x105f2bd50>"
      ]
     },
     "metadata": {},
     "output_type": "display_data"
    }
   ],
   "source": [
    "roc_comparison(models, X_train, X_test, y_train, y_test)"
   ]
  },
  {
   "cell_type": "markdown",
   "metadata": {},
   "source": [
    "Случайный лес показал себя лучше. Теперь предлагаю проанализировать данные и посмотреть, как разные показатели влияют на дефолт."
   ]
  },
  {
   "cell_type": "markdown",
   "metadata": {},
   "source": [
    "Сделаю функцию, которая будет выводить 100% stacked bar chart, чтобы увидеть тенденции."
   ]
  },
  {
   "cell_type": "code",
   "execution_count": 8,
   "metadata": {
    "collapsed": true
   },
   "outputs": [],
   "source": [
    "def stack_hundred(column):\n",
    "    test = df.groupby([column,'Default'])['Default'].count().unstack()\n",
    "    print df.groupby(['Default',column])['Default'].count().unstack()\n",
    "    test.div(test.sum(1).astype(float), axis=0).plot(kind='bar', stacked=True).plot(kind='bar',stacked=True)"
   ]
  },
  {
   "cell_type": "code",
   "execution_count": 9,
   "metadata": {
    "collapsed": false
   },
   "outputs": [
    {
     "name": "stdout",
     "output_type": "stream",
     "text": [
      "checkingstatus1  A11  A12  A13  A14\n",
      "Default                            \n",
      "0                139  164   49  348\n",
      "1                135  105   14   46\n"
     ]
    },
    {
     "data": {
      "image/png": "[encoded data removed]",
      "text/plain": [
       "<matplotlib.figure.Figure at 0x10a2ebc10>"
      ]
     },
     "metadata": {},
     "output_type": "display_data"
    }
   ],
   "source": [
    "stack_hundred('checkingstatus1')"
   ]
  },
  {
   "cell_type": "markdown",
   "metadata": {},
   "source": [
    "Наличие сберегательного счета положительно влияет на платеже способность заемщика."
   ]
  },
  {
   "cell_type": "code",
   "execution_count": 10,
   "metadata": {
    "collapsed": false
   },
   "outputs": [
    {
     "name": "stdout",
     "output_type": "stream",
     "text": [
      "history  A30  A31  A32  A33  A34\n",
      "Default                         \n",
      "0         15   21  361   60  243\n",
      "1         25   28  169   28   50\n"
     ]
    },
    {
     "data": {
      "image/png": "[encoded data removed]",
      "text/plain": [
       "<matplotlib.figure.Figure at 0x10a7e1610>"
      ]
     },
     "metadata": {},
     "output_type": "display_data"
    }
   ],
   "source": [
    "stack_hundred('history')"
   ]
  },
  {
   "cell_type": "markdown",
   "metadata": {},
   "source": [
    "A31 : all credits at this bank paid back duly Не очень вероятно, что клиенты исправно заплатившие за кредиты в прошлом будут хуже платить в будщем.\n",
    "\n",
    "A33 : delay in paying off in the past. Не может быть, чтобы заемщики имеющие просрочку в прошлом лучше платили по новым кредитам.\n",
    "\n",
    "Наверное в данном случае информацию о кредитной истории можно не использовать, но в реальной жизне эта информация очень важная."
   ]
  },
  {
   "cell_type": "code",
   "execution_count": 11,
   "metadata": {
    "collapsed": false
   },
   "outputs": [
    {
     "name": "stdout",
     "output_type": "stream",
     "text": [
      "purpose  A40  A41  A410  A42  A43  A44  A45  A46  A48  A49\n",
      "Default                                                   \n",
      "0        145   86     7  123  218    8   14   28    8   63\n",
      "1         89   17     5   58   62    4    8   22    1   34\n"
     ]
    },
    {
     "data": {
      "image/png": "[encoded data removed]",
      "text/plain": [
       "<matplotlib.figure.Figure at 0x10a7c43d0>"
      ]
     },
     "metadata": {},
     "output_type": "display_data"
    }
   ],
   "source": [
    "stack_hundred('purpose')"
   ]
  },
  {
   "cell_type": "markdown",
   "metadata": {},
   "source": [
    "Здесь мы видим, что хорошими предикторами являются цели на машины, на бытовую технику и на мебель и на бизнес (наверное на стартапы). Думаю, что цель кредита можно оставить в моделе полностью. Можно перегруппировать переменную и оставить три категории: машина, дом, все остальные. Сразу это и сделаем."
   ]
  },
  {
   "cell_type": "code",
   "execution_count": 12,
   "metadata": {
    "collapsed": true
   },
   "outputs": [],
   "source": [
    "group_dict = {'A40':'car', 'A41':'car', 'A42':'home', \n",
    "              'A43':'home', 'A44':'home', 'A45':'home',\n",
    "              'A46':'other', 'A48':'other', 'A49':'other','A410':'other'}\n",
    "df['purpose1'] = df['purpose']\n",
    "df.replace({'purpose1':group_dict}, inplace=True)"
   ]
  },
  {
   "cell_type": "code",
   "execution_count": 13,
   "metadata": {
    "collapsed": false
   },
   "outputs": [
    {
     "name": "stdout",
     "output_type": "stream",
     "text": [
      "purpose1  car  home  other\n",
      "Default                   \n",
      "0         231   363    106\n",
      "1         106   132     62\n"
     ]
    },
    {
     "data": {
      "image/png": "[encoded data removed]",
      "text/plain": [
       "<matplotlib.figure.Figure at 0x10a9c9790>"
      ]
     },
     "metadata": {},
     "output_type": "display_data"
    }
   ],
   "source": [
    "stack_hundred('purpose1')"
   ]
  },
  {
   "cell_type": "markdown",
   "metadata": {},
   "source": [
    "Теперь гораздо проще и понятнее."
   ]
  },
  {
   "cell_type": "code",
   "execution_count": 14,
   "metadata": {
    "collapsed": false
   },
   "outputs": [
    {
     "name": "stdout",
     "output_type": "stream",
     "text": [
      "savings  A61  A62  A63  A64  A65\n",
      "Default                         \n",
      "0        386   69   52   42  151\n",
      "1        217   34   11    6   32\n"
     ]
    },
    {
     "data": {
      "image/png": "[encoded data removed]",
      "text/plain": [
       "<matplotlib.figure.Figure at 0x10aa36a90>"
      ]
     },
     "metadata": {},
     "output_type": "display_data"
    }
   ],
   "source": [
    "stack_hundred('savings')"
   ]
  },
  {
   "cell_type": "markdown",
   "metadata": {},
   "source": [
    "Размер сбережений тоже работает."
   ]
  },
  {
   "cell_type": "code",
   "execution_count": 15,
   "metadata": {
    "collapsed": false
   },
   "outputs": [
    {
     "name": "stdout",
     "output_type": "stream",
     "text": [
      "employ   A71  A72  A73  A74  A75\n",
      "Default                         \n",
      "0         39  102  235  135  189\n",
      "1         23   70  104   39   64\n"
     ]
    },
    {
     "data": {
      "image/png": "[encoded data removed]",
      "text/plain": [
       "<matplotlib.figure.Figure at 0x10aea3f50>"
      ]
     },
     "metadata": {},
     "output_type": "display_data"
    }
   ],
   "source": [
    "stack_hundred('employ')"
   ]
  },
  {
   "cell_type": "markdown",
   "metadata": {},
   "source": [
    "Все логично."
   ]
  },
  {
   "cell_type": "code",
   "execution_count": 16,
   "metadata": {
    "collapsed": false
   },
   "outputs": [
    {
     "name": "stdout",
     "output_type": "stream",
     "text": [
      "status   A91  A92  A93  A94\n",
      "Default                    \n",
      "0         30  201  402   67\n",
      "1         20  109  146   25\n"
     ]
    },
    {
     "data": {
      "image/png": "[encoded data removed]",
      "text/plain": [
       "<matplotlib.figure.Figure at 0x10ae4e590>"
      ]
     },
     "metadata": {},
     "output_type": "display_data"
    }
   ],
   "source": [
    "stack_hundred('status')"
   ]
  },
  {
   "cell_type": "markdown",
   "metadata": {},
   "source": [
    "По опыту знаю, что в России женщины платят лучше чем мужчины, и просто пол является хорошим предиктором. Здесь же одинокий мужчина платит лучше, чем замужняя женщина (A93 и A92). Но это немецкие данные, и я предлагаю не лезьть в немецкий менталитен и положиться на логику в этом дата-сете. Что русскому хорошо, то немцу сами знаете). В данном случае я решаю не использовать эту переменную. "
   ]
  },
  {
   "cell_type": "code",
   "execution_count": 17,
   "metadata": {
    "collapsed": false
   },
   "outputs": [
    {
     "name": "stdout",
     "output_type": "stream",
     "text": [
      "others   A101  A102  A103\n",
      "Default                  \n",
      "0         635    23    42\n",
      "1         272    18    10\n"
     ]
    },
    {
     "data": {
      "image/png": "[encoded data removed]",
      "text/plain": [
       "<matplotlib.figure.Figure at 0x10b24b3d0>"
      ]
     },
     "metadata": {},
     "output_type": "display_data"
    }
   ],
   "source": [
    "stack_hundred('others')"
   ]
  },
  {
   "cell_type": "markdown",
   "metadata": {},
   "source": [
    "Не логично выглядит A102 - наличие co-aplicants. Я думаю, что если люди подают заявку вдвоем (например муж и жена), то такие заемщики надежней. Не буду использовать эту переменную."
   ]
  },
  {
   "cell_type": "code",
   "execution_count": 18,
   "metadata": {
    "collapsed": false
   },
   "outputs": [
    {
     "name": "stdout",
     "output_type": "stream",
     "text": [
      "property  A121  A122  A123  A124\n",
      "Default                         \n",
      "0          222   161   230    87\n",
      "1           60    71   102    67\n"
     ]
    },
    {
     "data": {
      "image/png": "[encoded data removed]",
      "text/plain": [
       "<matplotlib.figure.Figure at 0x10af89590>"
      ]
     },
     "metadata": {},
     "output_type": "display_data"
    }
   ],
   "source": [
    "stack_hundred('property')"
   ]
  },
  {
   "cell_type": "markdown",
   "metadata": {},
   "source": [
    "Здесь все на мой взгляд логично - если есть квартира - заплатит хорошо."
   ]
  },
  {
   "cell_type": "code",
   "execution_count": 19,
   "metadata": {
    "collapsed": false
   },
   "outputs": [
    {
     "name": "stdout",
     "output_type": "stream",
     "text": [
      "otherplans  A141  A142  A143\n",
      "Default                     \n",
      "0             82    28   590\n",
      "1             57    19   224\n"
     ]
    },
    {
     "data": {
      "image/png": "[encoded data removed]",
      "text/plain": [
       "<matplotlib.figure.Figure at 0x10b382990>"
      ]
     },
     "metadata": {},
     "output_type": "display_data"
    }
   ],
   "source": [
    "stack_hundred('otherplans')"
   ]
  },
  {
   "cell_type": "markdown",
   "metadata": {},
   "source": [
    "Тут тоже все ок - если не платит где-нибудь в другом месте, то вероятность дефолта меньше."
   ]
  },
  {
   "cell_type": "code",
   "execution_count": 20,
   "metadata": {
    "collapsed": false
   },
   "outputs": [
    {
     "name": "stdout",
     "output_type": "stream",
     "text": [
      "housing  A151  A152  A153\n",
      "Default                  \n",
      "0         109   527    64\n",
      "1          70   186    44\n"
     ]
    },
    {
     "data": {
      "image/png": "[encoded data removed]",
      "text/plain": [
       "<matplotlib.figure.Figure at 0x10b242d90>"
      ]
     },
     "metadata": {},
     "output_type": "display_data"
    }
   ],
   "source": [
    "stack_hundred('housing')"
   ]
  },
  {
   "cell_type": "markdown",
   "metadata": {},
   "source": [
    "Тоже нету вопросов - если квартива в собственности, то заемщик хороший. Но возможно предиктор property - более важный. И в какой-то степени исключает данный. Но наверное информация о жилищных условиях, тоже важна - если человек ничего не имеет и не платит за аренду, то в моей модели у него меньше шансев. Но все же можно и без нее попробовать."
   ]
  },
  {
   "cell_type": "code",
   "execution_count": 21,
   "metadata": {
    "collapsed": false
   },
   "outputs": [
    {
     "name": "stdout",
     "output_type": "stream",
     "text": [
      "job      A171  A172  A173  A174\n",
      "Default                        \n",
      "0          15   144   444    97\n",
      "1           7    56   186    51\n"
     ]
    },
    {
     "data": {
      "image/png": "[encoded data removed]",
      "text/plain": [
       "<matplotlib.figure.Figure at 0x10af6f7d0>"
      ]
     },
     "metadata": {},
     "output_type": "display_data"
    }
   ],
   "source": [
    "stack_hundred('job')"
   ]
  },
  {
   "cell_type": "markdown",
   "metadata": {},
   "source": [
    "Чем лучше работа - чем хуже платит? Не верю. Дело в том, что заемщики не склонны указывать, что у них плохая квалификация. Не буду использовать эту переменную."
   ]
  },
  {
   "cell_type": "code",
   "execution_count": 22,
   "metadata": {
    "collapsed": false
   },
   "outputs": [
    {
     "name": "stdout",
     "output_type": "stream",
     "text": [
      "tele     A191  A192\n",
      "Default            \n",
      "0         409   291\n",
      "1         187   113\n"
     ]
    },
    {
     "data": {
      "image/png": "[encoded data removed]",
      "text/plain": [
       "<matplotlib.figure.Figure at 0x10a29ead0>"
      ]
     },
     "metadata": {},
     "output_type": "display_data"
    }
   ],
   "source": [
    "stack_hundred('tele')"
   ]
  },
  {
   "cell_type": "markdown",
   "metadata": {},
   "source": [
    "Те у кого есть телефон платят лучше). "
   ]
  },
  {
   "cell_type": "code",
   "execution_count": 23,
   "metadata": {
    "collapsed": false
   },
   "outputs": [
    {
     "name": "stdout",
     "output_type": "stream",
     "text": [
      "foreign  A201  A202\n",
      "Default            \n",
      "0         667    33\n",
      "1         296     4\n"
     ]
    },
    {
     "data": {
      "image/png": "[encoded data removed]",
      "text/plain": [
       "<matplotlib.figure.Figure at 0x10ae5ecd0>"
      ]
     },
     "metadata": {},
     "output_type": "display_data"
    }
   ],
   "source": [
    "stack_hundred('foreign')"
   ]
  },
  {
   "cell_type": "markdown",
   "metadata": {},
   "source": [
    "Найтив работик платит лучше, это очевидно.)"
   ]
  },
  {
   "cell_type": "markdown",
   "metadata": {},
   "source": [
    "Теперь взглянем на количиственные данные."
   ]
  },
  {
   "cell_type": "code",
   "execution_count": 24,
   "metadata": {
    "collapsed": false
   },
   "outputs": [
    {
     "data": {
      "text/html": [
       "<div>\n",
       "<table border=\"1\" class=\"dataframe\">\n",
       "  <thead>\n",
       "    <tr style=\"text-align: right;\">\n",
       "      <th></th>\n",
       "      <th>duration</th>\n",
       "      <th>amount</th>\n",
       "      <th>installment</th>\n",
       "      <th>residence</th>\n",
       "      <th>age</th>\n",
       "      <th>cards</th>\n",
       "      <th>liable</th>\n",
       "    </tr>\n",
       "    <tr>\n",
       "      <th>Default</th>\n",
       "      <th></th>\n",
       "      <th></th>\n",
       "      <th></th>\n",
       "      <th></th>\n",
       "      <th></th>\n",
       "      <th></th>\n",
       "      <th></th>\n",
       "    </tr>\n",
       "  </thead>\n",
       "  <tbody>\n",
       "    <tr>\n",
       "      <th>0</th>\n",
       "      <td>19.207143</td>\n",
       "      <td>2985.457143</td>\n",
       "      <td>2.920000</td>\n",
       "      <td>2.842857</td>\n",
       "      <td>36.224286</td>\n",
       "      <td>1.424286</td>\n",
       "      <td>1.155714</td>\n",
       "    </tr>\n",
       "    <tr>\n",
       "      <th>1</th>\n",
       "      <td>24.860000</td>\n",
       "      <td>3938.126667</td>\n",
       "      <td>3.096667</td>\n",
       "      <td>2.850000</td>\n",
       "      <td>33.963333</td>\n",
       "      <td>1.366667</td>\n",
       "      <td>1.153333</td>\n",
       "    </tr>\n",
       "  </tbody>\n",
       "</table>\n",
       "</div>"
      ],
      "text/plain": [
       "          duration       amount  installment  residence        age     cards  \\\n",
       "Default                                                                        \n",
       "0        19.207143  2985.457143     2.920000   2.842857  36.224286  1.424286   \n",
       "1        24.860000  3938.126667     3.096667   2.850000  33.963333  1.366667   \n",
       "\n",
       "           liable  \n",
       "Default            \n",
       "0        1.155714  \n",
       "1        1.153333  "
      ]
     },
     "execution_count": 24,
     "metadata": {},
     "output_type": "execute_result"
    }
   ],
   "source": [
    "df.groupby('Default').mean()"
   ]
  },
  {
   "cell_type": "markdown",
   "metadata": {},
   "source": [
    "Здесь все более менее нормально:\n",
    "* чем дольше срок кредита - тем больше вероятность, что с заёмщиком что-то случиться и от перестанет плататить.\n",
    "* чем больше сумма кредита, тем сложнее его вернуть.\n",
    "* чем выще отношение аннуитета к ежемесячному заработку, тем хуже\n",
    "* residense особо не влияет\n",
    "* тем старше заемщик - тем лучше. Совком тому пример)\n",
    "* чем больше на человеке кредитов, тем хуже\n",
    "* наличие рекомендателей в данном случае не сыграло."
   ]
  },
  {
   "cell_type": "markdown",
   "metadata": {},
   "source": [
    "Изменим формулу для создания тестовых и тренировочных сетов, обучим модели заново и сравним с первыми."
   ]
  },
  {
   "cell_type": "code",
   "execution_count": 25,
   "metadata": {
    "collapsed": true
   },
   "outputs": [],
   "source": [
    "formula2 = 'Default~C(checkingstatus1)+duration+C(purpose1)+\\\n",
    "amount+C(savings)+C(employ)+installment+\\\n",
    "C(property)+age+C(otherplans)+\\\n",
    "C(housing)+cards+C(tele)+C(foreign)'"
   ]
  },
  {
   "cell_type": "code",
   "execution_count": 26,
   "metadata": {
    "collapsed": true
   },
   "outputs": [],
   "source": [
    "y1, X1, X_train1, X_test1, y_train1, y_test1 = test_train(formula2, df)"
   ]
  },
  {
   "cell_type": "code",
   "execution_count": 27,
   "metadata": {
    "collapsed": false
   },
   "outputs": [],
   "source": [
    "models2 = []\n",
    "models2.append(LogisticRegression())\n",
    "models2.append(RandomForestClassifier(n_estimators=100, criterion='entropy'))\n",
    "for model in models2:\n",
    "    model.fit(X_train1, y_train1)"
   ]
  },
  {
   "cell_type": "code",
   "execution_count": 28,
   "metadata": {
    "collapsed": false
   },
   "outputs": [
    {
     "data": {
      "image/png": "[encoded data removed]",
      "text/plain": [
       "<matplotlib.figure.Figure at 0x10a832550>"
      ]
     },
     "metadata": {},
     "output_type": "display_data"
    }
   ],
   "source": [
    "roc_comparison(models2, X_train1, X_test1, y_train1, y_test1)"
   ]
  },
  {
   "cell_type": "markdown",
   "metadata": {},
   "source": [
    "Манипуляции с данными не улучшили показатели ROC, даже немного ухудшили. Но теперь я уверен, что в моделе все логично, а так же, что она в меньшей степени переобучена."
   ]
  },
  {
   "cell_type": "markdown",
   "metadata": {},
   "source": [
    "#Стабильность популяции"
   ]
  },
  {
   "cell_type": "markdown",
   "metadata": {
    "collapsed": true
   },
   "source": [
    "Стандартной метрикой является Индекс Стабильности Популяции (PSI). \n",
    "\n",
    "$$PSI=\\sum ((Текущая\\ \\%-Базавая\\ \\%)\\times (ln(\\frac{Текущая\\ \\%}{Базовая\\ \\%})) $$\n",
    "\n",
    "Индекс рассчитывается для распределения переменных из Базовой и Текущей популяции в процентах по каждому бакету, а потом суммируется. Увеличение индекса свидетельствует о сдвигах в Текущей популяции.\n",
    "\n",
    "Вместе с PSI индексом нужно так же выводить диаграмму распределения Базовой и Текущей популяции, чтобы видеть сдвиги в каждом бакете и понимать что делать дальше.\n",
    "\n",
    "Приведу пример. Возмем тестоый сет и рассчитаем для нее вероятность дефолта на основе последней регрессионной модели - будем считать эту выборку Текущей. Базовой выборкой будем считать весь сет данных, для нее тоже рассчитает дефолт. Дале посмотрим на распределение вероятностей дефолта в процентах по бакетам для Базовой и Текущей выборки, рассчитаем PSI и построим диаграмму."
   ]
  },
  {
   "cell_type": "code",
   "execution_count": 29,
   "metadata": {
    "collapsed": false
   },
   "outputs": [],
   "source": [
    "base = pd.DataFrame(models2[0].predict_proba(X1)[:, 1])\n",
    "test = pd.DataFrame(models2[0].predict_proba(X_test1)[:, 1])\n",
    "bins = [0.1,0.2,0.3,0.4,0.5,0.6,0.7,0.8,0.9,1]"
   ]
  },
  {
   "cell_type": "code",
   "execution_count": 30,
   "metadata": {
    "collapsed": false
   },
   "outputs": [],
   "source": [
    "def psi(test,base,bins):    \n",
    "    binned = base.groupby(pd.cut(base[0],bins)).count()\n",
    "    binned[0] = binned[0]/binned[0].sum()\n",
    "    binned[1] = test.groupby(pd.cut(test[0],bins)).count()\n",
    "    binned[1] = binned[1]/binned[1].sum()\n",
    "    binned.columns = ['base','test']\n",
    "    binned['test - base'] = binned['test']-binned['base']\n",
    "    binned['test/base'] = binned['test']/binned['base']\n",
    "    binned['psi'] = binned['test - base'] * np.log(binned['test/base'])\n",
    "    return binned"
   ]
  },
  {
   "cell_type": "code",
   "execution_count": 31,
   "metadata": {
    "collapsed": true
   },
   "outputs": [],
   "source": [
    "def report(test,base,bins):\n",
    "    df = psi(test,base,bins)\n",
    "    print df['psi']\n",
    "    df[['base','test']].plot(kind='bar')\n",
    "    print 'Population Stability Index = ', df['psi'].sum()"
   ]
  },
  {
   "cell_type": "code",
   "execution_count": 32,
   "metadata": {
    "collapsed": false
   },
   "outputs": [
    {
     "name": "stdout",
     "output_type": "stream",
     "text": [
      "0\n",
      "(0.1, 0.2]    0.001426\n",
      "(0.2, 0.3]    0.002460\n",
      "(0.3, 0.4]    0.000017\n",
      "(0.4, 0.5]    0.013763\n",
      "(0.5, 0.6]    0.006541\n",
      "(0.6, 0.7]    0.000428\n",
      "(0.7, 0.8]    0.001005\n",
      "(0.8, 0.9]    0.000143\n",
      "(0.9, 1]           inf\n",
      "Name: psi, dtype: float64\n",
      "Population Stability Index =  inf\n"
     ]
    },
    {
     "data": {
      "image/png": "[encoded data removed]",
      "text/plain": [
       "<matplotlib.figure.Figure at 0x10ae77250>"
      ]
     },
     "metadata": {},
     "output_type": "display_data"
    }
   ],
   "source": [
    "report(test,base,bins)"
   ]
  },
  {
   "cell_type": "markdown",
   "metadata": {},
   "source": [
    "Теперь вместо тестового сета возьмем часть исходного сета с заданным параметром."
   ]
  },
  {
   "cell_type": "code",
   "execution_count": 33,
   "metadata": {
    "collapsed": false
   },
   "outputs": [],
   "source": [
    "test1 = pd.DataFrame(models2[0].predict_proba(X1[X1['C(savings)[T.A62]'] == 1])[:, 1])"
   ]
  },
  {
   "cell_type": "code",
   "execution_count": 34,
   "metadata": {
    "collapsed": false
   },
   "outputs": [
    {
     "name": "stdout",
     "output_type": "stream",
     "text": [
      "0\n",
      "(0.1, 0.2]    0.010382\n",
      "(0.2, 0.3]    0.000050\n",
      "(0.3, 0.4]    0.004869\n",
      "(0.4, 0.5]    0.037811\n",
      "(0.5, 0.6]    0.029618\n",
      "(0.6, 0.7]    0.007859\n",
      "(0.7, 0.8]    0.008203\n",
      "(0.8, 0.9]    0.014504\n",
      "(0.9, 1]           inf\n",
      "Name: psi, dtype: float64\n",
      "Population Stability Index =  inf\n"
     ]
    },
    {
     "data": {
      "image/png": "[encoded data removed]",
      "text/plain": [
       "<matplotlib.figure.Figure at 0x10b0527d0>"
      ]
     },
     "metadata": {},
     "output_type": "display_data"
    }
   ],
   "source": [
    "report(test1,base,bins)"
   ]
  },
  {
   "cell_type": "markdown",
   "metadata": {},
   "source": [
    "Индекс стабильности популяции сильно вырос. Это говорит нам о том, что в данных что-то изменилось. В данном случае я взял только тех людей, чьи сбережения находятся в диапазоне [100;500). Очевидно, что такая выборка будет отличаться от всего дата-сета. Индекс стабильно популяции нам на это и указывает.\n",
    "\n",
    "После того, как стало ясно, что что-то изменилось - нужно понять что. Для этого можно построить диаграммы распределения каждой переменной (как я делал в анализе данных) и сравнить с исходными. Сразу станет ясно где произошел перекос."
   ]
  }
 ],
 "metadata": {
  "kernelspec": {
   "display_name": "Python 2",
   "language": "python",
   "name": "python2"
  },
  "language_info": {
   "codemirror_mode": {
    "name": "ipython",
    "version": 2
   },
   "file_extension": ".py",
   "mimetype": "text/x-python",
   "name": "python",
   "nbconvert_exporter": "python",
   "pygments_lexer": "ipython2",
   "version": "2.7.11"
  }
 },
 "nbformat": 4,
 "nbformat_minor": 0
}
