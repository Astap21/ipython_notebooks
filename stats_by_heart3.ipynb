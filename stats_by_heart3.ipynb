{
 "cells": [
  {
   "cell_type": "markdown",
   "metadata": {},
   "source": [
    "# Статистика наизусть - 3"
   ]
  },
  {
   "cell_type": "markdown",
   "metadata": {},
   "source": [
    "В данной статье речь пойдет о проверке гипотезы о разности средних значений для двух выборок и ти-тесте. Начнем с проверки этой гипотезы на больших выборках (n>=30), когда возможно использовать нормальное распределении. Я буду использовать примеры из книги [Доннелли Роберт А. мл. Статистика шаг за шагом](http://www.twirpx.com/file/1179942/)"
   ]
  },
  {
   "cell_type": "markdown",
   "metadata": {},
   "source": [
    "Представьте себе испытания на крысах. Одну группу крыс (\"везунчиков\") окружили заботой, давали им хороший сыр (пармезан) и показывали интересные познавательные фильмы. Другую группу (\"менее везучие\") посадили в скучную клетку, кормили дешевым сыром и показывали новости по первому каналу. После некоторого времени таких испытаний у крыс из каждой группы измерили вес мозга. Получились следующие результаты."
   ]
  },
  {
   "cell_type": "code",
   "execution_count": 1,
   "metadata": {
    "collapsed": true
   },
   "outputs": [],
   "source": [
    "import pandas as pd"
   ]
  },
  {
   "cell_type": "code",
   "execution_count": 2,
   "metadata": {
    "collapsed": false
   },
   "outputs": [
    {
     "data": {
      "text/html": [
       "<div>\n",
       "<table border=\"1\" class=\"dataframe\">\n",
       "  <thead>\n",
       "    <tr style=\"text-align: right;\">\n",
       "      <th></th>\n",
       "      <th>Размер выборки</th>\n",
       "      <th>Средний вес мозга</th>\n",
       "      <th>Стандартное отклонение выборки</th>\n",
       "    </tr>\n",
       "  </thead>\n",
       "  <tbody>\n",
       "    <tr>\n",
       "      <th>Везунчики</th>\n",
       "      <td>50</td>\n",
       "      <td>2.4</td>\n",
       "      <td>0.6</td>\n",
       "    </tr>\n",
       "    <tr>\n",
       "      <th>Менее везучие</th>\n",
       "      <td>60</td>\n",
       "      <td>2.1</td>\n",
       "      <td>0.8</td>\n",
       "    </tr>\n",
       "  </tbody>\n",
       "</table>\n",
       "</div>"
      ],
      "text/plain": [
       "               Размер выборки  Средний вес мозга  \\\n",
       "Везунчики                  50                2.4   \n",
       "Менее везучие              60                2.1   \n",
       "\n",
       "               Стандартное отклонение выборки  \n",
       "Везунчики                                 0.6  \n",
       "Менее везучие                             0.8  "
      ]
     },
     "execution_count": 2,
     "metadata": {},
     "output_type": "execute_result"
    }
   ],
   "source": [
    "df = pd.DataFrame({'Средний вес мозга':[2.4,2.1],\n",
    "       'Стандартное отклонение выборки':[.6,.8],\n",
    "      'Размер выборки':[50,60]},index=['Везунчики','Менее везучие'])\n",
    "df"
   ]
  },
  {
   "cell_type": "markdown",
   "metadata": {},
   "source": [
    "Нужно проверить гипотезу о том, что мозг везучих крыс (m1) больше мозга менее везучих (m2). Сформулируем нулевую и альтернативную гипотезы:\n",
    "\n",
    "H0: m1 <= m2 (средний вес мозга везучей крысы меньше или равен среднему весу мозга менее везучей)\n",
    "<br>H1: m1 > m2 (средний вес мозга везучей крысы больше среднего веса невезучей)</br> \n",
    "\n",
    "Гипотезы так же могут выглядеть следующим образом:\n",
    "\n",
    "H0: m1 - m2 <= 0\n",
    "<br>H1: m1 - m2 > 0</br>\n",
    "\n",
    "Проверим эту гипотезу при a = 0.05"
   ]
  },
  {
   "cell_type": "markdown",
   "metadata": {},
   "source": [
    "Для начала нужно вычислить стандартную ошибку разности двух средних. Делается это так:\n",
    "\n",
    "$$ se = \\sqrt{\\frac{s1^2}{n1}+\\frac{s2^2}{n2}} $$"
   ]
  },
  {
   "cell_type": "code",
   "execution_count": 3,
   "metadata": {
    "collapsed": false
   },
   "outputs": [
    {
     "data": {
      "text/plain": [
       "0.1336662510384228"
      ]
     },
     "execution_count": 3,
     "metadata": {},
     "output_type": "execute_result"
    }
   ],
   "source": [
    "from math import sqrt\n",
    "from __future__ import division\n",
    "se = sqrt((df['Стандартное отклонение выборки']['Везунчики']**2/\n",
    "           df['Размер выборки']['Везунчики'])+\n",
    "         (df['Стандартное отклонение выборки']['Менее везучие']**2/\n",
    "           df['Размер выборки']['Менее везучие']))\n",
    "se"
   ]
  },
  {
   "cell_type": "markdown",
   "metadata": {},
   "source": [
    "Определим z-score для данной разности средних:\n",
    "$$ z = \\frac{(\\overline{x1}-\\overline{x2}) - (m1-m2)_{H0}}{se} $$\n",
    "\n",
    "$$где\\ \\overline{x1},\\overline{x2} - средние\\ по\\ выборкам, $$\n",
    "$$(m1-m2)_{H0}\\ -\\ гипотетическая\\ разность\\ средних\\ двух\\ совокупностей$$\n",
    "\n",
    "В нашем случае формула принимет вид:\n",
    "\n",
    "$$z = \\frac{(2.4-2.1) - 0}{0.134} $$"
   ]
  },
  {
   "cell_type": "code",
   "execution_count": 4,
   "metadata": {
    "collapsed": false
   },
   "outputs": [
    {
     "data": {
      "text/plain": [
       "2.2443960062421726"
      ]
     },
     "execution_count": 4,
     "metadata": {},
     "output_type": "execute_result"
    }
   ],
   "source": [
    "z = (2.4-2.1)/se\n",
    "z"
   ]
  },
  {
   "cell_type": "markdown",
   "metadata": {},
   "source": [
    "Осталось посчитать критическое z для a = 0.05 и посмотреть попало ли расчетное z в критическую зону."
   ]
  },
  {
   "cell_type": "code",
   "execution_count": 5,
   "metadata": {
    "collapsed": false
   },
   "outputs": [
    {
     "data": {
      "text/plain": [
       "1.6448536269514729"
      ]
     },
     "execution_count": 5,
     "metadata": {},
     "output_type": "execute_result"
    }
   ],
   "source": [
    "from scipy.stats import norm\n",
    "import numpy as np\n",
    "x = np.linspace(-3,3,100)\n",
    "norm_d = norm.pdf(x,0,sqrt(1))\n",
    "z_c = abs(norm.ppf(.05))\n",
    "z_c"
   ]
  },
  {
   "cell_type": "code",
   "execution_count": 6,
   "metadata": {
    "collapsed": false
   },
   "outputs": [
    {
     "data": {
      "text/plain": [
       "<matplotlib.lines.Line2D at 0x109451ed0>"
      ]
     },
     "execution_count": 6,
     "metadata": {},
     "output_type": "execute_result"
    },
    {
     "data": {
      "image/png": "[encoded data removed]",
      "text/plain": [
       "<matplotlib.figure.Figure at 0x10879fd50>"
      ]
     },
     "metadata": {},
     "output_type": "display_data"
    }
   ],
   "source": [
    "import matplotlib.pyplot as plt\n",
    "%matplotlib inline\n",
    "plt.plot(x,norm_d)\n",
    "plt.axvline(z_c,color='r')\n",
    "plt.axvline(z,color='g')"
   ]
  },
  {
   "cell_type": "markdown",
   "metadata": {},
   "source": [
    "Как видно из графика, расчетное значение z попало в критическую зону (справа от красной линии). Следовательно мы отклоняем нулевую гипотезу, и принимает гипотезу о том, что мозг везучих крыс больше мозга невезучих крыс на уровне значимости равном 0.05."
   ]
  },
  {
   "cell_type": "markdown",
   "metadata": {},
   "source": [
    "Рассчитаем так же p-value:"
   ]
  },
  {
   "cell_type": "code",
   "execution_count": 7,
   "metadata": {
    "collapsed": false
   },
   "outputs": [
    {
     "data": {
      "text/plain": [
       "0.012403466626662585"
      ]
     },
     "execution_count": 7,
     "metadata": {},
     "output_type": "execute_result"
    }
   ],
   "source": [
    "1 - norm.cdf(z)"
   ]
  },
  {
   "cell_type": "markdown",
   "metadata": {},
   "source": [
    "Очень маленькое значение - вероятность нулевой гипотезы очень мала."
   ]
  },
  {
   "cell_type": "markdown",
   "metadata": {},
   "source": [
    "Что ж, теперь перейдем к выборкам с n < 30. Какое же распределение использовать? Конечно же распределение Стьюдента! Перейдем к примеру. Представим, что какая-то компания утверждает, что их батарейки работают дольше обычных. Был произведен ряд измерений и получены следующие данные. Срок работы для долговечных батареек:"
   ]
  },
  {
   "cell_type": "code",
   "execution_count": 8,
   "metadata": {
    "collapsed": true
   },
   "outputs": [],
   "source": [
    "x1 = [51,44,58,36,48,53,57,40,49,44,60,50]"
   ]
  },
  {
   "cell_type": "markdown",
   "metadata": {},
   "source": [
    "И для обычных батареек:"
   ]
  },
  {
   "cell_type": "code",
   "execution_count": 9,
   "metadata": {
    "collapsed": true
   },
   "outputs": [],
   "source": [
    "x2 = [42,29,51,38,39,44,35,40,48,45]"
   ]
  },
  {
   "cell_type": "markdown",
   "metadata": {},
   "source": [
    "Гипотеза заключается в том, что новые батарейки работают дольше обычных. Выборки являются независимыми друг от друга. Сформулируем нулевую и альтернативную гипотезы.\n",
    "\n",
    "H0: m1 <= m2\n",
    "<br>H1: m1 > m2</br>\n",
    "\n",
    "m1 - средний срок работы долговечных батареек, m2 - средний срок обычных батареек.\n",
    "\n",
    "Для начала нужно совместную стандартных отклонений. Если сделать допущение, что стандартные оклонения обеих совокупностей равны, то оценку можно рассчитать следующим образом:\n",
    "\n",
    "$$s_{p} = \\sqrt{\\frac{(n_{1}-1)s_{1}^2+(n_{2}-1)s_{2}^2}{n_{1}+n_{2}-2}} $$"
   ]
  },
  {
   "cell_type": "code",
   "execution_count": 10,
   "metadata": {
    "collapsed": false
   },
   "outputs": [
    {
     "data": {
      "text/plain": [
       "6.915803158949315"
      ]
     },
     "execution_count": 10,
     "metadata": {},
     "output_type": "execute_result"
    }
   ],
   "source": [
    "s_p = sqrt(((len(x1)-1)*np.std(x1,ddof=1)**2+\n",
    "            (len(x2)-1)*np.std(x2,ddof=1)**2)/\n",
    "           (len(x1)+len(x2)-2))\n",
    "s_p"
   ]
  },
  {
   "cell_type": "markdown",
   "metadata": {},
   "source": [
    "Обратите внимание, что я передал в np.sts параметр ddof. Это дельта степеней свободы: по умолчанию np.std делит n, если поставить ddof=1, то будет делить на (n-1). Когда считаем отклонение по совокупности, то делить надо на (n-1). Теперь можем вычислить стандартную ошибку разности двух средних. Формула следующая:\n",
    "\n",
    "$$ se = s_{p}\\sqrt{\\frac{1}{n1}+\\frac{1}{n2}} $$"
   ]
  },
  {
   "cell_type": "code",
   "execution_count": 11,
   "metadata": {
    "collapsed": false
   },
   "outputs": [
    {
     "data": {
      "text/plain": [
       "2.961170001499032"
      ]
     },
     "execution_count": 11,
     "metadata": {},
     "output_type": "execute_result"
    }
   ],
   "source": [
    "se = s_p*sqrt(1/len(x1)+1/len(x2))\n",
    "se"
   ]
  },
  {
   "cell_type": "markdown",
   "metadata": {},
   "source": [
    "Далее рассчитаем t-статистику. Формула такая же, как и в случае с нормальным распределением:\n",
    "\n",
    "$$ t = \\frac{(\\overline{x1}-\\overline{x2}) - (m1-m2)_{H0}}{se} $$"
   ]
  },
  {
   "cell_type": "code",
   "execution_count": 12,
   "metadata": {
    "collapsed": false
   },
   "outputs": [
    {
     "data": {
      "text/plain": [
       "2.7241484489519605"
      ]
     },
     "execution_count": 12,
     "metadata": {},
     "output_type": "execute_result"
    }
   ],
   "source": [
    "t1 = (np.mean(x1)-np.mean(x2))/se\n",
    "t1"
   ]
  },
  {
   "cell_type": "markdown",
   "metadata": {},
   "source": [
    "Теперь получим критическое значение t-статистики для a = 0.01 (я проверяю гипотезу на этом уровне значимости). Вторым аргументом t.ppf принимает степени свободы."
   ]
  },
  {
   "cell_type": "code",
   "execution_count": 13,
   "metadata": {
    "collapsed": false
   },
   "outputs": [
    {
     "data": {
      "text/plain": [
       "2.5279770027405464"
      ]
     },
     "execution_count": 13,
     "metadata": {},
     "output_type": "execute_result"
    }
   ],
   "source": [
    "from scipy.stats import t\n",
    "df = len(x1)+len(x2)-2\n",
    "t_c = abs(t.ppf(0.01,df))\n",
    "t_c"
   ]
  },
  {
   "cell_type": "markdown",
   "metadata": {},
   "source": [
    "Строим график."
   ]
  },
  {
   "cell_type": "code",
   "execution_count": 14,
   "metadata": {
    "collapsed": false
   },
   "outputs": [
    {
     "data": {
      "text/plain": [
       "<matplotlib.lines.Line2D at 0x1094b35d0>"
      ]
     },
     "execution_count": 14,
     "metadata": {},
     "output_type": "execute_result"
    },
    {
     "data": {
      "image/png": "[encoded data removed]",
      "text/plain": [
       "<matplotlib.figure.Figure at 0x109411090>"
      ]
     },
     "metadata": {},
     "output_type": "display_data"
    }
   ],
   "source": [
    "plt.plot(x,t.pdf(x,df))\n",
    "plt.axvline(t_c,color='r')\n",
    "plt.axvline(t1,color='g')"
   ]
  },
  {
   "cell_type": "markdown",
   "metadata": {},
   "source": [
    "Зеленая линия оказалась справа от красной - значит попала в критическую зона, и мы отклоняем нулевую гипотезу и принимаем гипотезу о том, что новые батарейки работаею дольше. Рассчитаем так же p-value."
   ]
  },
  {
   "cell_type": "code",
   "execution_count": 15,
   "metadata": {
    "collapsed": false
   },
   "outputs": [
    {
     "data": {
      "text/plain": [
       "0.0065339462212693489"
      ]
     },
     "execution_count": 15,
     "metadata": {},
     "output_type": "execute_result"
    }
   ],
   "source": [
    "1 - t.cdf(t1,df)"
   ]
  },
  {
   "cell_type": "markdown",
   "metadata": {},
   "source": [
    "Это был знаменитый t-тест. Его же можно провести и встроенным методом scipy."
   ]
  },
  {
   "cell_type": "code",
   "execution_count": 16,
   "metadata": {
    "collapsed": true
   },
   "outputs": [],
   "source": [
    "from scipy.stats import ttest_ind"
   ]
  },
  {
   "cell_type": "code",
   "execution_count": 17,
   "metadata": {
    "collapsed": false
   },
   "outputs": [
    {
     "data": {
      "text/plain": [
       "(2.7241484489519605, 0.013067892442538755)"
      ]
     },
     "execution_count": 17,
     "metadata": {},
     "output_type": "execute_result"
    }
   ],
   "source": [
    "ts,pv = ttest_ind(x1,x2)\n",
    "ts,pv"
   ]
  },
  {
   "cell_type": "markdown",
   "metadata": {},
   "source": [
    "На выходе ttest_ind (ind от independent - независимый; t-тест для независимых выборок) дает значение t-статистики и p-value. t-статистика совпадает с ручными рассчетами, а вот p-value нет. Почему? Потому что встроенный t-тест считает p-value для двух сторонней проверки гипотезы, а мы делали для односторонней. Чтобы получит наше значение нужно полученной разделить на 2."
   ]
  },
  {
   "cell_type": "code",
   "execution_count": 18,
   "metadata": {
    "collapsed": false
   },
   "outputs": [
    {
     "data": {
      "text/plain": [
       "0.0065339462212693775"
      ]
     },
     "execution_count": 18,
     "metadata": {},
     "output_type": "execute_result"
    }
   ],
   "source": [
    "pv/2"
   ]
  },
  {
   "cell_type": "markdown",
   "metadata": {},
   "source": [
    "Так же существует t-test для зависимых выборок. Разберем сразу на примере. Представим, что есть девять игроков в гольф, которым было поручено тестировать новые мячи для гольфа и обычные. Производитель новых мячей утверждает, что эти мячи летят на 20 метров дальше, чем обычные. Было получено две выборки - одна для новых мячей, другая для обычных."
   ]
  },
  {
   "cell_type": "code",
   "execution_count": 19,
   "metadata": {
    "collapsed": true
   },
   "outputs": [],
   "source": [
    "x1 = np.array([215,228,256,264,248,255,239,218,239])\n",
    "x2 = np.array([201,213,230,233,218,226,212,195,208])"
   ]
  },
  {
   "cell_type": "markdown",
   "metadata": {},
   "source": [
    "Эти выборки взаимо связаны, т.к. каждый игрок последовательно бил по новому мячу, а потом по старому. Встроенным средствами scipy можно провети тест для зависимых выборок - ttest_rel. Нулевая гипотеза в данном случае это равенство средних по двум выборкам. На выходе дает t-статистику и p-value."
   ]
  },
  {
   "cell_type": "code",
   "execution_count": 20,
   "metadata": {
    "collapsed": false
   },
   "outputs": [
    {
     "data": {
      "text/plain": [
       "Ttest_relResult(statistic=11.506824034107407, pvalue=2.9499114348637115e-06)"
      ]
     },
     "execution_count": 20,
     "metadata": {},
     "output_type": "execute_result"
    }
   ],
   "source": [
    "from scipy.stats import ttest_rel\n",
    "ttest_rel(x1,x2)"
   ]
  },
  {
   "cell_type": "markdown",
   "metadata": {},
   "source": [
    "p-value получилось очень маленькое, это значит, что мы не принимаем нулевую гипотезу и принимаем гипотезу о разности двух средних. Но как нам проверить гипотезу о том, что новый мяч летит на 20 метров дальше? Очень просто - посчитаем разницу между элементами двух выборок и проверим гипотезу о том, что среднее получившейся выборки (разности) больше 20. Гипотезы сформулируем так: \n",
    "\n",
    "H1: m <= 20\n",
    "<br>H0: m > 20</br>\n",
    "\n",
    "Рассчитаем t статиску для этой проверки (формулу можно посмотреть в предудущей [статье](http://localhost:8888/notebooks/stats_by_heart2.ipynb)).\n"
   ]
  },
  {
   "cell_type": "code",
   "execution_count": 21,
   "metadata": {
    "collapsed": false
   },
   "outputs": [
    {
     "data": {
      "text/plain": [
       "2.3420969272961978"
      ]
     },
     "execution_count": 21,
     "metadata": {},
     "output_type": "execute_result"
    }
   ],
   "source": [
    "x_m = x1 - x2\n",
    "t1 = (np.mean(x_m)-20)/(np.std(x_m,ddof=1)/sqrt(len(x_m)))\n",
    "t1"
   ]
  },
  {
   "cell_type": "markdown",
   "metadata": {},
   "source": [
    "Гипотезу будем проверять на уровне значимости a = 0.05. Рассчитаем критическое значение t-статистики."
   ]
  },
  {
   "cell_type": "code",
   "execution_count": 22,
   "metadata": {
    "collapsed": false
   },
   "outputs": [
    {
     "data": {
      "text/plain": [
       "1.8595480375228428"
      ]
     },
     "execution_count": 22,
     "metadata": {},
     "output_type": "execute_result"
    }
   ],
   "source": [
    "t_c = abs(t.ppf(0.05,len(x_m)-1))\n",
    "t_c"
   ]
  },
  {
   "cell_type": "markdown",
   "metadata": {},
   "source": [
    "Построим график и посмотрим."
   ]
  },
  {
   "cell_type": "code",
   "execution_count": 23,
   "metadata": {
    "collapsed": false
   },
   "outputs": [
    {
     "data": {
      "text/plain": [
       "<matplotlib.lines.Line2D at 0x1096e9310>"
      ]
     },
     "execution_count": 23,
     "metadata": {},
     "output_type": "execute_result"
    },
    {
     "data": {
      "image/png": "[encoded data removed]",
      "text/plain": [
       "<matplotlib.figure.Figure at 0x1095db550>"
      ]
     },
     "metadata": {},
     "output_type": "display_data"
    }
   ],
   "source": [
    "plt.plot(x,t.pdf(x,len(x_m)))\n",
    "plt.axvline(t_c,color='r')\n",
    "plt.axvline(t1,color='g')"
   ]
  },
  {
   "cell_type": "markdown",
   "metadata": {},
   "source": [
    "Зеленая линия справа от красной значит нулевую гипотезу отвергаем и принимаем гипотезу о том, что новый мяч летит на 20 метров дальше обычного."
   ]
  },
  {
   "cell_type": "markdown",
   "metadata": {},
   "source": [
    "На сегодня все. В следующем выпуске \"Статистики наизусть\" я познакомлю вас со статистикой хи-квадрат."
   ]
  }
 ],
 "metadata": {
  "kernelspec": {
   "display_name": "Python 2",
   "language": "python",
   "name": "python2"
  },
  "language_info": {
   "codemirror_mode": {
    "name": "ipython",
    "version": 2
   },
   "file_extension": ".py",
   "mimetype": "text/x-python",
   "name": "python",
   "nbconvert_exporter": "python",
   "pygments_lexer": "ipython2",
   "version": "2.7.11"
  }
 },
 "nbformat": 4,
 "nbformat_minor": 0
}
