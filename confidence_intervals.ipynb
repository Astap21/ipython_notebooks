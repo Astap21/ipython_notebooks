{
 "cells": [
  {
   "cell_type": "markdown",
   "metadata": {},
   "source": [
    "# Интуиция доверительных интервалов."
   ]
  },
  {
   "cell_type": "markdown",
   "metadata": {},
   "source": [
    "Решил написать небольшой пост про интерпретацию доверительных интeрвалов. Представим что у нас есть какая-то нормально распределенная совокупность, например средние скорости автомобилей на определенном участке МКАД. Из этой совокупности была получена выборка размером n = 50 и средним $\\bar{x} = 90$ км/ч. Так же известно, что стандартное отклонение совокупности $\\sigma = 7$ км/ч. Давайте построим доверительный интервал для среднего по совокупности с доверительным уровнем 95%. Что для этого нужно?"
   ]
  },
  {
   "cell_type": "markdown",
   "metadata": {},
   "source": [
    "#### 1) Определить значение z для $\\alpha = 1 - 0.95$. Делается это так: берем стандартное нормальное распределение c $\\mu = 0$ и $\\sigma = 1$ и с помощью функции ppf (инверсия функции распределения cdf) считаем значение z."
   ]
  },
  {
   "cell_type": "code",
   "execution_count": 1,
   "metadata": {
    "collapsed": true
   },
   "outputs": [],
   "source": [
    "from scipy import stats\n",
    "import numpy as np\n",
    "import math"
   ]
  },
  {
   "cell_type": "code",
   "execution_count": 2,
   "metadata": {
    "collapsed": false
   },
   "outputs": [
    {
     "data": {
      "text/plain": [
       "1.959963984540054"
      ]
     },
     "execution_count": 2,
     "metadata": {},
     "output_type": "execute_result"
    }
   ],
   "source": [
    "alpha = 1 - 0.95\n",
    "z = abs(stats.norm.ppf(alpha/2))\n",
    "z"
   ]
  },
  {
   "cell_type": "markdown",
   "metadata": {},
   "source": [
    "В принципе это стандартное значение и его часто округляют до 1.96, а иногда используют правило двух сигм и берут это значение равны просто 2."
   ]
  },
  {
   "cell_type": "markdown",
   "metadata": {},
   "source": [
    "#### 2) Оперделяем стандартную ошибку среднего $SE = \\frac{\\sigma}{\\sqrt{n}}$"
   ]
  },
  {
   "cell_type": "code",
   "execution_count": 3,
   "metadata": {
    "collapsed": false
   },
   "outputs": [
    {
     "data": {
      "text/plain": [
       "0.9899494936611665"
      ]
     },
     "execution_count": 3,
     "metadata": {},
     "output_type": "execute_result"
    }
   ],
   "source": [
    "sigma = 7\n",
    "n = 50\n",
    "SE = sigma/math.sqrt(n)\n",
    "SE"
   ]
  },
  {
   "cell_type": "markdown",
   "metadata": {},
   "source": [
    "#### 3) Рассчитать нижнюю и верхнуюю границы доверительного интервала. Они определяются как $\\bar{x}\\pm z*SE$."
   ]
  },
  {
   "cell_type": "code",
   "execution_count": 4,
   "metadata": {
    "collapsed": false
   },
   "outputs": [
    {
     "data": {
      "text/plain": [
       "(88.059734645910453, 91.940265354089547)"
      ]
     },
     "execution_count": 4,
     "metadata": {},
     "output_type": "execute_result"
    }
   ],
   "source": [
    "xbar = 90\n",
    "ci_low = xbar - z * SE # ci - сокращение от confidence interval\n",
    "ci_hi = xbar + z * SE\n",
    "(ci_low, ci_hi)"
   ]
  },
  {
   "cell_type": "markdown",
   "metadata": {},
   "source": [
    "Получилось, что 95% доверительный интервал для средней скорости составил (88.06, 91.94). Так же можно сказать, что есть 95% вероятность того, что истинное среднее по совокупности лежит в интервале от 88.06 до 91.94. Как это интерпретировать? Например так: если брать из нашей совокупности выборки по 50, находить среднее по выборке и строить на его основе интервалы по приведенной выше схеме, то только 95% из этих интервалов будут содержать истинное среднее по совокупности. Но зачем же верить мне на слово? У нас есть питон и мы можем убедиться в том, что доверительные интервалы работают именно так, с помощью экспериментов над случайными числами (надеюсь числа не пострадают)! Давайте сделаем это! Я напишу следующую функцию:"
   ]
  },
  {
   "cell_type": "code",
   "execution_count": 5,
   "metadata": {
    "collapsed": true
   },
   "outputs": [],
   "source": [
    "def test_conf_norm(dist,alpha,n,num_exp=10000):\n",
    "    \n",
    "    z = abs(stats.norm.ppf(alpha/2))\n",
    "    mu = dist.mean()\n",
    "    sigma = dist.std()\n",
    "    \n",
    "    result_norm = np.zeros(num_exp)\n",
    "    \n",
    "    for exp in range(num_exp):\n",
    "    \n",
    "        sample = dist.rvs(n)\n",
    "        xbar = np.mean(sample)\n",
    "        \n",
    "        SE = sigma/math.sqrt(len(sample))\n",
    "        \n",
    "        ci_low_norm = xbar - z*SE\n",
    "        ci_hi_norm = xbar + z*SE\n",
    "        \n",
    "        if ci_low_norm <= mu <= ci_hi_norm:\n",
    "            result_norm[exp] = 1\n",
    "        \n",
    "    return result_norm.mean()"
   ]
  },
  {
   "cell_type": "markdown",
   "metadata": {},
   "source": [
    "Эта функция берет на вход распределение dist (объект распределения из scipy.stats), alpha (1 - доверительный уровень), размер выборки n и количество экспериментов (по умолчанию это 10000). Функция строит 10000 доверительных интервалов и проверяет, столько из них содержит истинное среднее. На выходе она дает долю экспериментов, в которых доверительный интервал содержал истинное среднее. Давайте создадим наше распределение со средними скоростями и прогоним для него эту функцию."
   ]
  },
  {
   "cell_type": "code",
   "execution_count": 6,
   "metadata": {
    "collapsed": false
   },
   "outputs": [
    {
     "data": {
      "text/plain": [
       "0.94869999999999999"
      ]
     },
     "execution_count": 6,
     "metadata": {},
     "output_type": "execute_result"
    }
   ],
   "source": [
    "mean_speed = stats.norm(loc=90,scale=7)\n",
    "test_conf_norm(mean_speed,0.05,50)"
   ]
  },
  {
   "cell_type": "markdown",
   "metadata": {},
   "source": [
    "Проведя 10000 экспериментов, мы получили долю доверительных интервалов (с доверительным уровнем 95%) содержащих истинное среднее очень близкую к 0.95 - что и требовалось доказать. Кстати, при известном стандартном отклонении по нормально распределенной совокупности доверительные интервалы будут работать даже при очень маленьких выборках."
   ]
  },
  {
   "cell_type": "code",
   "execution_count": 7,
   "metadata": {
    "collapsed": false
   },
   "outputs": [
    {
     "data": {
      "text/plain": [
       "0.95240000000000002"
      ]
     },
     "execution_count": 7,
     "metadata": {},
     "output_type": "execute_result"
    }
   ],
   "source": [
    "test_conf_norm(mean_speed,0.05,4)"
   ]
  },
  {
   "cell_type": "markdown",
   "metadata": {},
   "source": [
    "Но что если нам не известно стандартное отклонение по совокупноти? Ведь в реальных ситуациях у нас есть выборка, и больше мы ничего не знаем. В этом случае, если выборка достаточно большая (n >= 30) можно использовать стандартное отклонение по выборке вместо стандартно отклонения по совокупности. Давайте должным образом изменим первую функцию и проведем эксперементы."
   ]
  },
  {
   "cell_type": "code",
   "execution_count": 8,
   "metadata": {
    "collapsed": true
   },
   "outputs": [],
   "source": [
    "def test_conf_norm_s(dist,alpha,n,num_exp=10000):\n",
    "    \n",
    "    z = abs(stats.norm.ppf(alpha/2))\n",
    "    mu = dist.mean()\n",
    "    \n",
    "    result_norm = np.zeros(num_exp)\n",
    "    \n",
    "    for exp in range(num_exp):\n",
    "    \n",
    "        sample = dist.rvs(n)\n",
    "        xbar = np.mean(sample)\n",
    "        s = sample.std(ddof=1) # ddof=1 для несмещенной оценки\n",
    "        \n",
    "        SE = s/math.sqrt(len(sample)) # s вместо sigma\n",
    "        \n",
    "        ci_low_norm = xbar - z*SE\n",
    "        ci_hi_norm = xbar + z*SE\n",
    "        \n",
    "        if ci_low_norm <= mu <= ci_hi_norm:\n",
    "            result_norm[exp] = 1\n",
    "        \n",
    "    return result_norm.mean()"
   ]
  },
  {
   "cell_type": "code",
   "execution_count": 9,
   "metadata": {
    "collapsed": false
   },
   "outputs": [
    {
     "data": {
      "text/plain": [
       "0.94210000000000005"
      ]
     },
     "execution_count": 9,
     "metadata": {},
     "output_type": "execute_result"
    }
   ],
   "source": [
    "test_conf_norm_s(mean_speed,0.05,50)"
   ]
  },
  {
   "cell_type": "markdown",
   "metadata": {},
   "source": [
    "Как видим - все работает. Но что если выборка маленькая (n < 30)?"
   ]
  },
  {
   "cell_type": "code",
   "execution_count": 10,
   "metadata": {
    "collapsed": false
   },
   "outputs": [
    {
     "data": {
      "text/plain": [
       "0.85360000000000003"
      ]
     },
     "execution_count": 10,
     "metadata": {},
     "output_type": "execute_result"
    }
   ],
   "source": [
    "test_conf_norm_s(mean_speed,0.05,4)"
   ]
  },
  {
   "cell_type": "markdown",
   "metadata": {},
   "source": [
    "Не работает(. Что же делать? Нужно использовать распределение Стьюдента и вместо z-статистики считать t-статистику. Распределение Стьюдента задается одним параметром - количеством степеней свободы, которое равно n-1. Изменим нашу функцию соответствующим образом и проверим будут ли работать доверительные интревалы."
   ]
  },
  {
   "cell_type": "code",
   "execution_count": 11,
   "metadata": {
    "collapsed": true
   },
   "outputs": [],
   "source": [
    "def test_conf_t_s(dist,alpha,n,num_exp=10000):\n",
    "    \n",
    "    t = abs(stats.t.ppf(alpha/2,n-1)) # t-статистика\n",
    "    mu = dist.mean()\n",
    "    \n",
    "    result_norm = np.zeros(num_exp)\n",
    "    \n",
    "    for exp in range(num_exp):\n",
    "    \n",
    "        sample = dist.rvs(n)\n",
    "        xbar = np.mean(sample)\n",
    "        s = sample.std(ddof=1) # ddof=1 для несмещенной оценки\n",
    "        \n",
    "        SE = s/math.sqrt(len(sample)) # s вместо sigma\n",
    "        \n",
    "        ci_low_norm = xbar - t*SE # меняем z на t\n",
    "        ci_hi_norm = xbar + t*SE\n",
    "        \n",
    "        if ci_low_norm <= mu <= ci_hi_norm:\n",
    "            result_norm[exp] = 1\n",
    "        \n",
    "    return result_norm.mean()"
   ]
  },
  {
   "cell_type": "code",
   "execution_count": 12,
   "metadata": {
    "collapsed": false
   },
   "outputs": [
    {
     "data": {
      "text/plain": [
       "0.95150000000000001"
      ]
     },
     "execution_count": 12,
     "metadata": {},
     "output_type": "execute_result"
    }
   ],
   "source": [
    "test_conf_t_s(mean_speed,0.05,4)"
   ]
  },
  {
   "cell_type": "markdown",
   "metadata": {},
   "source": [
    "Вот! Другое дело! Вообще формально при неизвестном $\\sigma$ совокупности мы должны всегда использовать t-статистику, но при n >= 30 t-распределение практически ни чем не отличается от z-распределения (стандартного нормального распределения). При построении доверительных интервалов можно руководствоваться следующими правилами:\n",
    "\n",
    "| Условия | Доверительный интревал |         \n",
    "| :- |:-------------: |\n",
    "|n >= 30, $\\sigma$ известно, любая совокупность|  $\\bar{x}\\pm z\\frac{\\sigma}{\\sqrt{n}}$. |\n",
    "|n >= 30, $\\sigma$ неизвестно, любая совокупность|  $\\bar{x}\\pm t\\frac{s}{\\sqrt{n}}$. |\n",
    "|n < 30, $\\sigma$ известно, норм. совокупность|  $\\bar{x}\\pm z\\frac{\\sigma}{\\sqrt{n}}$. |\n",
    "|n < 30, $\\sigma$ неизвестно, норм. совокупность|  $\\bar{x}\\pm t\\frac{s}{\\sqrt{n}}$. |"
   ]
  },
  {
   "cell_type": "markdown",
   "metadata": {},
   "source": [
    "Теперь давайте рассмотрим доверительные интервалы для доли. Например представим, что мы опросили 50 владельцев iPhone 6s и 30 из них подтвердили, что собираются купить iPhone SE. Нужно построить 95% доверительный интервал для этой доли. Что будем делать?"
   ]
  },
  {
   "cell_type": "markdown",
   "metadata": {},
   "source": [
    "#### 1) Рассчитаем долю $p = \\frac{кол-во успехов}{n} $"
   ]
  },
  {
   "cell_type": "code",
   "execution_count": 13,
   "metadata": {
    "collapsed": false
   },
   "outputs": [
    {
     "data": {
      "text/plain": [
       "0.6"
      ]
     },
     "execution_count": 13,
     "metadata": {},
     "output_type": "execute_result"
    }
   ],
   "source": [
    "p = 30/50.\n",
    "p"
   ]
  },
  {
   "cell_type": "markdown",
   "metadata": {},
   "source": [
    "#### 2) Рассчитаем z-статистику для уровня 95%."
   ]
  },
  {
   "cell_type": "code",
   "execution_count": 14,
   "metadata": {
    "collapsed": false
   },
   "outputs": [
    {
     "data": {
      "text/plain": [
       "1.9599639845400545"
      ]
     },
     "execution_count": 14,
     "metadata": {},
     "output_type": "execute_result"
    }
   ],
   "source": [
    "alpha = 0.05\n",
    "n = 50\n",
    "z = abs(stats.norm.ppf(alpha/2))\n",
    "z"
   ]
  },
  {
   "cell_type": "markdown",
   "metadata": {},
   "source": [
    "#### 3) Рассчитаем стандартную ошибку среднего $SE = \\sqrt{\\frac{pq}{n}} $, где $q = 1 - p$"
   ]
  },
  {
   "cell_type": "code",
   "execution_count": 15,
   "metadata": {
    "collapsed": false
   },
   "outputs": [
    {
     "data": {
      "text/plain": [
       "0.06928203230275509"
      ]
     },
     "execution_count": 15,
     "metadata": {},
     "output_type": "execute_result"
    }
   ],
   "source": [
    "q = 1-p\n",
    "SE = math.sqrt(p*q/n)\n",
    "SE"
   ]
  },
  {
   "cell_type": "markdown",
   "metadata": {},
   "source": [
    "#### 4) Рассчитаем границы доверительного интервала $p\\pm t*SE$"
   ]
  },
  {
   "cell_type": "code",
   "execution_count": 16,
   "metadata": {
    "collapsed": false
   },
   "outputs": [
    {
     "data": {
      "text/plain": [
       "(0.46420971191085936, 0.7357902880891406)"
      ]
     },
     "execution_count": 16,
     "metadata": {},
     "output_type": "execute_result"
    }
   ],
   "source": [
    "ci_low = p - z*SE\n",
    "ci_hi = p + z*SE\n",
    "ci_low, ci_hi"
   ]
  },
  {
   "cell_type": "markdown",
   "metadata": {},
   "source": [
    "Интерпретируем: есть 95% вероятность того, что истинная доля желающих купить iPhone SE находится в интервале от 0.46 до 0.74. Можно вместо доли и проценты использовать - людям это более понятно."
   ]
  },
  {
   "cell_type": "markdown",
   "metadata": {},
   "source": [
    "Теперь нужно провести эксперименты. В данном случае опрос одного человека - это испытание Бернулии, т.е. да или нет с фиксированной вероятностью. Давайте представим, что истинная доля желающих купить iPhone SE действительно равна 0.6. Создадим функцию, которая будет проводить эксперименты для распределения Бернулли. Для этого нужно лишь изменить формулу."
   ]
  },
  {
   "cell_type": "code",
   "execution_count": 17,
   "metadata": {
    "collapsed": false
   },
   "outputs": [],
   "source": [
    "def test_conf_bern(dist,alpha,n,num_exp=10000):\n",
    "    \n",
    "    z = abs(stats.norm.ppf(alpha/2))\n",
    "    mu = dist.mean()\n",
    "    \n",
    "    result_norm = np.zeros(num_exp)\n",
    "    \n",
    "    for exp in range(num_exp):\n",
    "    \n",
    "        sample = dist.rvs(n)\n",
    "        p = sample.mean()\n",
    "        q = 1 - p\n",
    "        SE = math.sqrt((p*q)/n)\n",
    "        \n",
    "        ci_low_norm = p - z*SE\n",
    "        ci_hi_norm = p + z*SE\n",
    "        \n",
    "        if ci_low_norm <= mu <= ci_hi_norm:\n",
    "            result_norm[exp] = 1\n",
    "        \n",
    "    return result_norm.mean()"
   ]
  },
  {
   "cell_type": "markdown",
   "metadata": {},
   "source": [
    "Создадим наше распределение Бернулли и протестируем доверительные интервалы."
   ]
  },
  {
   "cell_type": "code",
   "execution_count": 18,
   "metadata": {
    "collapsed": false
   },
   "outputs": [
    {
     "data": {
      "text/plain": [
       "0.94530000000000003"
      ]
     },
     "execution_count": 18,
     "metadata": {},
     "output_type": "execute_result"
    }
   ],
   "source": [
    "iphone_bern = stats.bernoulli(0.6)\n",
    "test_conf_bern(iphone_bern,0.05,50)"
   ]
  },
  {
   "cell_type": "markdown",
   "metadata": {},
   "source": [
    "Все работает, отлично! Но почему мы вообще используем z-статистику в случае с долей? А все потому, что мы в данном случае апроксимируем биномиальное распределение с помощью нормального. Стоп. Но откуда взялось биномиальное распределение? Биномиальное распределение - это распределение количества успехов в последовательности из независимых случайных экспериментов или испытаний Бернулли. В принципе, можно было даже не писать новую функцию, а просто сделать биномиальное распределение и подставить его в одну из уже написанных функций."
   ]
  },
  {
   "cell_type": "code",
   "execution_count": 19,
   "metadata": {
    "collapsed": false
   },
   "outputs": [
    {
     "data": {
      "text/plain": [
       "0.93869999999999998"
      ]
     },
     "execution_count": 19,
     "metadata": {},
     "output_type": "execute_result"
    }
   ],
   "source": [
    "iphone_binom = stats.binom(50,0.6)\n",
    "test_conf_norm_s(iphone_binom,0.05,50)"
   ]
  },
  {
   "cell_type": "markdown",
   "metadata": {},
   "source": [
    "Важно помнить, что нормальную апроксимацию биномиального распределения можно использовать только при $np >= 5$ и $nq >= 5$. Так же нормальная апроксимация плохо работает в случае с очень маленькими или очень большими долями. Существует еще несколько методов определения доверительных интервалов для пропорций, например доверительный интервал Клоппера-Пирсона. Приведу пример, когда нормальная апроксимация не работает - скажем в опросе про iPhone из 50 человек положительно ответил только один. Построим доверительный интервал использую нормальную апроксимацию. Для этого я воспользуюсь функцией доверительных интервалов из statmodels."
   ]
  },
  {
   "cell_type": "code",
   "execution_count": 20,
   "metadata": {
    "collapsed": false
   },
   "outputs": [
    {
     "data": {
      "text/plain": [
       "(-0.018805307081790987, 0.058805307081790992)"
      ]
     },
     "execution_count": 20,
     "metadata": {},
     "output_type": "execute_result"
    }
   ],
   "source": [
    "import statsmodels.api as sm\n",
    "sm.stats.proportion_confint(1,50,alpha=0.05,method='normal')"
   ]
  },
  {
   "cell_type": "markdown",
   "metadata": {},
   "source": [
    "Доля не может быть отрицательной! В этом случае нормальную апроксимацию использовать нельзя. Теперь рассчитаем с помощью Клоппера-Пирсона."
   ]
  },
  {
   "cell_type": "code",
   "execution_count": 21,
   "metadata": {
    "collapsed": false
   },
   "outputs": [
    {
     "data": {
      "text/plain": [
       "(0.00050622798304082901, 0.10646954571149991)"
      ]
     },
     "execution_count": 21,
     "metadata": {},
     "output_type": "execute_result"
    }
   ],
   "source": [
    "sm.stats.proportion_confint(1,50,alpha=0.05,method='beta')"
   ]
  },
  {
   "cell_type": "markdown",
   "metadata": {},
   "source": [
    "Совсем другой доверительный интервал, и в данном случае лучше использовать его. А beta там потому, что в основе этого метода лежит бета-распределение. Ну и в завершение, проведем так же эксперименты. Создадим распределение с маленькой долей и посмотрим, как сработает нормальная апроксимация."
   ]
  },
  {
   "cell_type": "code",
   "execution_count": 22,
   "metadata": {
    "collapsed": false
   },
   "outputs": [
    {
     "data": {
      "text/plain": [
       "0.88460000000000005"
      ]
     },
     "execution_count": 22,
     "metadata": {},
     "output_type": "execute_result"
    }
   ],
   "source": [
    "small_proportion = stats.bernoulli(0.1)\n",
    "test_conf_bern(small_proportion,0.05,50)"
   ]
  },
  {
   "cell_type": "markdown",
   "metadata": {},
   "source": [
    "Как видно результат совсем неудовлетворительный. Напишем функцию, которая будет тестировать доверительный интервал Клоппера-Пирсона."
   ]
  },
  {
   "cell_type": "code",
   "execution_count": 23,
   "metadata": {
    "collapsed": true
   },
   "outputs": [],
   "source": [
    "def test_conf_bern_beta(dist,alpha,n,num_exp=10000):\n",
    "    \n",
    "    z = abs(stats.norm.ppf(alpha/2))\n",
    "    mu = dist.mean()\n",
    "    \n",
    "    result_norm = np.zeros(num_exp)\n",
    "    \n",
    "    for exp in range(num_exp):\n",
    "    \n",
    "        sample = dist.rvs(n)\n",
    "        success = sample.sum()\n",
    "        \n",
    "        ci_low_norm, ci_hi_norm = \\\n",
    "        sm.stats.proportion_confint(success,n,alpha=alpha,method='beta')\n",
    "        \n",
    "        if ci_low_norm <= mu <= ci_hi_norm:\n",
    "            result_norm[exp] = 1\n",
    "        \n",
    "    return result_norm.mean()"
   ]
  },
  {
   "cell_type": "code",
   "execution_count": 24,
   "metadata": {
    "collapsed": false
   },
   "outputs": [
    {
     "data": {
      "text/plain": [
       "0.97099999999999997"
      ]
     },
     "execution_count": 24,
     "metadata": {},
     "output_type": "execute_result"
    }
   ],
   "source": [
    "test_conf_bern_beta(small_proportion,0.05,50)"
   ]
  },
  {
   "cell_type": "markdown",
   "metadata": {},
   "source": [
    "Результат гораздо лучше! На этом пока все."
   ]
  }
 ],
 "metadata": {
  "kernelspec": {
   "display_name": "Python 2",
   "language": "python",
   "name": "python2"
  },
  "language_info": {
   "codemirror_mode": {
    "name": "ipython",
    "version": 2
   },
   "file_extension": ".py",
   "mimetype": "text/x-python",
   "name": "python",
   "nbconvert_exporter": "python",
   "pygments_lexer": "ipython2",
   "version": "2.7.11"
  }
 },
 "nbformat": 4,
 "nbformat_minor": 0
}
