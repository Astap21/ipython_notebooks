{
 "cells": [
  {
   "cell_type": "markdown",
   "metadata": {},
   "source": [
    "# Статистика наизусть: A/B тестирование ч.1"
   ]
  },
  {
   "cell_type": "markdown",
   "metadata": {},
   "source": [
    "Давайте сегодня поговорим о знаменитом A/B тестировании. Классическим примером является случайный показ пользователям двух разных баннеров и определение того, какой из этих двух баннеров эффективнее. Какой критерий эффективности баннера? Конечно же клики! Т.е. пользователь может кликнуть на баннер или не кликнуть. Представим, что у нас есть баннер A и баннер B и слудующая ситуция:"
   ]
  },
  {
   "cell_type": "code",
   "execution_count": 4,
   "metadata": {
    "collapsed": true
   },
   "outputs": [],
   "source": [
    "import pandas as pd\n",
    "import numpy as np"
   ]
  },
  {
   "cell_type": "code",
   "execution_count": 6,
   "metadata": {
    "collapsed": false
   },
   "outputs": [
    {
     "data": {
      "text/html": [
       "<div>\n",
       "<table border=\"1\" class=\"dataframe\">\n",
       "  <thead>\n",
       "    <tr style=\"text-align: right;\">\n",
       "      <th></th>\n",
       "      <th>Показы</th>\n",
       "      <th>Клики</th>\n",
       "    </tr>\n",
       "  </thead>\n",
       "  <tbody>\n",
       "    <tr>\n",
       "      <th>A</th>\n",
       "      <td>1000</td>\n",
       "      <td>990</td>\n",
       "    </tr>\n",
       "    <tr>\n",
       "      <th>B</th>\n",
       "      <td>1000</td>\n",
       "      <td>10</td>\n",
       "    </tr>\n",
       "  </tbody>\n",
       "</table>\n",
       "</div>"
      ],
      "text/plain": [
       "   Показы  Клики\n",
       "A    1000    990\n",
       "B    1000     10"
      ]
     },
     "execution_count": 6,
     "metadata": {},
     "output_type": "execute_result"
    }
   ],
   "source": [
    "case1 = pd.DataFrame([[1000,990],[1000,10]],\n",
    "                     index=['A','B'],\n",
    "                     columns=['Показы','Клики'],)\n",
    "case1"
   ]
  },
  {
   "cell_type": "markdown",
   "metadata": {},
   "source": [
    "Очевидно, что баннер A работает лучше. Но если мы имеем такую ситуацию:"
   ]
  },
  {
   "cell_type": "code",
   "execution_count": 7,
   "metadata": {
    "collapsed": false
   },
   "outputs": [
    {
     "data": {
      "text/html": [
       "<div>\n",
       "<table border=\"1\" class=\"dataframe\">\n",
       "  <thead>\n",
       "    <tr style=\"text-align: right;\">\n",
       "      <th></th>\n",
       "      <th>Показы</th>\n",
       "      <th>Клики</th>\n",
       "    </tr>\n",
       "  </thead>\n",
       "  <tbody>\n",
       "    <tr>\n",
       "      <th>A</th>\n",
       "      <td>1000</td>\n",
       "      <td>200</td>\n",
       "    </tr>\n",
       "    <tr>\n",
       "      <th>B</th>\n",
       "      <td>1000</td>\n",
       "      <td>180</td>\n",
       "    </tr>\n",
       "  </tbody>\n",
       "</table>\n",
       "</div>"
      ],
      "text/plain": [
       "   Показы  Клики\n",
       "A    1000    200\n",
       "B    1000    180"
      ]
     },
     "execution_count": 7,
     "metadata": {},
     "output_type": "execute_result"
    }
   ],
   "source": [
    "case2 = pd.DataFrame([[1000,200],[1000,180]],\n",
    "                     index=['A','B'],\n",
    "                     columns=['Показы','Клики'],)\n",
    "case2"
   ]
  },
  {
   "cell_type": "markdown",
   "metadata": {},
   "source": [
    "Можем ли мы заявлять, что баннер A рабоет лучше? Здесь нам на помощь приходит статистика! Давайте вместе во всем разберемся. Похоже, что придется проверять какую-то гипотезу. А именно гипотезу о разности долей. Делается это следующим образом. При больших выборках биноминальное распределение (а у нас именно такое в данном случаее) может быть апроксимировано с помощью нормального. Чтобы использовать нормальное распределение нам нужно знать среднее значение или стандартное отклонение. Эти параметры получаеются следующим образом:\n",
    "\n",
    "$$ \\mu = p $$\n",
    "\n",
    "$$ \\sigma = \\sqrt{\\frac{p*(1-p)}{n}}$$\n",
    "\n",
    "Значение p - это доля успехов, т.е. количество кликов деленное на количество показов баннера. Далее сформулируем основную и альтернативную гипотезы:\n",
    "\n",
    "H0: p_A - p_B = 0\n",
    "<br>H1: p_A - p_B != 0 </br>\n",
    "\n",
    "Основная гипотеза - доли двух выборок не отличаются, альтернативная - доли отличаются. Апроксимируя доли выборок как нормальные переменные, мы так же предпологаем, что их разница будет иметь нормальное распределение со следующими средним и  стандартным отклонением:\n",
    "\n",
    "$$ \\mu_{A-B} = p_{B}-p_{A} $$\n",
    "\n",
    "$$ \\sigma_{A-B} = \\sqrt{\\sigma_{A}^2 + \\sigma_{B}^2}$$\n",
    "\n",
    "Далее остается только рассчитать z-статистику:\n",
    "\n",
    "$$ z = \\frac{\\mu_{A-B}}{\\sigma_{A-B}} $$\n",
    "\n",
    "А теперь давайте оденем всё это в любимый Питон и произведем расчеты."
   ]
  },
  {
   "cell_type": "code",
   "execution_count": 15,
   "metadata": {
    "collapsed": true
   },
   "outputs": [],
   "source": [
    "import math\n",
    "from __future__ import division\n",
    "def estimated_parameters(shown, clicked):\n",
    "    p = clicked / shown\n",
    "    sigma = math.sqrt(p * (1 - p) / shown)\n",
    "    return p, sigma\n",
    "\n",
    "def a_b_test_statistic(shown_A, clicked_A, shown_B, clicked_B):\n",
    "    p_A, sigma_A = estimated_parameters(shown_A, clicked_A)\n",
    "    p_B, sigma_B = estimated_parameters(shown_B, clicked_B)\n",
    "    return (p_B - p_A) / math.sqrt(sigma_A ** 2 + sigma_B ** 2)"
   ]
  },
  {
   "cell_type": "markdown",
   "metadata": {},
   "source": [
    "Рассчитаем z-статистику. Для наглядности я выведу еще раз выведу таблицу с исходными данными."
   ]
  },
  {
   "cell_type": "code",
   "execution_count": 25,
   "metadata": {
    "collapsed": false
   },
   "outputs": [
    {
     "data": {
      "text/html": [
       "<div>\n",
       "<table border=\"1\" class=\"dataframe\">\n",
       "  <thead>\n",
       "    <tr style=\"text-align: right;\">\n",
       "      <th></th>\n",
       "      <th>Показы</th>\n",
       "      <th>Клики</th>\n",
       "    </tr>\n",
       "  </thead>\n",
       "  <tbody>\n",
       "    <tr>\n",
       "      <th>A</th>\n",
       "      <td>1000</td>\n",
       "      <td>200</td>\n",
       "    </tr>\n",
       "    <tr>\n",
       "      <th>B</th>\n",
       "      <td>1000</td>\n",
       "      <td>180</td>\n",
       "    </tr>\n",
       "  </tbody>\n",
       "</table>\n",
       "</div>"
      ],
      "text/plain": [
       "   Показы  Клики\n",
       "A    1000    200\n",
       "B    1000    180"
      ]
     },
     "execution_count": 25,
     "metadata": {},
     "output_type": "execute_result"
    }
   ],
   "source": [
    "case2"
   ]
  },
  {
   "cell_type": "code",
   "execution_count": 17,
   "metadata": {
    "collapsed": false
   },
   "outputs": [
    {
     "data": {
      "text/plain": [
       "-1.1403464899034472"
      ]
     },
     "execution_count": 17,
     "metadata": {},
     "output_type": "execute_result"
    }
   ],
   "source": [
    "z = a_b_test_statistic(1000,200,1000,180)\n",
    "z"
   ]
  },
  {
   "cell_type": "markdown",
   "metadata": {},
   "source": [
    "А что мы делаем с z-статистикой? Правильно - рассчитываем p-value и делаем вывод отклонять или не отклонять основную гипотезу. Я возьму функцию нормального распределения из scipy. Нужно помнить, что эта функция считает одностороннее значение p, а в нашем случае гипотеза двухсторонняя, т.к. записана со знаком равенства (H0: p_A - p_B = 0 ). Вывод функции мы будем умножать на 2."
   ]
  },
  {
   "cell_type": "code",
   "execution_count": 22,
   "metadata": {
    "collapsed": true
   },
   "outputs": [],
   "source": [
    "from scipy.stats import norm"
   ]
  },
  {
   "cell_type": "code",
   "execution_count": 24,
   "metadata": {
    "collapsed": false
   },
   "outputs": [
    {
     "data": {
      "text/plain": [
       "0.25414197654223603"
      ]
     },
     "execution_count": 24,
     "metadata": {},
     "output_type": "execute_result"
    }
   ],
   "source": [
    "norm.cdf(z)*2"
   ]
  },
  {
   "cell_type": "markdown",
   "metadata": {},
   "source": [
    "Значение p получилось достаточно большим, а значит, что в данном случае мы не можем отклонить основную гипотезу о равенстве двух долей. Интересно, чтобы получилось бы если у нас были те же самые доли, но при большем количестве испытаний? Давайте проверим. Чтобы не хардкодить значения, я возьму их из дата-фрейма следующим образом:"
   ]
  },
  {
   "cell_type": "code",
   "execution_count": 29,
   "metadata": {
    "collapsed": false
   },
   "outputs": [
    {
     "data": {
      "text/plain": [
       "array([1000,  200, 1000,  180])"
      ]
     },
     "execution_count": 29,
     "metadata": {},
     "output_type": "execute_result"
    }
   ],
   "source": [
    "case2_values = case2.values.ravel()\n",
    "case2_values"
   ]
  },
  {
   "cell_type": "markdown",
   "metadata": {},
   "source": [
    "Теперь увеличим их в два раза и рассчитаем p-value."
   ]
  },
  {
   "cell_type": "code",
   "execution_count": 31,
   "metadata": {
    "collapsed": false
   },
   "outputs": [
    {
     "data": {
      "text/plain": [
       "-1.6126934718260086"
      ]
     },
     "execution_count": 31,
     "metadata": {},
     "output_type": "execute_result"
    }
   ],
   "source": [
    "z = a_b_test_statistic(*case2_values*2)\n",
    "z"
   ]
  },
  {
   "cell_type": "code",
   "execution_count": 32,
   "metadata": {
    "collapsed": false
   },
   "outputs": [
    {
     "data": {
      "text/plain": [
       "0.10681111954161675"
      ]
     },
     "execution_count": 32,
     "metadata": {},
     "output_type": "execute_result"
    }
   ],
   "source": [
    "norm.cdf(z)*2"
   ]
  },
  {
   "cell_type": "markdown",
   "metadata": {},
   "source": [
    "p уменьшилось! Это значит, что чем больше экспериментов мы проводим, тем более статистически значимой становится разница. Обычно нулевую гипотезу отвергают при значениях p меньше 0.05. Теперь вы знаете, как проводить A/B тестирование!\n",
    "\n",
    "Справедливости ради стоит отметить, что в данном случае мы использовали нормальное распределение не зная стандартного отклонинея совокупности - мы лишь апроксимировали его. В этой ситуации, по-хорошему мы должны были использовать распределение Стьюдента, но дело в том, что при больших выборках (а у нас была достаточно большая выборка) z-статистика будет совсем не сильно отличаться от t-статистики.\n",
    "\n",
    "Во второй части статьи про A/B тестирование я расскажу, как проводить A/B тестирование с помощью статистики хи-квадрат, а так же подробнее расскажу о самом хи-квадрате."
   ]
  }
 ],
 "metadata": {
  "kernelspec": {
   "display_name": "Python 2",
   "language": "python",
   "name": "python2"
  },
  "language_info": {
   "codemirror_mode": {
    "name": "ipython",
    "version": 2
   },
   "file_extension": ".py",
   "mimetype": "text/x-python",
   "name": "python",
   "nbconvert_exporter": "python",
   "pygments_lexer": "ipython2",
   "version": "2.7.11"
  }
 },
 "nbformat": 4,
 "nbformat_minor": 0
}
