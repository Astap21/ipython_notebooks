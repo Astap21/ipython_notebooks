{
 "cells": [
  {
   "cell_type": "markdown",
   "metadata": {},
   "source": [
    "# Статистика наизусть  - 2"
   ]
  },
  {
   "cell_type": "markdown",
   "metadata": {},
   "source": [
    "В данной статье я расскажу о Центральной предельной теореме, доверительных интервалах и проверке гипотез. Так же рассмотрим вычисление и интерпретацию p-value. Начнем с теоремы.\n",
    "\n",
    "[Центральная предельная теорема](https://ru.wikipedia.org/wiki/Центральная_предельная_теорема) гласит о том, что при увеличении размера выборки средние по выбоке начинают подчиняться нормальному закону распределения, а само среднее по выборке начинает стремиться к среднему по совокупности. Давайте проведем несколько экспериментов и посмотрим, как это работает."
   ]
  },
  {
   "cell_type": "code",
   "execution_count": 1,
   "metadata": {
    "collapsed": true
   },
   "outputs": [],
   "source": [
    "import numpy as np\n",
    "import matplotlib.pyplot as plt\n",
    "import scipy.stats as stats\n",
    "import random\n",
    "from math import sqrt\n",
    "%matplotlib inline\n",
    "np.random.seed(1)"
   ]
  },
  {
   "cell_type": "markdown",
   "metadata": {},
   "source": [
    "Создадим следующую равномерно распределенную совокупность. "
   ]
  },
  {
   "cell_type": "code",
   "execution_count": 2,
   "metadata": {
    "collapsed": false
   },
   "outputs": [
    {
     "data": {
      "text/plain": [
       "array([1, 1, 1, 1, 1, 1, 1, 1, 1, 1, 1, 1, 1, 1, 1, 1, 1, 1, 1, 1, 2, 2, 2,\n",
       "       2, 2, 2, 2, 2, 2, 2, 2, 2, 2, 2, 2, 2, 2, 2, 2, 2, 3, 3, 3, 3, 3, 3,\n",
       "       3, 3, 3, 3, 3, 3, 3, 3, 3, 3, 3, 3, 3, 3, 4, 4, 4, 4, 4, 4, 4, 4, 4,\n",
       "       4, 4, 4, 4, 4, 4, 4, 4, 4, 4, 4, 5, 5, 5, 5, 5, 5, 5, 5, 5, 5, 5, 5,\n",
       "       5, 5, 5, 5, 5, 5, 5, 5])"
      ]
     },
     "execution_count": 2,
     "metadata": {},
     "output_type": "execute_result"
    }
   ],
   "source": [
    "p = []\n",
    "for i in range(1,6):\n",
    "    p += [i]*20\n",
    "p = np.array(p)\n",
    "p"
   ]
  },
  {
   "cell_type": "code",
   "execution_count": 3,
   "metadata": {
    "collapsed": false
   },
   "outputs": [
    {
     "data": {
      "text/plain": [
       "(array([  0.,  20.,  20.,  20.,  20.,  20.,   0.]),\n",
       " array([-1.        ,  0.14285714,  1.28571429,  2.42857143,  3.57142857,\n",
       "         4.71428571,  5.85714286,  7.        ]),\n",
       " <a list of 7 Patch objects>)"
      ]
     },
     "execution_count": 3,
     "metadata": {},
     "output_type": "execute_result"
    },
    {
     "data": {
      "image/png": "[encoded data removed]",
      "text/plain": [
       "<matplotlib.figure.Figure at 0x1040fe3d0>"
      ]
     },
     "metadata": {},
     "output_type": "display_data"
    }
   ],
   "source": [
    "plt.hist(p,np.linspace(-1,7,8))"
   ]
  },
  {
   "cell_type": "markdown",
   "metadata": {},
   "source": [
    "И так у нас есть равномерно распределенная совокупность из 100 элементов - числа от 1 до 5 каждое взятое по 20 раз. А теперь давайте представим, что мы будем делать выборки по два элемента за раз. Какие будут все возможные уникальные перестановки?"
   ]
  },
  {
   "cell_type": "code",
   "execution_count": 4,
   "metadata": {
    "collapsed": false
   },
   "outputs": [
    {
     "data": {
      "text/plain": [
       "{(1, 1),\n",
       " (1, 2),\n",
       " (1, 3),\n",
       " (1, 4),\n",
       " (1, 5),\n",
       " (2, 1),\n",
       " (2, 2),\n",
       " (2, 3),\n",
       " (2, 4),\n",
       " (2, 5),\n",
       " (3, 1),\n",
       " (3, 2),\n",
       " (3, 3),\n",
       " (3, 4),\n",
       " (3, 5),\n",
       " (4, 1),\n",
       " (4, 2),\n",
       " (4, 3),\n",
       " (4, 4),\n",
       " (4, 5),\n",
       " (5, 1),\n",
       " (5, 2),\n",
       " (5, 3),\n",
       " (5, 4),\n",
       " (5, 5)}"
      ]
     },
     "execution_count": 4,
     "metadata": {},
     "output_type": "execute_result"
    }
   ],
   "source": [
    "from itertools import permutations\n",
    "perm = set(list(permutations(p,2)))\n",
    "perm"
   ]
  },
  {
   "cell_type": "markdown",
   "metadata": {},
   "source": [
    "Получается, что это все возможные варианты выборок по два элемента из этой совокупности. Давайте расчитаем среднее по по каждой выборке и посмотрим на распределения частот."
   ]
  },
  {
   "cell_type": "code",
   "execution_count": 5,
   "metadata": {
    "collapsed": false
   },
   "outputs": [
    {
     "data": {
      "text/plain": [
       "(array([ 0.  ,  0.  ,  0.04,  0.08,  0.12,  0.16,  0.2 ,  0.16,  0.12,\n",
       "         0.08,  0.04,  0.  ]),\n",
       " array([ 0. ,  0.5,  1. ,  1.5,  2. ,  2.5,  3. ,  3.5,  4. ,  4.5,  5. ,\n",
       "         5.5,  6. ]),\n",
       " <a list of 12 Patch objects>)"
      ]
     },
     "execution_count": 5,
     "metadata": {},
     "output_type": "execute_result"
    },
    {
     "data": {
      "image/png": "[encoded data removed]",
      "text/plain": [
       "<matplotlib.figure.Figure at 0x1079d3490>"
      ]
     },
     "metadata": {},
     "output_type": "display_data"
    }
   ],
   "source": [
    "means = [sum(i) / float(len(i)) for i in perm]\n",
    "weights = np.ones_like(means)/len(means)\n",
    "plt.hist(means, weights=weights,bins=np.linspace(0,6,num=13)) "
   ]
  },
  {
   "cell_type": "markdown",
   "metadata": {},
   "source": [
    "Невооруженным глазом видно, что это нормальное распределение, а самая большая частота у среднего равного 3. А какое среднее у совокупности?"
   ]
  },
  {
   "cell_type": "code",
   "execution_count": 6,
   "metadata": {
    "collapsed": false
   },
   "outputs": [
    {
     "data": {
      "text/plain": [
       "3.0"
      ]
     },
     "execution_count": 6,
     "metadata": {},
     "output_type": "execute_result"
    }
   ],
   "source": [
    "np.mean(p)"
   ]
  },
  {
   "cell_type": "markdown",
   "metadata": {},
   "source": [
    "Получилось 3, что и следовало ожидать. Теперь предлагаю посмтотреть как это работает на случайных выборках, а не теоретических. Будем делать по 25 выборок. Начнем с выбоки из 2 элементов (n = 2)."
   ]
  },
  {
   "cell_type": "code",
   "execution_count": 7,
   "metadata": {
    "collapsed": false
   },
   "outputs": [],
   "source": [
    "def sampling(p,n,k=25):\n",
    "    means = []\n",
    "    for i in range(k):\n",
    "        sample = p[np.random.randint(0,len(p),n)]\n",
    "        means.append(sample.mean())\n",
    "    weights = np.ones_like(means)/len(means)\n",
    "    plt.hist(means, weights=weights)"
   ]
  },
  {
   "cell_type": "code",
   "execution_count": 8,
   "metadata": {
    "collapsed": false
   },
   "outputs": [
    {
     "data": {
      "image/png": "[encoded data removed]",
      "text/plain": [
       "<matplotlib.figure.Figure at 0x1079df790>"
      ]
     },
     "metadata": {},
     "output_type": "display_data"
    }
   ],
   "source": [
    "sampling(p,2)"
   ]
  },
  {
   "cell_type": "markdown",
   "metadata": {},
   "source": [
    "Не очень похоже на нормальное. Возьмем n=10"
   ]
  },
  {
   "cell_type": "code",
   "execution_count": 9,
   "metadata": {
    "collapsed": false
   },
   "outputs": [
    {
     "data": {
      "image/png": "[encoded data removed]",
      "text/plain": [
       "<matplotlib.figure.Figure at 0x107cdcc90>"
      ]
     },
     "metadata": {},
     "output_type": "display_data"
    }
   ],
   "source": [
    "sampling(p,10)"
   ]
  },
  {
   "cell_type": "markdown",
   "metadata": {},
   "source": [
    "Уже лучше. Теперь n=20."
   ]
  },
  {
   "cell_type": "code",
   "execution_count": 10,
   "metadata": {
    "collapsed": false
   },
   "outputs": [
    {
     "data": {
      "image/png": "[encoded data removed]",
      "text/plain": [
       "<matplotlib.figure.Figure at 0x107f1d450>"
      ]
     },
     "metadata": {},
     "output_type": "display_data"
    }
   ],
   "source": [
    "sampling(p,20)"
   ]
  },
  {
   "cell_type": "markdown",
   "metadata": {},
   "source": [
    "Распределения становиться похожим на нормальное. Последнее попробуем выборки по 50 элементов."
   ]
  },
  {
   "cell_type": "code",
   "execution_count": 11,
   "metadata": {
    "collapsed": false
   },
   "outputs": [
    {
     "data": {
      "image/png": "[encoded data removed]",
      "text/plain": [
       "<matplotlib.figure.Figure at 0x107a33450>"
      ]
     },
     "metadata": {},
     "output_type": "display_data"
    }
   ],
   "source": [
    "sampling(p,50)"
   ]
  },
  {
   "cell_type": "markdown",
   "metadata": {},
   "source": [
    "Можете тоже поэкспереминтировать с этой функцией и убедиться, что центральная пределельная теорема рабоет. Но что же она нам дает? Очень многое на самом деле: зная, что распределение средних по выборке подчиняется нормальному закону, мы можем предсказывать это среднее! А зная то, что средние по выборке стремятся к среднему по совокупности, мы можем предсказывать среднее по совокупности, основываясь на данных выборки! В этом кстати заключается основной смысл статистики вывода - предсказывать параметры совокупности, основываясь на выборках. Давайте же перейдем к делу и будем уже что-нибудь предсказывать! Начнем с доверительных интервалов."
   ]
  },
  {
   "cell_type": "markdown",
   "metadata": {},
   "source": [
    "Доверительный интервал - это интервальная оценка параметра совокупности на основе выборки. У доверительного интрервала есть доверительный уровень, он выражется в процентах и означает вероятность того, что в интревальную оценку попадет параметр генеральной совокупности. Давайте попробуем понять, что значит доверительный интревал например 90%, используя график. Я создам нормальное распределение со средним = 0 и дисперсией = 1, а затем рассчитаю доверительный интервал 90%."
   ]
  },
  {
   "cell_type": "code",
   "execution_count": 12,
   "metadata": {
    "collapsed": false
   },
   "outputs": [
    {
     "data": {
      "text/plain": [
       "<matplotlib.lines.Line2D at 0x108914590>"
      ]
     },
     "execution_count": 12,
     "metadata": {},
     "output_type": "execute_result"
    },
    {
     "data": {
      "image/png": "[encoded data removed]",
      "text/plain": [
       "<matplotlib.figure.Figure at 0x107f434d0>"
      ]
     },
     "metadata": {},
     "output_type": "display_data"
    }
   ],
   "source": [
    "x = np.linspace(-4,4,100)\n",
    "norm_d = stats.norm.pdf(x,0,sqrt(1))\n",
    "z_c = stats.norm.ppf((1-0.9)/2)\n",
    "plt.plot(x,norm_d)\n",
    "plt.axvline(z_c,color='r')\n",
    "plt.axvline(-z_c,color='r')"
   ]
  },
  {
   "cell_type": "markdown",
   "metadata": {},
   "source": [
    "Вся соль в третьей строчке. Функция ppf это инверсия cdf. В учебниках это значение обычно определяют по таблицам нормального распределения. Но почему мы вычитаем доверительный уровень из единицы и делим его на 2? Что вернет функция ppf взятая от 0.9? Она возвращает верхнюю границу интервала, в который будет попадать случайная переменная с 90% вероятностью. Поскольку мы строим симметричный интревал относительно среднего, нам нужно ограничить 90% площади под кривой с двух сторон, поэтому и делим на 2."
   ]
  },
  {
   "cell_type": "markdown",
   "metadata": {},
   "source": [
    "Теперь приведу реальный пример определения доверительно интревала. Будем использовать созданную ранее популяцию p. Вопрос сформулируем так: определите доверительный интревал 90% для среднего имея выборку размером 31. Чтобы использовать нормальный закон распределения размер выборки должен быть >= 30. Возьмем выборку из 31 элемента и определим среднее и страндартное отклонение."
   ]
  },
  {
   "cell_type": "code",
   "execution_count": 13,
   "metadata": {
    "collapsed": false
   },
   "outputs": [
    {
     "data": {
      "text/plain": [
       "array([5, 2, 4, 1, 1, 4, 4, 4, 3, 3, 4, 1, 4, 1, 1, 4, 5, 2, 1, 4, 5, 3, 4,\n",
       "       4, 1, 3, 5, 1, 2, 4, 5])"
      ]
     },
     "execution_count": 13,
     "metadata": {},
     "output_type": "execute_result"
    }
   ],
   "source": [
    "sample = p[np.random.randint(0,len(p),31)]\n",
    "sample"
   ]
  },
  {
   "cell_type": "code",
   "execution_count": 14,
   "metadata": {
    "collapsed": false
   },
   "outputs": [
    {
     "data": {
      "text/plain": [
       "3.064516129032258"
      ]
     },
     "execution_count": 14,
     "metadata": {},
     "output_type": "execute_result"
    }
   ],
   "source": [
    "np.mean(sample)"
   ]
  },
  {
   "cell_type": "code",
   "execution_count": 15,
   "metadata": {
    "collapsed": false
   },
   "outputs": [
    {
     "data": {
      "text/plain": [
       "1.4576933584122587"
      ]
     },
     "execution_count": 15,
     "metadata": {},
     "output_type": "execute_result"
    }
   ],
   "source": [
    "np.std(sample)"
   ]
  },
  {
   "cell_type": "markdown",
   "metadata": {},
   "source": [
    "Для определения доверитльного интервала используется стандартная ошибка среднего, которая рассчитывается следующим образом:\n",
    "\n",
    "$$se = \\frac{s}{\\sqrt(n)}$$\n",
    "\n",
    "где s - страндартное отклонение совокупности (может быть рассчитано или оценено, как стандартное отклонение выборки), n - размер выборки."
   ]
  },
  {
   "cell_type": "code",
   "execution_count": 16,
   "metadata": {
    "collapsed": false
   },
   "outputs": [
    {
     "data": {
      "text/plain": [
       "0.26180945590005755"
      ]
     },
     "execution_count": 16,
     "metadata": {},
     "output_type": "execute_result"
    }
   ],
   "source": [
    "se = np.std(sample)/sqrt(len(sample))\n",
    "se"
   ]
  },
  {
   "cell_type": "markdown",
   "metadata": {},
   "source": [
    "Теперь рассчитаем критическое значение z-score для 90% доверительного уровня."
   ]
  },
  {
   "cell_type": "code",
   "execution_count": 17,
   "metadata": {
    "collapsed": false
   },
   "outputs": [
    {
     "data": {
      "text/plain": [
       "1.6448536269514729"
      ]
     },
     "execution_count": 17,
     "metadata": {},
     "output_type": "execute_result"
    }
   ],
   "source": [
    "z_c = abs(stats.norm.ppf((1-0.9)/2))\n",
    "z_c"
   ]
  },
  {
   "cell_type": "markdown",
   "metadata": {},
   "source": [
    "Теперь наконец-то определим доверительный интервал. Делается это так."
   ]
  },
  {
   "cell_type": "code",
   "execution_count": 18,
   "metadata": {
    "collapsed": false
   },
   "outputs": [
    {
     "data": {
      "text/plain": [
       "2.6338778959248565"
      ]
     },
     "execution_count": 18,
     "metadata": {},
     "output_type": "execute_result"
    }
   ],
   "source": [
    "# нижний уровень\n",
    "np.mean(sample) - z_c * se"
   ]
  },
  {
   "cell_type": "code",
   "execution_count": 19,
   "metadata": {
    "collapsed": false
   },
   "outputs": [
    {
     "data": {
      "text/plain": [
       "3.4951543621396595"
      ]
     },
     "execution_count": 19,
     "metadata": {},
     "output_type": "execute_result"
    }
   ],
   "source": [
    "# верхний уровень\n",
    "np.mean(sample) + z_c * se"
   ]
  },
  {
   "cell_type": "markdown",
   "metadata": {},
   "source": [
    "Мы построили 90% доверительный интервал для среднего: 2.27 <= m <= 3.21."
   ]
  },
  {
   "cell_type": "markdown",
   "metadata": {},
   "source": [
    "Что же делать, когда размер выборки меньше 30 и стандартное отклонение совокупности не известно? Закон нормального распределния использовать нельзя, но можно использовать распределение Стьюдента, делая допущение, что совокупность имеет нормальное распределение. Распределение Стьюдента - это как бы обобщенное нормальное распределение, созданное чтобы предсказывать параметры совокупности на малых выборках. Оно зависит от степеней свободы. Степени свободы определяются как n-1, где n - размер выборки. Степени свободы, это количество элементов, которые можно спокойно менять. Представьте выборку из трех элементов со средним 10. Мы можем сказать что первый элемент будет например равен 12, второй элемент 11, а вот третий элемент уже обязательно должен быть равен 30 - 12 - 11 = 7, т.к. среднее = 10. У нас нем свободы выбора самим определить третий элемент. Чем больше степеней свободы, тем сильнее распределение Стьюдента похоже на нормальное. Доверительный интервал определяется таким же образом, что и в случаее с нормальным распределением, только вместо z-статистики используется t-статистика."
   ]
  },
  {
   "cell_type": "markdown",
   "metadata": {},
   "source": [
    "Ответим на следующий вопрос: постройте доверительный интервал 95% для среднего по нормально распределенной совокупности, имея выборку [2,3,1,5,3,2,4,1,3]."
   ]
  },
  {
   "cell_type": "code",
   "execution_count": 20,
   "metadata": {
    "collapsed": true
   },
   "outputs": [],
   "source": [
    "sample2 = [2,3,1,5,3,2,4,1,3]"
   ]
  },
  {
   "cell_type": "markdown",
   "metadata": {},
   "source": [
    "Определим оценочную ошибку среднего. Почему оценочную? Потому, что стандартное отклонение совокупности нам не известно, и мы приближаем его к стандартному отклонению по выборке."
   ]
  },
  {
   "cell_type": "code",
   "execution_count": 21,
   "metadata": {
    "collapsed": false
   },
   "outputs": [
    {
     "data": {
      "text/plain": [
       "0.41573970964154899"
      ]
     },
     "execution_count": 21,
     "metadata": {},
     "output_type": "execute_result"
    }
   ],
   "source": [
    "se = np.std(sample2)/sqrt(len(sample2))\n",
    "se"
   ]
  },
  {
   "cell_type": "markdown",
   "metadata": {},
   "source": [
    "Вычислим критическое значение t статистики. Обратите внимание, что вторым агрументом t.ppf принимает степени свободы."
   ]
  },
  {
   "cell_type": "code",
   "execution_count": 22,
   "metadata": {
    "collapsed": false
   },
   "outputs": [
    {
     "data": {
      "text/plain": [
       "2.3060041350333704"
      ]
     },
     "execution_count": 22,
     "metadata": {},
     "output_type": "execute_result"
    }
   ],
   "source": [
    "t_c = abs(stats.t.ppf((1-.95)/2,len(sample2)-1))\n",
    "t_c"
   ]
  },
  {
   "cell_type": "markdown",
   "metadata": {},
   "source": [
    "Вычислим границы интервала."
   ]
  },
  {
   "cell_type": "code",
   "execution_count": 23,
   "metadata": {
    "collapsed": false
   },
   "outputs": [
    {
     "data": {
      "text/plain": [
       "1.7079691771356817"
      ]
     },
     "execution_count": 23,
     "metadata": {},
     "output_type": "execute_result"
    }
   ],
   "source": [
    "# нижняя граница\n",
    "np.mean(sample2) - t_c * se"
   ]
  },
  {
   "cell_type": "code",
   "execution_count": 24,
   "metadata": {
    "collapsed": false
   },
   "outputs": [
    {
     "data": {
      "text/plain": [
       "3.6253641561976515"
      ]
     },
     "execution_count": 24,
     "metadata": {},
     "output_type": "execute_result"
    }
   ],
   "source": [
    "# верхняя граница\n",
    "np.mean(sample2) + t_c * se"
   ]
  },
  {
   "cell_type": "markdown",
   "metadata": {},
   "source": [
    "Доверительный интревал 95% для среднего: 1.71 <= mean <= 3.63. Изобразим его так же и графически."
   ]
  },
  {
   "cell_type": "code",
   "execution_count": 25,
   "metadata": {
    "collapsed": false
   },
   "outputs": [
    {
     "data": {
      "text/plain": [
       "<matplotlib.lines.Line2D at 0x108a3ecd0>"
      ]
     },
     "execution_count": 25,
     "metadata": {},
     "output_type": "execute_result"
    },
    {
     "data": {
      "image/png": "[encoded data removed]",
      "text/plain": [
       "<matplotlib.figure.Figure at 0x107ccf050>"
      ]
     },
     "metadata": {},
     "output_type": "display_data"
    }
   ],
   "source": [
    "plt.plot(x,stats.t.pdf(x,len(sample2)-1))\n",
    "plt.axvline(t_c,color='r')\n",
    "plt.axvline(-t_c,color='r')"
   ]
  },
  {
   "cell_type": "markdown",
   "metadata": {},
   "source": [
    "Мы на 95% уверены, что среднее по совокупности нахоидтся в интревале от 1.71 до 3.63."
   ]
  },
  {
   "cell_type": "markdown",
   "metadata": {},
   "source": [
    "Перейдем к проверке гипотез. По сути это тоже самое, что и доверительные интревалы, только в проверке гипотез мы смотрим, попало ли значение в доверительный интревал или нет, и на основе этого отклоняем или не отклоняем основную гипотезу. Основная гипотеза или нулевая гипотеза обозначается как H0 и формулируется следующим образом - утрерждается, что какой-либо параметр совокупности =, <=, >= определенного значения. Альтернативная гипотеза (или исследовательская) обозначается как H1 и формулируется как противоположность основной гипотезе, изпользуя утверждения <, > или !=. Гипотеза всегда проверяется на определенном уровне значимости a (альфа), который является вероятностью ошибки первого рода (отклонить основую гипотезу когда основная гипотеза истинна). Уровень значимости a это как раз 1 минус доверительный интревал определнного уровня. Проверка гипотезы может быть двух сторонней, когда формулирется как утверждение с равенством, и односторонней, когда используются утверждения типа >= или <=. Начнем с односторонней проверки."
   ]
  },
  {
   "cell_type": "markdown",
   "metadata": {},
   "source": [
    "Проверьте гипотезу о том, что среднее по совокупности равно 2 на уровне значимости a = 0.05, имея выборку n = 30 средним равным 2 и стандратным отклонением по совокупности = 0.5. Сформулирем основную и альтернативну гипотезы."
   ]
  },
  {
   "cell_type": "markdown",
   "metadata": {},
   "source": [
    "H0: m = 2,\n",
    "H1: m != 2"
   ]
  },
  {
   "cell_type": "markdown",
   "metadata": {},
   "source": [
    "Рассчитаем стандартную ошибку среднего."
   ]
  },
  {
   "cell_type": "code",
   "execution_count": 26,
   "metadata": {
    "collapsed": false
   },
   "outputs": [
    {
     "data": {
      "text/plain": [
       "0.09128709291752768"
      ]
     },
     "execution_count": 26,
     "metadata": {},
     "output_type": "execute_result"
    }
   ],
   "source": [
    "se = 0.5/sqrt(30)\n",
    "se"
   ]
  },
  {
   "cell_type": "markdown",
   "metadata": {},
   "source": [
    "Теперь определим критическое значение z-score использую значение a=0.05. Т.к. проверка гипотезы двухсторонняя (утверждение равенства) нам нужно построть двухсторонний (симметричный относительно среднего) доверительный интервал вокруг гипотетического среднего. Значит альфа будем делить на 2."
   ]
  },
  {
   "cell_type": "code",
   "execution_count": 27,
   "metadata": {
    "collapsed": false
   },
   "outputs": [
    {
     "data": {
      "text/plain": [
       "1.9599639845400545"
      ]
     },
     "execution_count": 27,
     "metadata": {},
     "output_type": "execute_result"
    }
   ],
   "source": [
    "z_c = abs(stats.norm.ppf(.05/2))\n",
    "z_c"
   ]
  },
  {
   "cell_type": "markdown",
   "metadata": {},
   "source": [
    "Теперь определим доверительный интервал для гипотетического среднего."
   ]
  },
  {
   "cell_type": "code",
   "execution_count": 28,
   "metadata": {
    "collapsed": false
   },
   "outputs": [
    {
     "data": {
      "text/plain": [
       "1.8210805856282843"
      ]
     },
     "execution_count": 28,
     "metadata": {},
     "output_type": "execute_result"
    }
   ],
   "source": [
    "# нижняя граница\n",
    "2 - z_c * se"
   ]
  },
  {
   "cell_type": "code",
   "execution_count": 29,
   "metadata": {
    "collapsed": false
   },
   "outputs": [
    {
     "data": {
      "text/plain": [
       "2.1789194143717157"
      ]
     },
     "execution_count": 29,
     "metadata": {},
     "output_type": "execute_result"
    }
   ],
   "source": [
    "# верхняя граница\n",
    "2 + z_c * se"
   ]
  },
  {
   "cell_type": "markdown",
   "metadata": {},
   "source": [
    "Теперь посмотрим попадает ли выборчное среднее в этот интервал.  Значение 2.1 попадает в интервал от 1.82 до 2.18, значит мы не отвергаем основную гипотезу."
   ]
  },
  {
   "cell_type": "markdown",
   "metadata": {},
   "source": [
    "Этот же вывод можно сделать с помощью z-статистики. Для этого нам нужно рассчитать z-score для выборочного среднего. Делается это так:\n",
    "\n",
    "$$z = \\frac{m(sample) - m(H0)}{se} $$\n",
    "\n",
    "где m(H0) - гипотетическое среднее,\n",
    "m(sample) - выборочное среднее,\n",
    "se - страндартная ошибка среднего"
   ]
  },
  {
   "cell_type": "code",
   "execution_count": 30,
   "metadata": {
    "collapsed": false
   },
   "outputs": [
    {
     "data": {
      "text/plain": [
       "1.0954451150103333"
      ]
     },
     "execution_count": 30,
     "metadata": {},
     "output_type": "execute_result"
    }
   ],
   "source": [
    "z = (2.1-2)/se\n",
    "z"
   ]
  },
  {
   "cell_type": "code",
   "execution_count": 31,
   "metadata": {
    "collapsed": false
   },
   "outputs": [
    {
     "data": {
      "text/plain": [
       "<matplotlib.lines.Line2D at 0x108b7b550>"
      ]
     },
     "execution_count": 31,
     "metadata": {},
     "output_type": "execute_result"
    },
    {
     "data": {
      "image/png": "[encoded data removed]",
      "text/plain": [
       "<matplotlib.figure.Figure at 0x1089a3710>"
      ]
     },
     "metadata": {},
     "output_type": "display_data"
    }
   ],
   "source": [
    "plt.plot(x,norm_d)\n",
    "plt.axvline(z_c,color='r')\n",
    "plt.axvline(-z_c,color='r')\n",
    "plt.axvline(z,color='g')"
   ]
  },
  {
   "cell_type": "markdown",
   "metadata": {},
   "source": [
    "Мы видим, что значение z-score для выборочного среднего попало в доверительный итрервал. Следоватльено мы не отклоняем основную гипотезу. Так же мы можем рассчитать значение p-value для выборочного среднего."
   ]
  },
  {
   "cell_type": "code",
   "execution_count": 32,
   "metadata": {
    "collapsed": false
   },
   "outputs": [
    {
     "data": {
      "text/plain": [
       "0.1366608391461489"
      ]
     },
     "execution_count": 32,
     "metadata": {},
     "output_type": "execute_result"
    }
   ],
   "source": [
    "1 - stats.norm.cdf(z)"
   ]
  },
  {
   "cell_type": "markdown",
   "metadata": {},
   "source": [
    "p-value > a - соблюдение этого неравенства тоже позволяет нам не отклонять основную гипотезу. Очень часто различные функции в статистических пакетах на выходе дают значение p-value. Теперь мы знаем как его интрепретировать - чем больше значение p-value, тем с большей уверенностью мы не отклоняем основную гипотезу."
   ]
  },
  {
   "cell_type": "markdown",
   "metadata": {},
   "source": [
    "Теперь приведу пример с односторонней проверкой гипотезы. Допустим, что производитель утверждает, что изобрел батарейки, которые работают более 20 часаов. Было протестировано 40 батареек. Предположим стандартное отклонение совокупности равно 5.3 часа, а среднее по выборке получилось равно 22.5 часа. Нужно проверить гипотезу производителя на уровне значимости a = 0.01.\n",
    "\n",
    "Сформулируем основную и альтернативную гипотезы:\n",
    "H0: m <= 20;\n",
    "H1: m > 20.\n",
    "\n",
    "Почему так? Во первых потому, что основная гипотеза не может использовать строгое неравенство, а во вторых потому, что гипотеза производителя исследователькая, т.е. противоречит общепринятым знаниям о батарейках. Значит эта гипотеза альтернативная.\n",
    "\n",
    "Поскольку гипотезы сформулированы как неравенства - это будет одностороння проверка. Значит мы не будем делить a на два, и интревал с одной стороны никак не будет ограничен. Когда альтернативная гипотеза сформулирована как > определенного значения, мы будем искать критическое значение справа от средрего. \n",
    "\n",
    "Сначала рассчитаем критическое значение z."
   ]
  },
  {
   "cell_type": "code",
   "execution_count": 33,
   "metadata": {
    "collapsed": false
   },
   "outputs": [
    {
     "data": {
      "text/plain": [
       "2.3263478740408408"
      ]
     },
     "execution_count": 33,
     "metadata": {},
     "output_type": "execute_result"
    }
   ],
   "source": [
    "z_c = abs(stats.norm.ppf(.01))\n",
    "z_c"
   ]
  },
  {
   "cell_type": "markdown",
   "metadata": {},
   "source": [
    "Теперь определим z-score для выборочного среднего."
   ]
  },
  {
   "cell_type": "code",
   "execution_count": 34,
   "metadata": {
    "collapsed": false
   },
   "outputs": [
    {
     "data": {
      "text/plain": [
       "2.9832808114796032"
      ]
     },
     "execution_count": 34,
     "metadata": {},
     "output_type": "execute_result"
    }
   ],
   "source": [
    "z = (22.5 - 20)/(5.3/sqrt(40))\n",
    "z"
   ]
  },
  {
   "cell_type": "markdown",
   "metadata": {},
   "source": [
    "Построим график."
   ]
  },
  {
   "cell_type": "code",
   "execution_count": 35,
   "metadata": {
    "collapsed": false
   },
   "outputs": [
    {
     "data": {
      "text/plain": [
       "<matplotlib.lines.Line2D at 0x108c9cd50>"
      ]
     },
     "execution_count": 35,
     "metadata": {},
     "output_type": "execute_result"
    },
    {
     "data": {
      "image/png": "[encoded data removed]",
      "text/plain": [
       "<matplotlib.figure.Figure at 0x108983bd0>"
      ]
     },
     "metadata": {},
     "output_type": "display_data"
    }
   ],
   "source": [
    "plt.plot(x,norm_d)\n",
    "plt.axvline(z_c,color='r')\n",
    "plt.axvline(z,color='g')"
   ]
  },
  {
   "cell_type": "markdown",
   "metadata": {},
   "source": [
    "Мы видим, что зеленая линия оказалась слева от границы доверительного интревала и не попала в него, следовательно мы отклоняем основную гипотезу и принимаем альтернативную - утверждение производителя батареет имеет статистическое обоснование. Давайте рассчитаем p-value."
   ]
  },
  {
   "cell_type": "code",
   "execution_count": 36,
   "metadata": {
    "collapsed": false
   },
   "outputs": [
    {
     "data": {
      "text/plain": [
       "0.0014258810787186604"
      ]
     },
     "execution_count": 36,
     "metadata": {},
     "output_type": "execute_result"
    }
   ],
   "source": [
    "1 - stats.norm.cdf(z)"
   ]
  },
  {
   "cell_type": "markdown",
   "metadata": {},
   "source": [
    "p <= a - это позволяет нам не принять основную гипотезу. Почему я вычитаю из единицы? Потому что меня интересует вероятность попадания случайной переменной в интревал справа от зеленой линии, а функция cdf всегда возвращает значение, которое меньше либо равно z, т.е. слева от зеленой линии. Опять же - значение p-value очень мало в данном случаее, и мы не можем позволить себе принять основную гипотезу. Обычно статистики используют пороговое значение a = 0.055. Теперь, когда увидите где-нибудь значение p-value сравнивайте его в уме с этой константой и решайте - отвергать или не отвергать вашу нулевую гипотезу.\n",
    "\n",
    "Не буду писать о левосторонней проверки гипотезы - это тоже самое, только с другой стороны. Так же нужно понимать, что когда размер выборки меньше 30, для проверки гипотез нужно использовать распределение Стьюдента."
   ]
  },
  {
   "cell_type": "markdown",
   "metadata": {
    "collapsed": true
   },
   "source": [
    "На сегодня наверное все. В следующем выпуске Статистика наизусть я расскажу о ти-тесте и чи-квадрате. Для более основательного изучения концепций приведенных в этом статьи рекомендую воспользоваться следующими ссылками:\n",
    "1. [Книга: Доннелли Роберт - Статистика шаг за шагом](http://www.twirpx.com/file/1179942/).\n",
    "2. [Лекции МГУ по статистике](http://msu-students.ru/Stat_lectures/)."
   ]
  },
  {
   "cell_type": "code",
   "execution_count": null,
   "metadata": {
    "collapsed": true
   },
   "outputs": [],
   "source": []
  }
 ],
 "metadata": {
  "kernelspec": {
   "display_name": "Python 2",
   "language": "python",
   "name": "python2"
  },
  "language_info": {
   "codemirror_mode": {
    "name": "ipython",
    "version": 2
   },
   "file_extension": ".py",
   "mimetype": "text/x-python",
   "name": "python",
   "nbconvert_exporter": "python",
   "pygments_lexer": "ipython2",
   "version": "2.7.11"
  }
 },
 "nbformat": 4,
 "nbformat_minor": 0
}
